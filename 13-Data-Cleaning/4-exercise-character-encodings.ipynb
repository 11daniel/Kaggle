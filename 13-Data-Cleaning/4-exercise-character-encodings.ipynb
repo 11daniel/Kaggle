{
 "cells": [
  {
   "cell_type": "markdown",
   "id": "dcb31ddd",
   "metadata": {
    "papermill": {
     "duration": 0.007768,
     "end_time": "2024-10-26T14:33:34.552146",
     "exception": false,
     "start_time": "2024-10-26T14:33:34.544378",
     "status": "completed"
    },
    "tags": []
   },
   "source": [
    "**This notebook is an exercise in the [Data Cleaning](https://www.kaggle.com/learn/data-cleaning) course.  You can reference the tutorial at [this link](https://www.kaggle.com/alexisbcook/character-encodings).**\n",
    "\n",
    "---\n"
   ]
  },
  {
   "cell_type": "markdown",
   "id": "e2ffbc20",
   "metadata": {
    "papermill": {
     "duration": 0.006003,
     "end_time": "2024-10-26T14:33:34.565623",
     "exception": false,
     "start_time": "2024-10-26T14:33:34.559620",
     "status": "completed"
    },
    "tags": []
   },
   "source": [
    "In this exercise, you'll apply what you learned in the **Character encodings** tutorial.\n",
    "\n",
    "# Setup\n",
    "\n",
    "The questions below will give you feedback on your work. Run the following cell to set up the feedback system."
   ]
  },
  {
   "cell_type": "code",
   "execution_count": 1,
   "id": "4160e9ac",
   "metadata": {
    "execution": {
     "iopub.execute_input": "2024-10-26T14:33:34.580368Z",
     "iopub.status.busy": "2024-10-26T14:33:34.579955Z",
     "iopub.status.idle": "2024-10-26T14:33:35.513745Z",
     "shell.execute_reply": "2024-10-26T14:33:35.512274Z"
    },
    "papermill": {
     "duration": 0.944031,
     "end_time": "2024-10-26T14:33:35.516395",
     "exception": false,
     "start_time": "2024-10-26T14:33:34.572364",
     "status": "completed"
    },
    "tags": []
   },
   "outputs": [
    {
     "name": "stdout",
     "output_type": "stream",
     "text": [
      "Setup Complete\n"
     ]
    }
   ],
   "source": [
    "from learntools.core import binder\n",
    "binder.bind(globals())\n",
    "from learntools.data_cleaning.ex4 import *\n",
    "print(\"Setup Complete\")"
   ]
  },
  {
   "cell_type": "markdown",
   "id": "c051c959",
   "metadata": {
    "papermill": {
     "duration": 0.006231,
     "end_time": "2024-10-26T14:33:35.529185",
     "exception": false,
     "start_time": "2024-10-26T14:33:35.522954",
     "status": "completed"
    },
    "tags": []
   },
   "source": [
    "# Get our environment set up\n",
    "\n",
    "The first thing we'll need to do is load in the libraries we'll be using."
   ]
  },
  {
   "cell_type": "code",
   "execution_count": 2,
   "id": "4ee43e25",
   "metadata": {
    "execution": {
     "iopub.execute_input": "2024-10-26T14:33:35.543684Z",
     "iopub.status.busy": "2024-10-26T14:33:35.543258Z",
     "iopub.status.idle": "2024-10-26T14:33:35.549235Z",
     "shell.execute_reply": "2024-10-26T14:33:35.548017Z"
    },
    "papermill": {
     "duration": 0.016118,
     "end_time": "2024-10-26T14:33:35.551651",
     "exception": false,
     "start_time": "2024-10-26T14:33:35.535533",
     "status": "completed"
    },
    "tags": []
   },
   "outputs": [],
   "source": [
    "# modules we'll use\n",
    "import pandas as pd\n",
    "import numpy as np\n",
    "\n",
    "# helpful character encoding module\n",
    "import charset_normalizer\n",
    "\n",
    "# set seed for reproducibility\n",
    "np.random.seed(0)"
   ]
  },
  {
   "cell_type": "markdown",
   "id": "15d25708",
   "metadata": {
    "papermill": {
     "duration": 0.006232,
     "end_time": "2024-10-26T14:33:35.564334",
     "exception": false,
     "start_time": "2024-10-26T14:33:35.558102",
     "status": "completed"
    },
    "tags": []
   },
   "source": [
    "# 1) What are encodings?\n",
    "\n",
    "You're working with a dataset composed of bytes.  Run the code cell below to print a sample entry."
   ]
  },
  {
   "cell_type": "code",
   "execution_count": 3,
   "id": "074f154f",
   "metadata": {
    "execution": {
     "iopub.execute_input": "2024-10-26T14:33:35.578780Z",
     "iopub.status.busy": "2024-10-26T14:33:35.578352Z",
     "iopub.status.idle": "2024-10-26T14:33:35.584316Z",
     "shell.execute_reply": "2024-10-26T14:33:35.583204Z"
    },
    "papermill": {
     "duration": 0.01695,
     "end_time": "2024-10-26T14:33:35.587633",
     "exception": false,
     "start_time": "2024-10-26T14:33:35.570683",
     "status": "completed"
    },
    "tags": []
   },
   "outputs": [
    {
     "name": "stdout",
     "output_type": "stream",
     "text": [
      "b'\\xa7A\\xa6n'\n",
      "data type: <class 'bytes'>\n"
     ]
    }
   ],
   "source": [
    "sample_entry = b'\\xa7A\\xa6n'\n",
    "print(sample_entry)\n",
    "print('data type:', type(sample_entry))"
   ]
  },
  {
   "cell_type": "markdown",
   "id": "44f4d9b8",
   "metadata": {
    "papermill": {
     "duration": 0.007197,
     "end_time": "2024-10-26T14:33:35.601405",
     "exception": false,
     "start_time": "2024-10-26T14:33:35.594208",
     "status": "completed"
    },
    "tags": []
   },
   "source": [
    "You notice that it doesn't use the standard UTF-8 encoding. \n",
    "\n",
    "Use the next code cell to create a variable `new_entry` that changes the encoding from `\"big5-tw\"` to `\"utf-8\"`.  `new_entry` should have the bytes datatype."
   ]
  },
  {
   "cell_type": "code",
   "execution_count": 4,
   "id": "dce13842",
   "metadata": {
    "execution": {
     "iopub.execute_input": "2024-10-26T14:33:35.616623Z",
     "iopub.status.busy": "2024-10-26T14:33:35.615667Z",
     "iopub.status.idle": "2024-10-26T14:33:35.626964Z",
     "shell.execute_reply": "2024-10-26T14:33:35.625885Z"
    },
    "papermill": {
     "duration": 0.021454,
     "end_time": "2024-10-26T14:33:35.629332",
     "exception": false,
     "start_time": "2024-10-26T14:33:35.607878",
     "status": "completed"
    },
    "tags": []
   },
   "outputs": [
    {
     "data": {
      "application/javascript": [
       "parent.postMessage({\"jupyterEvent\": \"custom.exercise_interaction\", \"data\": {\"outcomeType\": 1, \"valueTowardsCompletion\": 0.3333333333333333, \"interactionType\": 1, \"questionType\": 1, \"questionId\": \"1_EncodingsIntro\", \"learnToolsVersion\": \"0.3.4\", \"failureMessage\": \"\", \"exceptionClass\": \"\", \"trace\": \"\"}}, \"*\")"
      ],
      "text/plain": [
       "<IPython.core.display.Javascript object>"
      ]
     },
     "metadata": {},
     "output_type": "display_data"
    },
    {
     "data": {
      "text/markdown": [
       "<span style=\"color:#33cc33\">Correct</span>"
      ],
      "text/plain": [
       "Correct"
      ]
     },
     "metadata": {},
     "output_type": "display_data"
    }
   ],
   "source": [
    "before = sample_entry.decode(\"big5-tw\")\n",
    "new_entry = before.encode()\n",
    "\n",
    "# Check your answer\n",
    "q1.check()"
   ]
  },
  {
   "cell_type": "code",
   "execution_count": 5,
   "id": "797a442c",
   "metadata": {
    "execution": {
     "iopub.execute_input": "2024-10-26T14:33:35.644906Z",
     "iopub.status.busy": "2024-10-26T14:33:35.644487Z",
     "iopub.status.idle": "2024-10-26T14:33:35.657774Z",
     "shell.execute_reply": "2024-10-26T14:33:35.656750Z"
    },
    "papermill": {
     "duration": 0.024029,
     "end_time": "2024-10-26T14:33:35.660281",
     "exception": false,
     "start_time": "2024-10-26T14:33:35.636252",
     "status": "completed"
    },
    "tags": []
   },
   "outputs": [
    {
     "data": {
      "application/javascript": [
       "parent.postMessage({\"jupyterEvent\": \"custom.exercise_interaction\", \"data\": {\"interactionType\": 2, \"questionType\": 1, \"questionId\": \"1_EncodingsIntro\", \"learnToolsVersion\": \"0.3.4\", \"valueTowardsCompletion\": 0.0, \"failureMessage\": \"\", \"exceptionClass\": \"\", \"trace\": \"\", \"outcomeType\": 4}}, \"*\")"
      ],
      "text/plain": [
       "<IPython.core.display.Javascript object>"
      ]
     },
     "metadata": {},
     "output_type": "display_data"
    },
    {
     "data": {
      "text/markdown": [
       "<span style=\"color:#3366cc\">Hint:</span> Try using `.decode()` to get the string, then `.encode()` to get the bytes representation, encoded in UTF-8."
      ],
      "text/plain": [
       "Hint: Try using `.decode()` to get the string, then `.encode()` to get the bytes representation, encoded in UTF-8."
      ]
     },
     "metadata": {},
     "output_type": "display_data"
    },
    {
     "data": {
      "application/javascript": [
       "parent.postMessage({\"jupyterEvent\": \"custom.exercise_interaction\", \"data\": {\"interactionType\": 3, \"questionType\": 1, \"questionId\": \"1_EncodingsIntro\", \"learnToolsVersion\": \"0.3.4\", \"valueTowardsCompletion\": 0.0, \"failureMessage\": \"\", \"exceptionClass\": \"\", \"trace\": \"\", \"outcomeType\": 4}}, \"*\")"
      ],
      "text/plain": [
       "<IPython.core.display.Javascript object>"
      ]
     },
     "metadata": {},
     "output_type": "display_data"
    },
    {
     "data": {
      "text/markdown": [
       "<span style=\"color:#33cc99\">Solution:</span> \n",
       "```python\n",
       "before = sample_entry.decode(\"big5-tw\")\n",
       "new_entry = before.encode()\n",
       "\n",
       "```"
      ],
      "text/plain": [
       "Solution: \n",
       "```python\n",
       "before = sample_entry.decode(\"big5-tw\")\n",
       "new_entry = before.encode()\n",
       "\n",
       "```"
      ]
     },
     "metadata": {},
     "output_type": "display_data"
    }
   ],
   "source": [
    "# Lines below will give you a hint or solution code\n",
    "q1.hint()\n",
    "q1.solution()"
   ]
  },
  {
   "cell_type": "markdown",
   "id": "8044b16b",
   "metadata": {
    "papermill": {
     "duration": 0.007296,
     "end_time": "2024-10-26T14:33:35.675019",
     "exception": false,
     "start_time": "2024-10-26T14:33:35.667723",
     "status": "completed"
    },
    "tags": []
   },
   "source": [
    "# 2) Reading in files with encoding problems\n",
    "\n",
    "Use the code cell below to read in this file at path `\"../input/fatal-police-shootings-in-the-us/PoliceKillingsUS.csv\"`.  \n",
    "\n",
    "Figure out what the correct encoding should be and read in the file to a DataFrame `police_killings`."
   ]
  },
  {
   "cell_type": "code",
   "execution_count": 6,
   "id": "798e70a5",
   "metadata": {
    "execution": {
     "iopub.execute_input": "2024-10-26T14:33:35.692321Z",
     "iopub.status.busy": "2024-10-26T14:33:35.691609Z",
     "iopub.status.idle": "2024-10-26T14:33:35.719539Z",
     "shell.execute_reply": "2024-10-26T14:33:35.718460Z"
    },
    "papermill": {
     "duration": 0.039508,
     "end_time": "2024-10-26T14:33:35.722151",
     "exception": false,
     "start_time": "2024-10-26T14:33:35.682643",
     "status": "completed"
    },
    "tags": []
   },
   "outputs": [
    {
     "data": {
      "application/javascript": [
       "parent.postMessage({\"jupyterEvent\": \"custom.exercise_interaction\", \"data\": {\"outcomeType\": 1, \"valueTowardsCompletion\": 0.3333333333333333, \"interactionType\": 1, \"questionType\": 1, \"questionId\": \"2_ReadIn\", \"learnToolsVersion\": \"0.3.4\", \"failureMessage\": \"\", \"exceptionClass\": \"\", \"trace\": \"\"}}, \"*\")"
      ],
      "text/plain": [
       "<IPython.core.display.Javascript object>"
      ]
     },
     "metadata": {},
     "output_type": "display_data"
    },
    {
     "data": {
      "text/markdown": [
       "<span style=\"color:#33cc33\">Correct</span>"
      ],
      "text/plain": [
       "Correct"
      ]
     },
     "metadata": {},
     "output_type": "display_data"
    }
   ],
   "source": [
    "# TODO: Load in the DataFrame correctly.\n",
    "police_killings = pd.read_csv(\"../input/fatal-police-shootings-in-the-us/PoliceKillingsUS.csv\", encoding='Windows-1252')\n",
    "\n",
    "# Check your answer\n",
    "q2.check()"
   ]
  },
  {
   "cell_type": "markdown",
   "id": "57d3d985",
   "metadata": {
    "papermill": {
     "duration": 0.007551,
     "end_time": "2024-10-26T14:33:35.737530",
     "exception": false,
     "start_time": "2024-10-26T14:33:35.729979",
     "status": "completed"
    },
    "tags": []
   },
   "source": [
    "Feel free to use any additional code cells for supplemental work.  To get credit for finishing this question, you'll need to run `q2.check()` and get a result of **Correct**."
   ]
  },
  {
   "cell_type": "code",
   "execution_count": 7,
   "id": "e8da88f5",
   "metadata": {
    "execution": {
     "iopub.execute_input": "2024-10-26T14:33:35.755972Z",
     "iopub.status.busy": "2024-10-26T14:33:35.754903Z",
     "iopub.status.idle": "2024-10-26T14:33:35.760220Z",
     "shell.execute_reply": "2024-10-26T14:33:35.759028Z"
    },
    "papermill": {
     "duration": 0.017046,
     "end_time": "2024-10-26T14:33:35.762697",
     "exception": false,
     "start_time": "2024-10-26T14:33:35.745651",
     "status": "completed"
    },
    "tags": []
   },
   "outputs": [],
   "source": [
    "# (Optional) Use this code cell for any additional work."
   ]
  },
  {
   "cell_type": "code",
   "execution_count": 8,
   "id": "59460a67",
   "metadata": {
    "execution": {
     "iopub.execute_input": "2024-10-26T14:33:35.780621Z",
     "iopub.status.busy": "2024-10-26T14:33:35.780083Z",
     "iopub.status.idle": "2024-10-26T14:33:35.794145Z",
     "shell.execute_reply": "2024-10-26T14:33:35.793025Z"
    },
    "papermill": {
     "duration": 0.02578,
     "end_time": "2024-10-26T14:33:35.796563",
     "exception": false,
     "start_time": "2024-10-26T14:33:35.770783",
     "status": "completed"
    },
    "tags": []
   },
   "outputs": [
    {
     "data": {
      "application/javascript": [
       "parent.postMessage({\"jupyterEvent\": \"custom.exercise_interaction\", \"data\": {\"interactionType\": 2, \"questionType\": 1, \"questionId\": \"2_ReadIn\", \"learnToolsVersion\": \"0.3.4\", \"valueTowardsCompletion\": 0.0, \"failureMessage\": \"\", \"exceptionClass\": \"\", \"trace\": \"\", \"outcomeType\": 4}}, \"*\")"
      ],
      "text/plain": [
       "<IPython.core.display.Javascript object>"
      ]
     },
     "metadata": {},
     "output_type": "display_data"
    },
    {
     "data": {
      "text/markdown": [
       "<span style=\"color:#3366cc\">Hint:</span> If you try to guess the encoding with the first 10,000 bytes of the file, it might give you the wrong answer.  Try using 100,000 or more lines of the file."
      ],
      "text/plain": [
       "Hint: If you try to guess the encoding with the first 10,000 bytes of the file, it might give you the wrong answer.  Try using 100,000 or more lines of the file."
      ]
     },
     "metadata": {},
     "output_type": "display_data"
    },
    {
     "data": {
      "application/javascript": [
       "parent.postMessage({\"jupyterEvent\": \"custom.exercise_interaction\", \"data\": {\"interactionType\": 3, \"questionType\": 1, \"questionId\": \"2_ReadIn\", \"learnToolsVersion\": \"0.3.4\", \"valueTowardsCompletion\": 0.0, \"failureMessage\": \"\", \"exceptionClass\": \"\", \"trace\": \"\", \"outcomeType\": 4}}, \"*\")"
      ],
      "text/plain": [
       "<IPython.core.display.Javascript object>"
      ]
     },
     "metadata": {},
     "output_type": "display_data"
    },
    {
     "data": {
      "text/markdown": [
       "<span style=\"color:#33cc99\">Solution:</span> \n",
       "```python\n",
       "police_killings = pd.read_csv(\"../input/fatal-police-shootings-in-the-us/PoliceKillingsUS.csv\", encoding='Windows-1252')\n",
       "\n",
       "```"
      ],
      "text/plain": [
       "Solution: \n",
       "```python\n",
       "police_killings = pd.read_csv(\"../input/fatal-police-shootings-in-the-us/PoliceKillingsUS.csv\", encoding='Windows-1252')\n",
       "\n",
       "```"
      ]
     },
     "metadata": {},
     "output_type": "display_data"
    }
   ],
   "source": [
    "# Lines below will give you a hint or solution code\n",
    "q2.hint()\n",
    "q2.solution()"
   ]
  },
  {
   "cell_type": "markdown",
   "id": "1d029d41",
   "metadata": {
    "papermill": {
     "duration": 0.00839,
     "end_time": "2024-10-26T14:33:35.813641",
     "exception": false,
     "start_time": "2024-10-26T14:33:35.805251",
     "status": "completed"
    },
    "tags": []
   },
   "source": [
    "# 3) Saving your files with UTF-8 encoding\n",
    "\n",
    "Save a version of the police killings dataset to CSV with UTF-8 encoding.  Your answer will be marked correct after saving this file.  \n",
    "\n",
    "Note: When using the `to_csv()` method, supply only the name of the file (e.g., `\"my_file.csv\"`).  This saves the file at the filepath `\"/kaggle/working/my_file.csv\"`."
   ]
  },
  {
   "cell_type": "code",
   "execution_count": 9,
   "id": "de41b3d5",
   "metadata": {
    "execution": {
     "iopub.execute_input": "2024-10-26T14:33:35.833361Z",
     "iopub.status.busy": "2024-10-26T14:33:35.832493Z",
     "iopub.status.idle": "2024-10-26T14:33:35.882996Z",
     "shell.execute_reply": "2024-10-26T14:33:35.881870Z"
    },
    "papermill": {
     "duration": 0.062915,
     "end_time": "2024-10-26T14:33:35.885221",
     "exception": false,
     "start_time": "2024-10-26T14:33:35.822306",
     "status": "completed"
    },
    "tags": []
   },
   "outputs": [
    {
     "data": {
      "application/javascript": [
       "parent.postMessage({\"jupyterEvent\": \"custom.exercise_interaction\", \"data\": {\"outcomeType\": 1, \"valueTowardsCompletion\": 0.3333333333333333, \"interactionType\": 1, \"questionType\": 2, \"questionId\": \"3_SaveCSV\", \"learnToolsVersion\": \"0.3.4\", \"failureMessage\": \"\", \"exceptionClass\": \"\", \"trace\": \"\"}}, \"*\")"
      ],
      "text/plain": [
       "<IPython.core.display.Javascript object>"
      ]
     },
     "metadata": {},
     "output_type": "display_data"
    },
    {
     "data": {
      "text/markdown": [
       "<span style=\"color:#33cc33\">Correct</span>"
      ],
      "text/plain": [
       "Correct"
      ]
     },
     "metadata": {},
     "output_type": "display_data"
    }
   ],
   "source": [
    "# TODO: Save the police killings dataset to CSV\n",
    "police_killings.to_csv(\"my_file.csv\")\n",
    "\n",
    "# Check your answer\n",
    "q3.check()"
   ]
  },
  {
   "cell_type": "code",
   "execution_count": 10,
   "id": "f2c0d0d4",
   "metadata": {
    "execution": {
     "iopub.execute_input": "2024-10-26T14:33:35.905067Z",
     "iopub.status.busy": "2024-10-26T14:33:35.904630Z",
     "iopub.status.idle": "2024-10-26T14:33:35.917955Z",
     "shell.execute_reply": "2024-10-26T14:33:35.916918Z"
    },
    "papermill": {
     "duration": 0.026004,
     "end_time": "2024-10-26T14:33:35.920303",
     "exception": false,
     "start_time": "2024-10-26T14:33:35.894299",
     "status": "completed"
    },
    "tags": []
   },
   "outputs": [
    {
     "data": {
      "application/javascript": [
       "parent.postMessage({\"jupyterEvent\": \"custom.exercise_interaction\", \"data\": {\"interactionType\": 2, \"questionType\": 2, \"questionId\": \"3_SaveCSV\", \"learnToolsVersion\": \"0.3.4\", \"valueTowardsCompletion\": 0.0, \"failureMessage\": \"\", \"exceptionClass\": \"\", \"trace\": \"\", \"outcomeType\": 4}}, \"*\")"
      ],
      "text/plain": [
       "<IPython.core.display.Javascript object>"
      ]
     },
     "metadata": {},
     "output_type": "display_data"
    },
    {
     "data": {
      "text/markdown": [
       "<span style=\"color:#3366cc\">Hint:</span> Use `.to_csv().`"
      ],
      "text/plain": [
       "Hint: Use `.to_csv().`"
      ]
     },
     "metadata": {},
     "output_type": "display_data"
    },
    {
     "data": {
      "application/javascript": [
       "parent.postMessage({\"jupyterEvent\": \"custom.exercise_interaction\", \"data\": {\"interactionType\": 3, \"questionType\": 2, \"questionId\": \"3_SaveCSV\", \"learnToolsVersion\": \"0.3.4\", \"valueTowardsCompletion\": 0.0, \"failureMessage\": \"\", \"exceptionClass\": \"\", \"trace\": \"\", \"outcomeType\": 4}}, \"*\")"
      ],
      "text/plain": [
       "<IPython.core.display.Javascript object>"
      ]
     },
     "metadata": {},
     "output_type": "display_data"
    },
    {
     "data": {
      "text/markdown": [
       "<span style=\"color:#33cc99\">Solution:</span> \n",
       "```python\n",
       "\n",
       "police_killings.to_csv(\"my_file.csv\")\n",
       "\n",
       "```"
      ],
      "text/plain": [
       "Solution: \n",
       "```python\n",
       "\n",
       "police_killings.to_csv(\"my_file.csv\")\n",
       "\n",
       "```"
      ]
     },
     "metadata": {},
     "output_type": "display_data"
    }
   ],
   "source": [
    "# Lines below will give you a hint or solution code\n",
    "q3.hint()\n",
    "q3.solution()"
   ]
  },
  {
   "cell_type": "markdown",
   "id": "5366edaf",
   "metadata": {
    "papermill": {
     "duration": 0.009198,
     "end_time": "2024-10-26T14:33:35.939121",
     "exception": false,
     "start_time": "2024-10-26T14:33:35.929923",
     "status": "completed"
    },
    "tags": []
   },
   "source": [
    "# (Optional) More practice\n",
    "\n",
    "Check out [this dataset of files in different character encodings](https://www.kaggle.com/rtatman/character-encoding-examples). Can you read in all the files with their original encodings and them save them out as UTF-8 files?\n",
    "\n",
    "If you have a file that's in UTF-8 but has just a couple of weird-looking characters in it, you can try out the [ftfy module](https://ftfy.readthedocs.io/en/latest/#) and see if it helps. \n",
    "\n",
    "# Keep going\n",
    "\n",
    "In the final lesson, learn how to [**clean up inconsistent text entries**](https://www.kaggle.com/alexisbcook/inconsistent-data-entry) in your dataset."
   ]
  },
  {
   "cell_type": "markdown",
   "id": "129f8b11",
   "metadata": {
    "papermill": {
     "duration": 0.00903,
     "end_time": "2024-10-26T14:33:35.957596",
     "exception": false,
     "start_time": "2024-10-26T14:33:35.948566",
     "status": "completed"
    },
    "tags": []
   },
   "source": [
    "---\n",
    "\n",
    "\n",
    "\n",
    "\n",
    "*Have questions or comments? Visit the [course discussion forum](https://www.kaggle.com/learn/data-cleaning/discussion) to chat with other learners.*"
   ]
  }
 ],
 "metadata": {
  "kaggle": {
   "accelerator": "none",
   "dataSources": [
    {
     "datasetId": 2647,
     "sourceId": 4395,
     "sourceType": "datasetVersion"
    }
   ],
   "isGpuEnabled": false,
   "isInternetEnabled": false,
   "language": "python",
   "sourceType": "notebook"
  },
  "kernelspec": {
   "display_name": "Python 3",
   "language": "python",
   "name": "python3"
  },
  "language_info": {
   "codemirror_mode": {
    "name": "ipython",
    "version": 3
   },
   "file_extension": ".py",
   "mimetype": "text/x-python",
   "name": "python",
   "nbconvert_exporter": "python",
   "pygments_lexer": "ipython3",
   "version": "3.10.14"
  },
  "papermill": {
   "default_parameters": {},
   "duration": 4.907579,
   "end_time": "2024-10-26T14:33:36.489441",
   "environment_variables": {},
   "exception": null,
   "input_path": "__notebook__.ipynb",
   "output_path": "__notebook__.ipynb",
   "parameters": {},
   "start_time": "2024-10-26T14:33:31.581862",
   "version": "2.6.0"
  }
 },
 "nbformat": 4,
 "nbformat_minor": 5
}
