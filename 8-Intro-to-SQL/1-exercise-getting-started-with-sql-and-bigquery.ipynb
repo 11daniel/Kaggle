{
 "cells": [
  {
   "cell_type": "markdown",
   "id": "193e1481",
   "metadata": {
    "papermill": {
     "duration": 0.006349,
     "end_time": "2024-06-19T10:15:05.140187",
     "exception": false,
     "start_time": "2024-06-19T10:15:05.133838",
     "status": "completed"
    },
    "tags": []
   },
   "source": [
    "**This notebook is an exercise in the [SQL](https://www.kaggle.com/learn/intro-to-sql) course.  You can reference the tutorial at [this link](https://www.kaggle.com/dansbecker/getting-started-with-sql-and-bigquery).**\n",
    "\n",
    "---\n"
   ]
  },
  {
   "cell_type": "markdown",
   "id": "41fb8ad7",
   "metadata": {
    "papermill": {
     "duration": 0.004994,
     "end_time": "2024-06-19T10:15:05.150603",
     "exception": false,
     "start_time": "2024-06-19T10:15:05.145609",
     "status": "completed"
    },
    "tags": []
   },
   "source": [
    "# Introduction\n",
    "\n",
    "The first test of your new data exploration skills uses data describing crime in the city of Chicago.\n",
    "\n",
    "Before you get started, run the following cell. It sets up the automated feedback system to review your answers."
   ]
  },
  {
   "cell_type": "code",
   "execution_count": 1,
   "id": "966b57b2",
   "metadata": {
    "execution": {
     "iopub.execute_input": "2024-06-19T10:15:05.162873Z",
     "iopub.status.busy": "2024-06-19T10:15:05.162477Z",
     "iopub.status.idle": "2024-06-19T10:15:11.276343Z",
     "shell.execute_reply": "2024-06-19T10:15:11.274920Z"
    },
    "papermill": {
     "duration": 6.123159,
     "end_time": "2024-06-19T10:15:11.279121",
     "exception": false,
     "start_time": "2024-06-19T10:15:05.155962",
     "status": "completed"
    },
    "tags": []
   },
   "outputs": [
    {
     "name": "stdout",
     "output_type": "stream",
     "text": [
      "Using Kaggle's public dataset BigQuery integration.\n",
      "Setup Complete\n"
     ]
    }
   ],
   "source": [
    "# Set up feedack system\n",
    "from learntools.core import binder\n",
    "binder.bind(globals())\n",
    "from learntools.sql.ex1 import *\n",
    "print(\"Setup Complete\")"
   ]
  },
  {
   "cell_type": "markdown",
   "id": "7bbaf031",
   "metadata": {
    "papermill": {
     "duration": 0.005278,
     "end_time": "2024-06-19T10:15:11.290347",
     "exception": false,
     "start_time": "2024-06-19T10:15:11.285069",
     "status": "completed"
    },
    "tags": []
   },
   "source": [
    "Use the next code cell to fetch the dataset."
   ]
  },
  {
   "cell_type": "code",
   "execution_count": 2,
   "id": "630661c5",
   "metadata": {
    "execution": {
     "iopub.execute_input": "2024-06-19T10:15:11.304680Z",
     "iopub.status.busy": "2024-06-19T10:15:11.304056Z",
     "iopub.status.idle": "2024-06-19T10:15:11.639456Z",
     "shell.execute_reply": "2024-06-19T10:15:11.638119Z"
    },
    "papermill": {
     "duration": 0.346339,
     "end_time": "2024-06-19T10:15:11.642354",
     "exception": false,
     "start_time": "2024-06-19T10:15:11.296015",
     "status": "completed"
    },
    "tags": []
   },
   "outputs": [
    {
     "name": "stdout",
     "output_type": "stream",
     "text": [
      "Using Kaggle's public dataset BigQuery integration.\n"
     ]
    }
   ],
   "source": [
    "from google.cloud import bigquery\n",
    "\n",
    "# Create a \"Client\" object\n",
    "client = bigquery.Client()\n",
    "\n",
    "# Construct a reference to the \"chicago_crime\" dataset\n",
    "dataset_ref = client.dataset(\"chicago_crime\", project=\"bigquery-public-data\")\n",
    "\n",
    "# API request - fetch the dataset\n",
    "dataset = client.get_dataset(dataset_ref)"
   ]
  },
  {
   "cell_type": "markdown",
   "id": "9955716e",
   "metadata": {
    "papermill": {
     "duration": 0.005101,
     "end_time": "2024-06-19T10:15:11.653254",
     "exception": false,
     "start_time": "2024-06-19T10:15:11.648153",
     "status": "completed"
    },
    "tags": []
   },
   "source": [
    "# Exercises\n",
    "\n",
    "### 1) Count tables in the dataset\n",
    "\n",
    "How many tables are in the Chicago Crime dataset?"
   ]
  },
  {
   "cell_type": "code",
   "execution_count": 3,
   "id": "4d08a718",
   "metadata": {
    "execution": {
     "iopub.execute_input": "2024-06-19T10:15:11.665942Z",
     "iopub.status.busy": "2024-06-19T10:15:11.665488Z",
     "iopub.status.idle": "2024-06-19T10:15:11.942965Z",
     "shell.execute_reply": "2024-06-19T10:15:11.941421Z"
    },
    "papermill": {
     "duration": 0.286689,
     "end_time": "2024-06-19T10:15:11.945444",
     "exception": false,
     "start_time": "2024-06-19T10:15:11.658755",
     "status": "completed"
    },
    "tags": []
   },
   "outputs": [
    {
     "name": "stdout",
     "output_type": "stream",
     "text": [
      "1\n"
     ]
    }
   ],
   "source": [
    "# Write the code you need here to figure out the answer\n",
    "# List all the tables in the \"chicago_crime\" dataset\n",
    "tables = list(client.list_tables(dataset))\n",
    "\n",
    "# Print number of tables in the dataset\n",
    "print(len(tables))"
   ]
  },
  {
   "cell_type": "code",
   "execution_count": 4,
   "id": "5c26849e",
   "metadata": {
    "execution": {
     "iopub.execute_input": "2024-06-19T10:15:11.959368Z",
     "iopub.status.busy": "2024-06-19T10:15:11.958934Z",
     "iopub.status.idle": "2024-06-19T10:15:11.970256Z",
     "shell.execute_reply": "2024-06-19T10:15:11.968709Z"
    },
    "papermill": {
     "duration": 0.02173,
     "end_time": "2024-06-19T10:15:11.973040",
     "exception": false,
     "start_time": "2024-06-19T10:15:11.951310",
     "status": "completed"
    },
    "tags": []
   },
   "outputs": [
    {
     "data": {
      "application/javascript": [
       "parent.postMessage({\"jupyterEvent\": \"custom.exercise_interaction\", \"data\": {\"outcomeType\": 1, \"valueTowardsCompletion\": 0.3333333333333333, \"interactionType\": 1, \"questionType\": 1, \"questionId\": \"1_CountTables\", \"learnToolsVersion\": \"0.3.4\", \"failureMessage\": \"\", \"exceptionClass\": \"\", \"trace\": \"\"}}, \"*\")"
      ],
      "text/plain": [
       "<IPython.core.display.Javascript object>"
      ]
     },
     "metadata": {},
     "output_type": "display_data"
    },
    {
     "data": {
      "text/markdown": [
       "<span style=\"color:#33cc33\">Correct</span>"
      ],
      "text/plain": [
       "Correct"
      ]
     },
     "metadata": {},
     "output_type": "display_data"
    }
   ],
   "source": [
    "num_tables = 1  # Store the answer as num_tables and then run this cell\n",
    "\n",
    "# Check your answer\n",
    "q_1.check()"
   ]
  },
  {
   "cell_type": "markdown",
   "id": "564c3e68",
   "metadata": {
    "papermill": {
     "duration": 0.005785,
     "end_time": "2024-06-19T10:15:11.985014",
     "exception": false,
     "start_time": "2024-06-19T10:15:11.979229",
     "status": "completed"
    },
    "tags": []
   },
   "source": [
    "For a hint or the solution, uncomment the appropriate line below."
   ]
  },
  {
   "cell_type": "code",
   "execution_count": 5,
   "id": "174c0aa4",
   "metadata": {
    "execution": {
     "iopub.execute_input": "2024-06-19T10:15:12.001374Z",
     "iopub.status.busy": "2024-06-19T10:15:12.000988Z",
     "iopub.status.idle": "2024-06-19T10:15:12.014876Z",
     "shell.execute_reply": "2024-06-19T10:15:12.013785Z"
    },
    "papermill": {
     "duration": 0.024184,
     "end_time": "2024-06-19T10:15:12.017379",
     "exception": false,
     "start_time": "2024-06-19T10:15:11.993195",
     "status": "completed"
    },
    "tags": []
   },
   "outputs": [
    {
     "data": {
      "application/javascript": [
       "parent.postMessage({\"jupyterEvent\": \"custom.exercise_interaction\", \"data\": {\"interactionType\": 2, \"questionType\": 1, \"questionId\": \"1_CountTables\", \"learnToolsVersion\": \"0.3.4\", \"valueTowardsCompletion\": 0.0, \"failureMessage\": \"\", \"exceptionClass\": \"\", \"trace\": \"\", \"outcomeType\": 4}}, \"*\")"
      ],
      "text/plain": [
       "<IPython.core.display.Javascript object>"
      ]
     },
     "metadata": {},
     "output_type": "display_data"
    },
    {
     "data": {
      "text/markdown": [
       "<span style=\"color:#3366cc\">Hint:</span> Use the `list_tables()` method to get a list of the tables in the dataset."
      ],
      "text/plain": [
       "Hint: Use the `list_tables()` method to get a list of the tables in the dataset."
      ]
     },
     "metadata": {},
     "output_type": "display_data"
    },
    {
     "data": {
      "application/javascript": [
       "parent.postMessage({\"jupyterEvent\": \"custom.exercise_interaction\", \"data\": {\"interactionType\": 3, \"questionType\": 1, \"questionId\": \"1_CountTables\", \"learnToolsVersion\": \"0.3.4\", \"valueTowardsCompletion\": 0.0, \"failureMessage\": \"\", \"exceptionClass\": \"\", \"trace\": \"\", \"outcomeType\": 4}}, \"*\")"
      ],
      "text/plain": [
       "<IPython.core.display.Javascript object>"
      ]
     },
     "metadata": {},
     "output_type": "display_data"
    },
    {
     "data": {
      "text/markdown": [
       "<span style=\"color:#33cc99\">Solution:</span> \n",
       "```python\n",
       "\n",
       "# List all the tables in the \"chicago_crime\" dataset\n",
       "tables = list(client.list_tables(dataset))\n",
       "\n",
       "# Print number of tables in the dataset\n",
       "print(len(tables))\n",
       "\n",
       "num_tables = 1\n",
       "\n",
       "```"
      ],
      "text/plain": [
       "Solution: \n",
       "```python\n",
       "\n",
       "# List all the tables in the \"chicago_crime\" dataset\n",
       "tables = list(client.list_tables(dataset))\n",
       "\n",
       "# Print number of tables in the dataset\n",
       "print(len(tables))\n",
       "\n",
       "num_tables = 1\n",
       "\n",
       "```"
      ]
     },
     "metadata": {},
     "output_type": "display_data"
    }
   ],
   "source": [
    "q_1.hint()\n",
    "q_1.solution()"
   ]
  },
  {
   "cell_type": "markdown",
   "id": "b3b02b7d",
   "metadata": {
    "papermill": {
     "duration": 0.006143,
     "end_time": "2024-06-19T10:15:12.030437",
     "exception": false,
     "start_time": "2024-06-19T10:15:12.024294",
     "status": "completed"
    },
    "tags": []
   },
   "source": [
    "### 2) Explore the table schema\n",
    "\n",
    "How many columns in the `crime` table have `TIMESTAMP` data?"
   ]
  },
  {
   "cell_type": "code",
   "execution_count": 6,
   "id": "6c567cb2",
   "metadata": {
    "execution": {
     "iopub.execute_input": "2024-06-19T10:15:12.046261Z",
     "iopub.status.busy": "2024-06-19T10:15:12.045343Z",
     "iopub.status.idle": "2024-06-19T10:15:12.289790Z",
     "shell.execute_reply": "2024-06-19T10:15:12.288231Z"
    },
    "papermill": {
     "duration": 0.255449,
     "end_time": "2024-06-19T10:15:12.292583",
     "exception": false,
     "start_time": "2024-06-19T10:15:12.037134",
     "status": "completed"
    },
    "tags": []
   },
   "outputs": [
    {
     "name": "stdout",
     "output_type": "stream",
     "text": [
      "[SchemaField('unique_key', 'INTEGER', 'REQUIRED', None, (), None), SchemaField('case_number', 'STRING', 'NULLABLE', None, (), None), SchemaField('date', 'TIMESTAMP', 'NULLABLE', None, (), None), SchemaField('block', 'STRING', 'NULLABLE', None, (), None), SchemaField('iucr', 'STRING', 'NULLABLE', None, (), None), SchemaField('primary_type', 'STRING', 'NULLABLE', None, (), None), SchemaField('description', 'STRING', 'NULLABLE', None, (), None), SchemaField('location_description', 'STRING', 'NULLABLE', None, (), None), SchemaField('arrest', 'BOOLEAN', 'NULLABLE', None, (), None), SchemaField('domestic', 'BOOLEAN', 'NULLABLE', None, (), None), SchemaField('beat', 'INTEGER', 'NULLABLE', None, (), None), SchemaField('district', 'INTEGER', 'NULLABLE', None, (), None), SchemaField('ward', 'INTEGER', 'NULLABLE', None, (), None), SchemaField('community_area', 'INTEGER', 'NULLABLE', None, (), None), SchemaField('fbi_code', 'STRING', 'NULLABLE', None, (), None), SchemaField('x_coordinate', 'FLOAT', 'NULLABLE', None, (), None), SchemaField('y_coordinate', 'FLOAT', 'NULLABLE', None, (), None), SchemaField('year', 'INTEGER', 'NULLABLE', None, (), None), SchemaField('updated_on', 'TIMESTAMP', 'NULLABLE', None, (), None), SchemaField('latitude', 'FLOAT', 'NULLABLE', None, (), None), SchemaField('longitude', 'FLOAT', 'NULLABLE', None, (), None), SchemaField('location', 'STRING', 'NULLABLE', None, (), None)]\n"
     ]
    }
   ],
   "source": [
    "# Write the code to figure out the answer\n",
    "\n",
    "# Construct a reference to the \"crime\" table\n",
    "table_ref = dataset_ref.table(\"crime\")\n",
    "\n",
    "# API request - fetch the table\n",
    "table = client.get_table(table_ref)\n",
    "\n",
    "# Print information on all the columns in the \"crime\" table in the \"chicago_crime\" dataset\n",
    "print(table.schema)"
   ]
  },
  {
   "cell_type": "code",
   "execution_count": 7,
   "id": "db37d26b",
   "metadata": {
    "execution": {
     "iopub.execute_input": "2024-06-19T10:15:12.308842Z",
     "iopub.status.busy": "2024-06-19T10:15:12.308391Z",
     "iopub.status.idle": "2024-06-19T10:15:12.317796Z",
     "shell.execute_reply": "2024-06-19T10:15:12.316740Z"
    },
    "papermill": {
     "duration": 0.020678,
     "end_time": "2024-06-19T10:15:12.320158",
     "exception": false,
     "start_time": "2024-06-19T10:15:12.299480",
     "status": "completed"
    },
    "tags": []
   },
   "outputs": [
    {
     "data": {
      "application/javascript": [
       "parent.postMessage({\"jupyterEvent\": \"custom.exercise_interaction\", \"data\": {\"outcomeType\": 1, \"valueTowardsCompletion\": 0.3333333333333333, \"interactionType\": 1, \"questionType\": 1, \"questionId\": \"2_CountTimestampFields\", \"learnToolsVersion\": \"0.3.4\", \"failureMessage\": \"\", \"exceptionClass\": \"\", \"trace\": \"\"}}, \"*\")"
      ],
      "text/plain": [
       "<IPython.core.display.Javascript object>"
      ]
     },
     "metadata": {},
     "output_type": "display_data"
    },
    {
     "data": {
      "text/markdown": [
       "<span style=\"color:#33cc33\">Correct</span>"
      ],
      "text/plain": [
       "Correct"
      ]
     },
     "metadata": {},
     "output_type": "display_data"
    }
   ],
   "source": [
    "num_timestamp_fields = 2 # Put your answer here\n",
    "\n",
    "# Check your answer\n",
    "q_2.check()"
   ]
  },
  {
   "cell_type": "markdown",
   "id": "a857f9fe",
   "metadata": {
    "papermill": {
     "duration": 0.006746,
     "end_time": "2024-06-19T10:15:12.333956",
     "exception": false,
     "start_time": "2024-06-19T10:15:12.327210",
     "status": "completed"
    },
    "tags": []
   },
   "source": [
    "For a hint or the solution, uncomment the appropriate line below."
   ]
  },
  {
   "cell_type": "code",
   "execution_count": 8,
   "id": "b62db81e",
   "metadata": {
    "execution": {
     "iopub.execute_input": "2024-06-19T10:15:12.350570Z",
     "iopub.status.busy": "2024-06-19T10:15:12.349391Z",
     "iopub.status.idle": "2024-06-19T10:15:12.364726Z",
     "shell.execute_reply": "2024-06-19T10:15:12.363532Z"
    },
    "papermill": {
     "duration": 0.026504,
     "end_time": "2024-06-19T10:15:12.367557",
     "exception": false,
     "start_time": "2024-06-19T10:15:12.341053",
     "status": "completed"
    },
    "tags": []
   },
   "outputs": [
    {
     "data": {
      "application/javascript": [
       "parent.postMessage({\"jupyterEvent\": \"custom.exercise_interaction\", \"data\": {\"interactionType\": 2, \"questionType\": 1, \"questionId\": \"2_CountTimestampFields\", \"learnToolsVersion\": \"0.3.4\", \"valueTowardsCompletion\": 0.0, \"failureMessage\": \"\", \"exceptionClass\": \"\", \"trace\": \"\", \"outcomeType\": 4}}, \"*\")"
      ],
      "text/plain": [
       "<IPython.core.display.Javascript object>"
      ]
     },
     "metadata": {},
     "output_type": "display_data"
    },
    {
     "data": {
      "text/markdown": [
       "<span style=\"color:#3366cc\">Hint:</span> Begin by fetching the `crime` table. Then take a look at the table schema, and check the field type of each column.  How many times does `'TIMESTAMP'` appear?"
      ],
      "text/plain": [
       "Hint: Begin by fetching the `crime` table. Then take a look at the table schema, and check the field type of each column.  How many times does `'TIMESTAMP'` appear?"
      ]
     },
     "metadata": {},
     "output_type": "display_data"
    },
    {
     "data": {
      "application/javascript": [
       "parent.postMessage({\"jupyterEvent\": \"custom.exercise_interaction\", \"data\": {\"interactionType\": 3, \"questionType\": 1, \"questionId\": \"2_CountTimestampFields\", \"learnToolsVersion\": \"0.3.4\", \"valueTowardsCompletion\": 0.0, \"failureMessage\": \"\", \"exceptionClass\": \"\", \"trace\": \"\", \"outcomeType\": 4}}, \"*\")"
      ],
      "text/plain": [
       "<IPython.core.display.Javascript object>"
      ]
     },
     "metadata": {},
     "output_type": "display_data"
    },
    {
     "data": {
      "text/markdown": [
       "<span style=\"color:#33cc99\">Solution:</span> \n",
       "```python\n",
       "\n",
       "# Construct a reference to the \"crime\" table\n",
       "table_ref = dataset_ref.table(\"crime\")\n",
       "\n",
       "# API request - fetch the table\n",
       "table = client.get_table(table_ref)\n",
       "\n",
       "# Print information on all the columns in the \"crime\" table in the \"chicago_crime\" dataset\n",
       "print(table.schema)\n",
       "\n",
       "num_timestamp_fields = 2\n",
       "\n",
       "```"
      ],
      "text/plain": [
       "Solution: \n",
       "```python\n",
       "\n",
       "# Construct a reference to the \"crime\" table\n",
       "table_ref = dataset_ref.table(\"crime\")\n",
       "\n",
       "# API request - fetch the table\n",
       "table = client.get_table(table_ref)\n",
       "\n",
       "# Print information on all the columns in the \"crime\" table in the \"chicago_crime\" dataset\n",
       "print(table.schema)\n",
       "\n",
       "num_timestamp_fields = 2\n",
       "\n",
       "```"
      ]
     },
     "metadata": {},
     "output_type": "display_data"
    }
   ],
   "source": [
    "q_2.hint()\n",
    "q_2.solution()"
   ]
  },
  {
   "cell_type": "markdown",
   "id": "5599218d",
   "metadata": {
    "papermill": {
     "duration": 0.008066,
     "end_time": "2024-06-19T10:15:12.384031",
     "exception": false,
     "start_time": "2024-06-19T10:15:12.375965",
     "status": "completed"
    },
    "tags": []
   },
   "source": [
    "### 3) Create a crime map\n",
    "\n",
    "If you wanted to create a map with a dot at the location of each crime, what are the names of the two fields you likely need to pull out of the `crime` table to plot the crimes on a map?"
   ]
  },
  {
   "cell_type": "code",
   "execution_count": 9,
   "id": "61e13ef2",
   "metadata": {
    "execution": {
     "iopub.execute_input": "2024-06-19T10:15:12.401489Z",
     "iopub.status.busy": "2024-06-19T10:15:12.401119Z",
     "iopub.status.idle": "2024-06-19T10:15:12.405787Z",
     "shell.execute_reply": "2024-06-19T10:15:12.404778Z"
    },
    "papermill": {
     "duration": 0.016644,
     "end_time": "2024-06-19T10:15:12.408310",
     "exception": false,
     "start_time": "2024-06-19T10:15:12.391666",
     "status": "completed"
    },
    "tags": []
   },
   "outputs": [],
   "source": [
    "# Write the code here to explore the data so you can find the answer"
   ]
  },
  {
   "cell_type": "code",
   "execution_count": 10,
   "id": "7a4b5da8",
   "metadata": {
    "execution": {
     "iopub.execute_input": "2024-06-19T10:15:12.425869Z",
     "iopub.status.busy": "2024-06-19T10:15:12.425452Z",
     "iopub.status.idle": "2024-06-19T10:15:12.435485Z",
     "shell.execute_reply": "2024-06-19T10:15:12.433886Z"
    },
    "papermill": {
     "duration": 0.021949,
     "end_time": "2024-06-19T10:15:12.438278",
     "exception": false,
     "start_time": "2024-06-19T10:15:12.416329",
     "status": "completed"
    },
    "tags": []
   },
   "outputs": [
    {
     "data": {
      "application/javascript": [
       "parent.postMessage({\"jupyterEvent\": \"custom.exercise_interaction\", \"data\": {\"outcomeType\": 1, \"valueTowardsCompletion\": 0.3333333333333333, \"interactionType\": 1, \"questionType\": 2, \"questionId\": \"3_IdentifyFieldsForPlotting\", \"learnToolsVersion\": \"0.3.4\", \"failureMessage\": \"\", \"exceptionClass\": \"\", \"trace\": \"\"}}, \"*\")"
      ],
      "text/plain": [
       "<IPython.core.display.Javascript object>"
      ]
     },
     "metadata": {},
     "output_type": "display_data"
    },
    {
     "data": {
      "text/markdown": [
       "<span style=\"color:#33cc33\">Correct</span>"
      ],
      "text/plain": [
       "Correct"
      ]
     },
     "metadata": {},
     "output_type": "display_data"
    }
   ],
   "source": [
    "fields_for_plotting = ['latitude', 'longitude'] # Put your answers here\n",
    "\n",
    "# Check your answer\n",
    "q_3.check()"
   ]
  },
  {
   "cell_type": "markdown",
   "id": "228649cc",
   "metadata": {
    "papermill": {
     "duration": 0.008636,
     "end_time": "2024-06-19T10:15:12.455038",
     "exception": false,
     "start_time": "2024-06-19T10:15:12.446402",
     "status": "completed"
    },
    "tags": []
   },
   "source": [
    "For a hint or the solution, uncomment the appropriate line below."
   ]
  },
  {
   "cell_type": "code",
   "execution_count": 11,
   "id": "7f2a0213",
   "metadata": {
    "execution": {
     "iopub.execute_input": "2024-06-19T10:15:12.474111Z",
     "iopub.status.busy": "2024-06-19T10:15:12.473639Z",
     "iopub.status.idle": "2024-06-19T10:15:12.488121Z",
     "shell.execute_reply": "2024-06-19T10:15:12.486962Z"
    },
    "papermill": {
     "duration": 0.027353,
     "end_time": "2024-06-19T10:15:12.490989",
     "exception": false,
     "start_time": "2024-06-19T10:15:12.463636",
     "status": "completed"
    },
    "tags": []
   },
   "outputs": [
    {
     "data": {
      "application/javascript": [
       "parent.postMessage({\"jupyterEvent\": \"custom.exercise_interaction\", \"data\": {\"interactionType\": 2, \"questionType\": 2, \"questionId\": \"3_IdentifyFieldsForPlotting\", \"learnToolsVersion\": \"0.3.4\", \"valueTowardsCompletion\": 0.0, \"failureMessage\": \"\", \"exceptionClass\": \"\", \"trace\": \"\", \"outcomeType\": 4}}, \"*\")"
      ],
      "text/plain": [
       "<IPython.core.display.Javascript object>"
      ]
     },
     "metadata": {},
     "output_type": "display_data"
    },
    {
     "data": {
      "text/markdown": [
       "<span style=\"color:#3366cc\">Hint:</span> Look at the table schema.  There are a couple options, but two of the fields are things commonly used to plot on maps. Both are `'FLOAT'` types. Use quotes around the field names in your answer."
      ],
      "text/plain": [
       "Hint: Look at the table schema.  There are a couple options, but two of the fields are things commonly used to plot on maps. Both are `'FLOAT'` types. Use quotes around the field names in your answer."
      ]
     },
     "metadata": {},
     "output_type": "display_data"
    },
    {
     "data": {
      "application/javascript": [
       "parent.postMessage({\"jupyterEvent\": \"custom.exercise_interaction\", \"data\": {\"interactionType\": 3, \"questionType\": 2, \"questionId\": \"3_IdentifyFieldsForPlotting\", \"learnToolsVersion\": \"0.3.4\", \"valueTowardsCompletion\": 0.0, \"failureMessage\": \"\", \"exceptionClass\": \"\", \"trace\": \"\", \"outcomeType\": 4}}, \"*\")"
      ],
      "text/plain": [
       "<IPython.core.display.Javascript object>"
      ]
     },
     "metadata": {},
     "output_type": "display_data"
    },
    {
     "data": {
      "text/markdown": [
       "<span style=\"color:#33cc99\">Solution:</span> \n",
       "```python\n",
       "fields_for_plotting = ['latitude', 'longitude']\n",
       "```"
      ],
      "text/plain": [
       "Solution: \n",
       "```python\n",
       "fields_for_plotting = ['latitude', 'longitude']\n",
       "```"
      ]
     },
     "metadata": {},
     "output_type": "display_data"
    }
   ],
   "source": [
    "q_3.hint()\n",
    "q_3.solution()"
   ]
  },
  {
   "cell_type": "markdown",
   "id": "b852433b",
   "metadata": {
    "papermill": {
     "duration": 0.008173,
     "end_time": "2024-06-19T10:15:12.507713",
     "exception": false,
     "start_time": "2024-06-19T10:15:12.499540",
     "status": "completed"
    },
    "tags": []
   },
   "source": [
    "Thinking about the question above, there are a few columns that appear to have geographic data. Look at a few values (with the `list_rows()` command) to see if you can determine their relationship.  Two columns will still be hard to interpret. But it should be obvious how the `location` column relates to `latitude` and `longitude`."
   ]
  },
  {
   "cell_type": "code",
   "execution_count": 12,
   "id": "5008d41d",
   "metadata": {
    "execution": {
     "iopub.execute_input": "2024-06-19T10:15:12.526488Z",
     "iopub.status.busy": "2024-06-19T10:15:12.526043Z",
     "iopub.status.idle": "2024-06-19T10:15:12.531215Z",
     "shell.execute_reply": "2024-06-19T10:15:12.530081Z"
    },
    "papermill": {
     "duration": 0.017435,
     "end_time": "2024-06-19T10:15:12.533552",
     "exception": false,
     "start_time": "2024-06-19T10:15:12.516117",
     "status": "completed"
    },
    "tags": []
   },
   "outputs": [],
   "source": [
    "# Scratch space for your code"
   ]
  },
  {
   "cell_type": "markdown",
   "id": "68461b14",
   "metadata": {
    "papermill": {
     "duration": 0.007643,
     "end_time": "2024-06-19T10:15:12.549564",
     "exception": false,
     "start_time": "2024-06-19T10:15:12.541921",
     "status": "completed"
    },
    "tags": []
   },
   "source": [
    "# Keep going\n",
    "\n",
    "You've looked at the schema, but you haven't yet done anything exciting with the data itself. Things get more interesting when you get to the data, so keep going to **[write your first SQL query](https://www.kaggle.com/dansbecker/select-from-where).**"
   ]
  },
  {
   "cell_type": "markdown",
   "id": "7b52ed64",
   "metadata": {
    "papermill": {
     "duration": 0.0078,
     "end_time": "2024-06-19T10:15:12.565267",
     "exception": false,
     "start_time": "2024-06-19T10:15:12.557467",
     "status": "completed"
    },
    "tags": []
   },
   "source": [
    "---\n",
    "\n",
    "\n",
    "\n",
    "\n",
    "*Have questions or comments? Visit the [course discussion forum](https://www.kaggle.com/learn/intro-to-sql/discussion) to chat with other learners.*"
   ]
  }
 ],
 "metadata": {
  "kaggle": {
   "accelerator": "none",
   "dataSources": [
    {
     "datasetId": 22090,
     "sourceId": 28376,
     "sourceType": "datasetVersion"
    },
    {
     "datasetId": 6057,
     "sourceId": 285982,
     "sourceType": "datasetVersion"
    }
   ],
   "isGpuEnabled": false,
   "isInternetEnabled": false,
   "language": "python",
   "sourceType": "notebook"
  },
  "kernelspec": {
   "display_name": "Python 3",
   "language": "python",
   "name": "python3"
  },
  "language_info": {
   "codemirror_mode": {
    "name": "ipython",
    "version": 3
   },
   "file_extension": ".py",
   "mimetype": "text/x-python",
   "name": "python",
   "nbconvert_exporter": "python",
   "pygments_lexer": "ipython3",
   "version": "3.10.13"
  },
  "papermill": {
   "default_parameters": {},
   "duration": 11.153403,
   "end_time": "2024-06-19T10:15:13.398556",
   "environment_variables": {},
   "exception": null,
   "input_path": "__notebook__.ipynb",
   "output_path": "__notebook__.ipynb",
   "parameters": {},
   "start_time": "2024-06-19T10:15:02.245153",
   "version": "2.5.0"
  }
 },
 "nbformat": 4,
 "nbformat_minor": 5
}
