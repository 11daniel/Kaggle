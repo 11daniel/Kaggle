{
 "cells": [
  {
   "cell_type": "markdown",
   "id": "d9d76443",
   "metadata": {
    "papermill": {
     "duration": 0.004522,
     "end_time": "2024-06-19T14:19:23.768576",
     "exception": false,
     "start_time": "2024-06-19T14:19:23.764054",
     "status": "completed"
    },
    "tags": []
   },
   "source": [
    "**This notebook is an exercise in the [SQL](https://www.kaggle.com/learn/intro-to-sql) course.  You can reference the tutorial at [this link](https://www.kaggle.com/dansbecker/group-by-having-count).**\n",
    "\n",
    "---\n"
   ]
  },
  {
   "cell_type": "markdown",
   "id": "e7fbc4ed",
   "metadata": {
    "papermill": {
     "duration": 0.003689,
     "end_time": "2024-06-19T14:19:23.776548",
     "exception": false,
     "start_time": "2024-06-19T14:19:23.772859",
     "status": "completed"
    },
    "tags": []
   },
   "source": [
    "# Introduction\n",
    "\n",
    "Queries with **GROUP BY** can be powerful. There are many small things that can trip you up (like the order of the clauses), but it will start to feel natural once you've done it a few times. Here, you'll write queries using **GROUP BY** to answer questions from the Hacker News dataset.\n",
    "\n",
    "Before you get started, run the following cell to set everything up:"
   ]
  },
  {
   "cell_type": "code",
   "execution_count": 1,
   "id": "1741a64f",
   "metadata": {
    "execution": {
     "iopub.execute_input": "2024-06-19T14:19:23.786628Z",
     "iopub.status.busy": "2024-06-19T14:19:23.786155Z",
     "iopub.status.idle": "2024-06-19T14:19:33.705891Z",
     "shell.execute_reply": "2024-06-19T14:19:33.704674Z"
    },
    "papermill": {
     "duration": 9.927921,
     "end_time": "2024-06-19T14:19:33.708422",
     "exception": false,
     "start_time": "2024-06-19T14:19:23.780501",
     "status": "completed"
    },
    "tags": []
   },
   "outputs": [
    {
     "name": "stdout",
     "output_type": "stream",
     "text": [
      "Using Kaggle's public dataset BigQuery integration.\n",
      "Setup Complete\n"
     ]
    }
   ],
   "source": [
    "# Set up feedback system\n",
    "from learntools.core import binder\n",
    "binder.bind(globals())\n",
    "from learntools.sql.ex3 import *\n",
    "print(\"Setup Complete\")"
   ]
  },
  {
   "cell_type": "markdown",
   "id": "a29b6fe1",
   "metadata": {
    "papermill": {
     "duration": 0.003903,
     "end_time": "2024-06-19T14:19:33.716725",
     "exception": false,
     "start_time": "2024-06-19T14:19:33.712822",
     "status": "completed"
    },
    "tags": []
   },
   "source": [
    "The code cell below fetches the `full` table from the `hacker_news` dataset.  We also preview the first five rows of the table."
   ]
  },
  {
   "cell_type": "code",
   "execution_count": 2,
   "id": "f36264d2",
   "metadata": {
    "execution": {
     "iopub.execute_input": "2024-06-19T14:19:33.727401Z",
     "iopub.status.busy": "2024-06-19T14:19:33.726865Z",
     "iopub.status.idle": "2024-06-19T14:19:36.364615Z",
     "shell.execute_reply": "2024-06-19T14:19:36.363442Z"
    },
    "papermill": {
     "duration": 2.646533,
     "end_time": "2024-06-19T14:19:36.367481",
     "exception": false,
     "start_time": "2024-06-19T14:19:33.720948",
     "status": "completed"
    },
    "tags": []
   },
   "outputs": [
    {
     "name": "stdout",
     "output_type": "stream",
     "text": [
      "Using Kaggle's public dataset BigQuery integration.\n"
     ]
    },
    {
     "data": {
      "text/html": [
       "<div>\n",
       "<style scoped>\n",
       "    .dataframe tbody tr th:only-of-type {\n",
       "        vertical-align: middle;\n",
       "    }\n",
       "\n",
       "    .dataframe tbody tr th {\n",
       "        vertical-align: top;\n",
       "    }\n",
       "\n",
       "    .dataframe thead th {\n",
       "        text-align: right;\n",
       "    }\n",
       "</style>\n",
       "<table border=\"1\" class=\"dataframe\">\n",
       "  <thead>\n",
       "    <tr style=\"text-align: right;\">\n",
       "      <th></th>\n",
       "      <th>title</th>\n",
       "      <th>url</th>\n",
       "      <th>text</th>\n",
       "      <th>dead</th>\n",
       "      <th>by</th>\n",
       "      <th>score</th>\n",
       "      <th>time</th>\n",
       "      <th>timestamp</th>\n",
       "      <th>type</th>\n",
       "      <th>id</th>\n",
       "      <th>parent</th>\n",
       "      <th>descendants</th>\n",
       "      <th>ranking</th>\n",
       "      <th>deleted</th>\n",
       "    </tr>\n",
       "  </thead>\n",
       "  <tbody>\n",
       "    <tr>\n",
       "      <th>0</th>\n",
       "      <td>None</td>\n",
       "      <td>None</td>\n",
       "      <td>None</td>\n",
       "      <td>None</td>\n",
       "      <td>None</td>\n",
       "      <td>NaN</td>\n",
       "      <td>NaN</td>\n",
       "      <td>NaT</td>\n",
       "      <td>story</td>\n",
       "      <td>99684</td>\n",
       "      <td>NaN</td>\n",
       "      <td>NaN</td>\n",
       "      <td>NaN</td>\n",
       "      <td>None</td>\n",
       "    </tr>\n",
       "    <tr>\n",
       "      <th>1</th>\n",
       "      <td>None</td>\n",
       "      <td>None</td>\n",
       "      <td>None</td>\n",
       "      <td>None</td>\n",
       "      <td>None</td>\n",
       "      <td>NaN</td>\n",
       "      <td>1.438180e+09</td>\n",
       "      <td>2015-07-29 14:21:04+00:00</td>\n",
       "      <td>story</td>\n",
       "      <td>9968778</td>\n",
       "      <td>NaN</td>\n",
       "      <td>NaN</td>\n",
       "      <td>NaN</td>\n",
       "      <td>True</td>\n",
       "    </tr>\n",
       "    <tr>\n",
       "      <th>2</th>\n",
       "      <td>None</td>\n",
       "      <td>None</td>\n",
       "      <td>None</td>\n",
       "      <td>None</td>\n",
       "      <td>None</td>\n",
       "      <td>NaN</td>\n",
       "      <td>1.438181e+09</td>\n",
       "      <td>2015-07-29 14:36:05+00:00</td>\n",
       "      <td>story</td>\n",
       "      <td>9968878</td>\n",
       "      <td>NaN</td>\n",
       "      <td>NaN</td>\n",
       "      <td>NaN</td>\n",
       "      <td>True</td>\n",
       "    </tr>\n",
       "    <tr>\n",
       "      <th>3</th>\n",
       "      <td>None</td>\n",
       "      <td>None</td>\n",
       "      <td>None</td>\n",
       "      <td>None</td>\n",
       "      <td>None</td>\n",
       "      <td>NaN</td>\n",
       "      <td>1.438181e+09</td>\n",
       "      <td>2015-07-29 14:39:23+00:00</td>\n",
       "      <td>story</td>\n",
       "      <td>9968908</td>\n",
       "      <td>NaN</td>\n",
       "      <td>NaN</td>\n",
       "      <td>NaN</td>\n",
       "      <td>True</td>\n",
       "    </tr>\n",
       "    <tr>\n",
       "      <th>4</th>\n",
       "      <td>None</td>\n",
       "      <td>None</td>\n",
       "      <td>None</td>\n",
       "      <td>None</td>\n",
       "      <td>None</td>\n",
       "      <td>NaN</td>\n",
       "      <td>1.438182e+09</td>\n",
       "      <td>2015-07-29 14:54:53+00:00</td>\n",
       "      <td>story</td>\n",
       "      <td>9969016</td>\n",
       "      <td>NaN</td>\n",
       "      <td>NaN</td>\n",
       "      <td>NaN</td>\n",
       "      <td>True</td>\n",
       "    </tr>\n",
       "  </tbody>\n",
       "</table>\n",
       "</div>"
      ],
      "text/plain": [
       "  title   url  text  dead    by  score          time  \\\n",
       "0  None  None  None  None  None    NaN           NaN   \n",
       "1  None  None  None  None  None    NaN  1.438180e+09   \n",
       "2  None  None  None  None  None    NaN  1.438181e+09   \n",
       "3  None  None  None  None  None    NaN  1.438181e+09   \n",
       "4  None  None  None  None  None    NaN  1.438182e+09   \n",
       "\n",
       "                  timestamp   type       id  parent  descendants  ranking  \\\n",
       "0                       NaT  story    99684     NaN          NaN      NaN   \n",
       "1 2015-07-29 14:21:04+00:00  story  9968778     NaN          NaN      NaN   \n",
       "2 2015-07-29 14:36:05+00:00  story  9968878     NaN          NaN      NaN   \n",
       "3 2015-07-29 14:39:23+00:00  story  9968908     NaN          NaN      NaN   \n",
       "4 2015-07-29 14:54:53+00:00  story  9969016     NaN          NaN      NaN   \n",
       "\n",
       "  deleted  \n",
       "0    None  \n",
       "1    True  \n",
       "2    True  \n",
       "3    True  \n",
       "4    True  "
      ]
     },
     "execution_count": 2,
     "metadata": {},
     "output_type": "execute_result"
    }
   ],
   "source": [
    "from google.cloud import bigquery\n",
    "\n",
    "# Create a \"Client\" object\n",
    "client = bigquery.Client()\n",
    "\n",
    "# Construct a reference to the \"hacker_news\" dataset\n",
    "dataset_ref = client.dataset(\"hacker_news\", project=\"bigquery-public-data\")\n",
    "\n",
    "# API request - fetch the dataset\n",
    "dataset = client.get_dataset(dataset_ref)\n",
    "\n",
    "# Construct a reference to the \"full\" table\n",
    "table_ref = dataset_ref.table(\"full\")\n",
    "\n",
    "# API request - fetch the table\n",
    "table = client.get_table(table_ref)\n",
    "\n",
    "# Preview the first five lines of the table\n",
    "client.list_rows(table, max_results=5).to_dataframe()"
   ]
  },
  {
   "cell_type": "markdown",
   "id": "bf05cded",
   "metadata": {
    "papermill": {
     "duration": 0.004271,
     "end_time": "2024-06-19T14:19:36.376677",
     "exception": false,
     "start_time": "2024-06-19T14:19:36.372406",
     "status": "completed"
    },
    "tags": []
   },
   "source": [
    "# Exercises\n",
    "\n",
    "### 1) Prolific commenters\n",
    "\n",
    "Hacker News would like to send awards to everyone who has written more than 10,000 posts. Write a query that returns all authors with more than 10,000 posts as well as their post counts. Call the column with post counts `NumPosts`.\n",
    "\n",
    "In case sample query is helpful, here is a query you saw in the tutorial to answer a similar question:\n",
    "```\n",
    "query = \"\"\"\n",
    "        SELECT parent, COUNT(1) AS NumPosts\n",
    "        FROM `bigquery-public-data.hacker_news.full`\n",
    "        GROUP BY parent\n",
    "        HAVING COUNT(1) > 10\n",
    "        \"\"\"\n",
    "```"
   ]
  },
  {
   "cell_type": "code",
   "execution_count": 3,
   "id": "19a8ffd5",
   "metadata": {
    "execution": {
     "iopub.execute_input": "2024-06-19T14:19:36.390025Z",
     "iopub.status.busy": "2024-06-19T14:19:36.389632Z",
     "iopub.status.idle": "2024-06-19T14:19:39.119079Z",
     "shell.execute_reply": "2024-06-19T14:19:39.117701Z"
    },
    "papermill": {
     "duration": 2.739094,
     "end_time": "2024-06-19T14:19:39.121543",
     "exception": false,
     "start_time": "2024-06-19T14:19:36.382449",
     "status": "completed"
    },
    "tags": []
   },
   "outputs": [
    {
     "name": "stdout",
     "output_type": "stream",
     "text": [
      "        author  NumPosts\n",
      "0    dllthomas     10607\n",
      "1  sliverstorm     11080\n",
      "2      coldtea     36026\n",
      "3  mschuster91     11833\n",
      "4        krapp     14537\n"
     ]
    },
    {
     "data": {
      "application/javascript": [
       "parent.postMessage({\"jupyterEvent\": \"custom.exercise_interaction\", \"data\": {\"outcomeType\": 1, \"valueTowardsCompletion\": 0.5, \"interactionType\": 1, \"questionType\": 2, \"questionId\": \"1_ProlificCommenters\", \"learnToolsVersion\": \"0.3.4\", \"failureMessage\": \"\", \"exceptionClass\": \"\", \"trace\": \"\"}}, \"*\")"
      ],
      "text/plain": [
       "<IPython.core.display.Javascript object>"
      ]
     },
     "metadata": {},
     "output_type": "display_data"
    },
    {
     "data": {
      "text/markdown": [
       "<span style=\"color:#33cc33\">Correct</span>"
      ],
      "text/plain": [
       "Correct"
      ]
     },
     "metadata": {},
     "output_type": "display_data"
    }
   ],
   "source": [
    "# Query to select prolific commenters and post counts\n",
    "prolific_commenters_query = \"\"\"\n",
    "                            SELECT `by` AS author, COUNT(1) AS NumPosts\n",
    "                            FROM `bigquery-public-data.hacker_news.full`\n",
    "                            GROUP BY author\n",
    "                            HAVING COUNT(1) > 10000\n",
    "                            \"\"\" # Your code goes here\n",
    "\n",
    "# Set up the query (cancel the query if it would use too much of \n",
    "# your quota, with the limit set to 1 GB)\n",
    "safe_config = bigquery.QueryJobConfig(maximum_bytes_billed=10**10)\n",
    "query_job = client.query(prolific_commenters_query, job_config=safe_config)\n",
    "\n",
    "# API request - run the query, and return a pandas DataFrame\n",
    "prolific_commenters = query_job.to_dataframe()\n",
    "\n",
    "# View top few rows of results\n",
    "print(prolific_commenters.head())\n",
    "\n",
    "# Check your answer\n",
    "q_1.check()"
   ]
  },
  {
   "cell_type": "markdown",
   "id": "72af4995",
   "metadata": {
    "papermill": {
     "duration": 0.004833,
     "end_time": "2024-06-19T14:19:39.131725",
     "exception": false,
     "start_time": "2024-06-19T14:19:39.126892",
     "status": "completed"
    },
    "tags": []
   },
   "source": [
    "For the solution, uncomment the line below."
   ]
  },
  {
   "cell_type": "code",
   "execution_count": 4,
   "id": "49d5886e",
   "metadata": {
    "execution": {
     "iopub.execute_input": "2024-06-19T14:19:39.143396Z",
     "iopub.status.busy": "2024-06-19T14:19:39.143009Z",
     "iopub.status.idle": "2024-06-19T14:19:39.152501Z",
     "shell.execute_reply": "2024-06-19T14:19:39.151135Z"
    },
    "papermill": {
     "duration": 0.018528,
     "end_time": "2024-06-19T14:19:39.155190",
     "exception": false,
     "start_time": "2024-06-19T14:19:39.136662",
     "status": "completed"
    },
    "tags": []
   },
   "outputs": [
    {
     "data": {
      "application/javascript": [
       "parent.postMessage({\"jupyterEvent\": \"custom.exercise_interaction\", \"data\": {\"interactionType\": 3, \"questionType\": 2, \"questionId\": \"1_ProlificCommenters\", \"learnToolsVersion\": \"0.3.4\", \"valueTowardsCompletion\": 0.0, \"failureMessage\": \"\", \"exceptionClass\": \"\", \"trace\": \"\", \"outcomeType\": 4}}, \"*\")"
      ],
      "text/plain": [
       "<IPython.core.display.Javascript object>"
      ]
     },
     "metadata": {},
     "output_type": "display_data"
    },
    {
     "data": {
      "text/markdown": [
       "<span style=\"color:#33cc99\">Solution:</span> \n",
       "```python\n",
       "\n",
       "prolific_commenters_query = \"\"\"\n",
       "                            SELECT `by` AS author, COUNT(1) AS NumPosts\n",
       "                            FROM `bigquery-public-data.hacker_news.full`\n",
       "                            GROUP BY author\n",
       "                            HAVING COUNT(1) > 10000\n",
       "                            \"\"\"\n",
       "\n",
       "```"
      ],
      "text/plain": [
       "Solution: \n",
       "```python\n",
       "\n",
       "prolific_commenters_query = \"\"\"\n",
       "                            SELECT `by` AS author, COUNT(1) AS NumPosts\n",
       "                            FROM `bigquery-public-data.hacker_news.full`\n",
       "                            GROUP BY author\n",
       "                            HAVING COUNT(1) > 10000\n",
       "                            \"\"\"\n",
       "\n",
       "```"
      ]
     },
     "metadata": {},
     "output_type": "display_data"
    }
   ],
   "source": [
    "q_1.solution()"
   ]
  },
  {
   "cell_type": "markdown",
   "id": "c2864dd4",
   "metadata": {
    "papermill": {
     "duration": 0.004798,
     "end_time": "2024-06-19T14:19:39.165375",
     "exception": false,
     "start_time": "2024-06-19T14:19:39.160577",
     "status": "completed"
    },
    "tags": []
   },
   "source": [
    "### 2) Deleted comments\n",
    "\n",
    "How many comments have been deleted? (If a comment was deleted, the `deleted` column in the table will have the value `True`.)"
   ]
  },
  {
   "cell_type": "code",
   "execution_count": 5,
   "id": "9ff4bc9e",
   "metadata": {
    "execution": {
     "iopub.execute_input": "2024-06-19T14:19:39.177032Z",
     "iopub.status.busy": "2024-06-19T14:19:39.176663Z",
     "iopub.status.idle": "2024-06-19T14:19:41.264286Z",
     "shell.execute_reply": "2024-06-19T14:19:41.262990Z"
    },
    "papermill": {
     "duration": 2.096328,
     "end_time": "2024-06-19T14:19:41.266750",
     "exception": false,
     "start_time": "2024-06-19T14:19:39.170422",
     "status": "completed"
    },
    "tags": []
   },
   "outputs": [
    {
     "name": "stdout",
     "output_type": "stream",
     "text": [
      "   num_deleted_posts\n",
      "0            1180310\n"
     ]
    }
   ],
   "source": [
    "# Write your query here and figure out the answer\n",
    "# Query to determine how many posts were deleted\n",
    "deleted_posts_query = \"\"\"\n",
    "                      SELECT COUNT(1) AS num_deleted_posts\n",
    "                      FROM `bigquery-public-data.hacker_news.full`\n",
    "                      WHERE deleted = True\n",
    "                      \"\"\"\n",
    "\n",
    "# Set up the query\n",
    "query_job = client.query(deleted_posts_query)\n",
    "\n",
    "# API request - run the query, and return a pandas DataFrame\n",
    "deleted_posts = query_job.to_dataframe()\n",
    "\n",
    "# View results\n",
    "print(deleted_posts)"
   ]
  },
  {
   "cell_type": "code",
   "execution_count": 6,
   "id": "88573c84",
   "metadata": {
    "execution": {
     "iopub.execute_input": "2024-06-19T14:19:41.279403Z",
     "iopub.status.busy": "2024-06-19T14:19:41.278429Z",
     "iopub.status.idle": "2024-06-19T14:19:41.287274Z",
     "shell.execute_reply": "2024-06-19T14:19:41.286212Z"
    },
    "papermill": {
     "duration": 0.017683,
     "end_time": "2024-06-19T14:19:41.289759",
     "exception": false,
     "start_time": "2024-06-19T14:19:41.272076",
     "status": "completed"
    },
    "tags": []
   },
   "outputs": [
    {
     "data": {
      "application/javascript": [
       "parent.postMessage({\"jupyterEvent\": \"custom.exercise_interaction\", \"data\": {\"outcomeType\": 1, \"valueTowardsCompletion\": 0.5, \"interactionType\": 1, \"questionType\": 1, \"questionId\": \"2_NumDeletedPosts\", \"learnToolsVersion\": \"0.3.4\", \"failureMessage\": \"\", \"exceptionClass\": \"\", \"trace\": \"\"}}, \"*\")"
      ],
      "text/plain": [
       "<IPython.core.display.Javascript object>"
      ]
     },
     "metadata": {},
     "output_type": "display_data"
    },
    {
     "data": {
      "text/markdown": [
       "<span style=\"color:#33cc33\">Correct</span>"
      ],
      "text/plain": [
       "Correct"
      ]
     },
     "metadata": {},
     "output_type": "display_data"
    }
   ],
   "source": [
    "num_deleted_posts = 1180310 # Put your answer here\n",
    "\n",
    "# Check your answer\n",
    "q_2.check()"
   ]
  },
  {
   "cell_type": "markdown",
   "id": "6e116f53",
   "metadata": {
    "papermill": {
     "duration": 0.005165,
     "end_time": "2024-06-19T14:19:41.300333",
     "exception": false,
     "start_time": "2024-06-19T14:19:41.295168",
     "status": "completed"
    },
    "tags": []
   },
   "source": [
    "For the solution, uncomment the line below."
   ]
  },
  {
   "cell_type": "code",
   "execution_count": 7,
   "id": "bb5c1c4a",
   "metadata": {
    "execution": {
     "iopub.execute_input": "2024-06-19T14:19:41.312701Z",
     "iopub.status.busy": "2024-06-19T14:19:41.312331Z",
     "iopub.status.idle": "2024-06-19T14:19:41.320984Z",
     "shell.execute_reply": "2024-06-19T14:19:41.319872Z"
    },
    "papermill": {
     "duration": 0.017368,
     "end_time": "2024-06-19T14:19:41.323135",
     "exception": false,
     "start_time": "2024-06-19T14:19:41.305767",
     "status": "completed"
    },
    "tags": []
   },
   "outputs": [
    {
     "data": {
      "application/javascript": [
       "parent.postMessage({\"jupyterEvent\": \"custom.exercise_interaction\", \"data\": {\"interactionType\": 3, \"questionType\": 1, \"questionId\": \"2_NumDeletedPosts\", \"learnToolsVersion\": \"0.3.4\", \"valueTowardsCompletion\": 0.0, \"failureMessage\": \"\", \"exceptionClass\": \"\", \"trace\": \"\", \"outcomeType\": 4}}, \"*\")"
      ],
      "text/plain": [
       "<IPython.core.display.Javascript object>"
      ]
     },
     "metadata": {},
     "output_type": "display_data"
    },
    {
     "data": {
      "text/markdown": [
       "<span style=\"color:#33cc99\">Solution:</span> \n",
       "```python\n",
       "\n",
       "# Query to determine how many posts were deleted\n",
       "deleted_posts_query = \"\"\"\n",
       "                      SELECT COUNT(1) AS num_deleted_posts\n",
       "                      FROM `bigquery-public-data.hacker_news.full`\n",
       "                      WHERE deleted = True\n",
       "                      \"\"\"\n",
       "                      \n",
       "# Set up the query\n",
       "query_job = client.query(deleted_posts_query)\n",
       "\n",
       "# API request - run the query, and return a pandas DataFrame\n",
       "deleted_posts = query_job.to_dataframe()\n",
       "\n",
       "# View results\n",
       "print(deleted_posts)\n",
       "\n",
       "num_deleted_posts = 1180310\n",
       "\n",
       "```"
      ],
      "text/plain": [
       "Solution: \n",
       "```python\n",
       "\n",
       "# Query to determine how many posts were deleted\n",
       "deleted_posts_query = \"\"\"\n",
       "                      SELECT COUNT(1) AS num_deleted_posts\n",
       "                      FROM `bigquery-public-data.hacker_news.full`\n",
       "                      WHERE deleted = True\n",
       "                      \"\"\"\n",
       "                      \n",
       "# Set up the query\n",
       "query_job = client.query(deleted_posts_query)\n",
       "\n",
       "# API request - run the query, and return a pandas DataFrame\n",
       "deleted_posts = query_job.to_dataframe()\n",
       "\n",
       "# View results\n",
       "print(deleted_posts)\n",
       "\n",
       "num_deleted_posts = 1180310\n",
       "\n",
       "```"
      ]
     },
     "metadata": {},
     "output_type": "display_data"
    }
   ],
   "source": [
    "q_2.solution()"
   ]
  },
  {
   "cell_type": "markdown",
   "id": "551cb14b",
   "metadata": {
    "papermill": {
     "duration": 0.005757,
     "end_time": "2024-06-19T14:19:41.334626",
     "exception": false,
     "start_time": "2024-06-19T14:19:41.328869",
     "status": "completed"
    },
    "tags": []
   },
   "source": [
    "# Keep Going\n",
    "**[Click here](https://www.kaggle.com/dansbecker/order-by)** to move on and learn about the **ORDER BY** clause."
   ]
  },
  {
   "cell_type": "markdown",
   "id": "a82c0a75",
   "metadata": {
    "papermill": {
     "duration": 0.005279,
     "end_time": "2024-06-19T14:19:41.345474",
     "exception": false,
     "start_time": "2024-06-19T14:19:41.340195",
     "status": "completed"
    },
    "tags": []
   },
   "source": [
    "---\n",
    "\n",
    "\n",
    "\n",
    "\n",
    "*Have questions or comments? Visit the [course discussion forum](https://www.kaggle.com/learn/intro-to-sql/discussion) to chat with other learners.*"
   ]
  }
 ],
 "metadata": {
  "kaggle": {
   "accelerator": "none",
   "dataSources": [
    {
     "datasetId": 6057,
     "sourceId": 285982,
     "sourceType": "datasetVersion"
    }
   ],
   "isGpuEnabled": false,
   "isInternetEnabled": false,
   "language": "python",
   "sourceType": "notebook"
  },
  "kernelspec": {
   "display_name": "Python 3",
   "language": "python",
   "name": "python3"
  },
  "language_info": {
   "codemirror_mode": {
    "name": "ipython",
    "version": 3
   },
   "file_extension": ".py",
   "mimetype": "text/x-python",
   "name": "python",
   "nbconvert_exporter": "python",
   "pygments_lexer": "ipython3",
   "version": "3.10.13"
  },
  "papermill": {
   "default_parameters": {},
   "duration": 21.196517,
   "end_time": "2024-06-19T14:19:42.173974",
   "environment_variables": {},
   "exception": null,
   "input_path": "__notebook__.ipynb",
   "output_path": "__notebook__.ipynb",
   "parameters": {},
   "start_time": "2024-06-19T14:19:20.977457",
   "version": "2.5.0"
  }
 },
 "nbformat": 4,
 "nbformat_minor": 5
}
