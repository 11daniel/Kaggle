{
 "cells": [
  {
   "cell_type": "markdown",
   "id": "651cb487",
   "metadata": {
    "papermill": {
     "duration": 0.006672,
     "end_time": "2024-07-14T11:18:23.097442",
     "exception": false,
     "start_time": "2024-07-14T11:18:23.090770",
     "status": "completed"
    },
    "tags": []
   },
   "source": [
    "**This notebook is an exercise in the [Intro to Deep Learning](https://www.kaggle.com/learn/intro-to-deep-learning) course.  You can reference the tutorial at [this link](https://www.kaggle.com/ryanholbrook/dropout-and-batch-normalization).**\n",
    "\n",
    "---\n"
   ]
  },
  {
   "cell_type": "markdown",
   "id": "49ebdc6f",
   "metadata": {
    "papermill": {
     "duration": 0.005879,
     "end_time": "2024-07-14T11:18:23.109556",
     "exception": false,
     "start_time": "2024-07-14T11:18:23.103677",
     "status": "completed"
    },
    "tags": []
   },
   "source": [
    "# Introduction #\n",
    "\n",
    "In this exercise, you'll add dropout to the *Spotify* model from Exercise 4 and see how batch normalization can let you successfully train models on difficult datasets.\n",
    "\n",
    "Run the next cell to get started!"
   ]
  },
  {
   "cell_type": "code",
   "execution_count": 1,
   "id": "c0bacc27",
   "metadata": {
    "execution": {
     "iopub.execute_input": "2024-07-14T11:18:23.122902Z",
     "iopub.status.busy": "2024-07-14T11:18:23.122602Z",
     "iopub.status.idle": "2024-07-14T11:18:23.888504Z",
     "shell.execute_reply": "2024-07-14T11:18:23.887707Z"
    },
    "papermill": {
     "duration": 0.775209,
     "end_time": "2024-07-14T11:18:23.890869",
     "exception": false,
     "start_time": "2024-07-14T11:18:23.115660",
     "status": "completed"
    },
    "tags": []
   },
   "outputs": [
    {
     "name": "stderr",
     "output_type": "stream",
     "text": [
      "/tmp/ipykernel_26/195640296.py:3: MatplotlibDeprecationWarning: The seaborn styles shipped by Matplotlib are deprecated since 3.6, as they no longer correspond to the styles shipped by seaborn. However, they will remain available as 'seaborn-v0_8-<style>'. Alternatively, directly use the seaborn API instead.\n",
      "  plt.style.use('seaborn-whitegrid')\n"
     ]
    }
   ],
   "source": [
    "# Setup plotting\n",
    "import matplotlib.pyplot as plt\n",
    "plt.style.use('seaborn-whitegrid')\n",
    "# Set Matplotlib defaults\n",
    "plt.rc('figure', autolayout=True)\n",
    "plt.rc('axes', labelweight='bold', labelsize='large',\n",
    "       titleweight='bold', titlesize=18, titlepad=10)\n",
    "plt.rc('animation', html='html5')\n",
    "\n",
    "# Setup feedback system\n",
    "from learntools.core import binder\n",
    "binder.bind(globals())\n",
    "from learntools.deep_learning_intro.ex5 import *"
   ]
  },
  {
   "cell_type": "markdown",
   "id": "b69acc0a",
   "metadata": {
    "papermill": {
     "duration": 0.006061,
     "end_time": "2024-07-14T11:18:23.903397",
     "exception": false,
     "start_time": "2024-07-14T11:18:23.897336",
     "status": "completed"
    },
    "tags": []
   },
   "source": [
    "First load the *Spotify* dataset."
   ]
  },
  {
   "cell_type": "code",
   "execution_count": 2,
   "id": "1cb001fc",
   "metadata": {
    "execution": {
     "iopub.execute_input": "2024-07-14T11:18:23.916869Z",
     "iopub.status.busy": "2024-07-14T11:18:23.916531Z",
     "iopub.status.idle": "2024-07-14T11:18:37.621886Z",
     "shell.execute_reply": "2024-07-14T11:18:37.620602Z"
    },
    "papermill": {
     "duration": 13.714743,
     "end_time": "2024-07-14T11:18:37.624204",
     "exception": false,
     "start_time": "2024-07-14T11:18:23.909461",
     "status": "completed"
    },
    "tags": []
   },
   "outputs": [
    {
     "name": "stderr",
     "output_type": "stream",
     "text": [
      "2024-07-14 11:18:26.816369: E external/local_xla/xla/stream_executor/cuda/cuda_dnn.cc:9261] Unable to register cuDNN factory: Attempting to register factory for plugin cuDNN when one has already been registered\n",
      "2024-07-14 11:18:26.816472: E external/local_xla/xla/stream_executor/cuda/cuda_fft.cc:607] Unable to register cuFFT factory: Attempting to register factory for plugin cuFFT when one has already been registered\n",
      "2024-07-14 11:18:26.946545: E external/local_xla/xla/stream_executor/cuda/cuda_blas.cc:1515] Unable to register cuBLAS factory: Attempting to register factory for plugin cuBLAS when one has already been registered\n"
     ]
    },
    {
     "name": "stdout",
     "output_type": "stream",
     "text": [
      "Input shape: [18]\n"
     ]
    }
   ],
   "source": [
    "import pandas as pd\n",
    "from sklearn.preprocessing import StandardScaler, OneHotEncoder\n",
    "from sklearn.compose import make_column_transformer\n",
    "from sklearn.model_selection import GroupShuffleSplit\n",
    "\n",
    "from tensorflow import keras\n",
    "from tensorflow.keras import layers\n",
    "from tensorflow.keras import callbacks\n",
    "\n",
    "spotify = pd.read_csv('../input/dl-course-data/spotify.csv')\n",
    "\n",
    "X = spotify.copy().dropna()\n",
    "y = X.pop('track_popularity')\n",
    "artists = X['track_artist']\n",
    "\n",
    "features_num = ['danceability', 'energy', 'key', 'loudness', 'mode',\n",
    "                'speechiness', 'acousticness', 'instrumentalness',\n",
    "                'liveness', 'valence', 'tempo', 'duration_ms']\n",
    "features_cat = ['playlist_genre']\n",
    "\n",
    "preprocessor = make_column_transformer(\n",
    "    (StandardScaler(), features_num),\n",
    "    (OneHotEncoder(), features_cat),\n",
    ")\n",
    "\n",
    "def group_split(X, y, group, train_size=0.75):\n",
    "    splitter = GroupShuffleSplit(train_size=train_size)\n",
    "    train, test = next(splitter.split(X, y, groups=group))\n",
    "    return (X.iloc[train], X.iloc[test], y.iloc[train], y.iloc[test])\n",
    "\n",
    "X_train, X_valid, y_train, y_valid = group_split(X, y, artists)\n",
    "\n",
    "X_train = preprocessor.fit_transform(X_train)\n",
    "X_valid = preprocessor.transform(X_valid)\n",
    "y_train = y_train / 100\n",
    "y_valid = y_valid / 100\n",
    "\n",
    "input_shape = [X_train.shape[1]]\n",
    "print(\"Input shape: {}\".format(input_shape))"
   ]
  },
  {
   "cell_type": "markdown",
   "id": "1df865dd",
   "metadata": {
    "papermill": {
     "duration": 0.006413,
     "end_time": "2024-07-14T11:18:37.652558",
     "exception": false,
     "start_time": "2024-07-14T11:18:37.646145",
     "status": "completed"
    },
    "tags": []
   },
   "source": [
    "# 1) Add Dropout to Spotify Model\n",
    "\n",
    "Here is the last model from Exercise 4. Add two dropout layers, one after the `Dense` layer with 128 units, and one after the `Dense` layer with 64 units. Set the dropout rate on both to `0.3`."
   ]
  },
  {
   "cell_type": "code",
   "execution_count": 3,
   "id": "0591a31c",
   "metadata": {
    "execution": {
     "iopub.execute_input": "2024-07-14T11:18:37.667233Z",
     "iopub.status.busy": "2024-07-14T11:18:37.666901Z",
     "iopub.status.idle": "2024-07-14T11:18:38.413182Z",
     "shell.execute_reply": "2024-07-14T11:18:38.412264Z"
    },
    "lines_to_next_cell": 2,
    "papermill": {
     "duration": 0.755866,
     "end_time": "2024-07-14T11:18:38.415279",
     "exception": false,
     "start_time": "2024-07-14T11:18:37.659413",
     "status": "completed"
    },
    "tags": []
   },
   "outputs": [
    {
     "data": {
      "application/javascript": [
       "parent.postMessage({\"jupyterEvent\": \"custom.exercise_interaction\", \"data\": {\"outcomeType\": 1, \"valueTowardsCompletion\": 0.25, \"interactionType\": 1, \"questionType\": 2, \"questionId\": \"1_Q1\", \"learnToolsVersion\": \"0.3.4\", \"failureMessage\": \"\", \"exceptionClass\": \"\", \"trace\": \"\"}}, \"*\")"
      ],
      "text/plain": [
       "<IPython.core.display.Javascript object>"
      ]
     },
     "metadata": {},
     "output_type": "display_data"
    },
    {
     "data": {
      "text/markdown": [
       "<span style=\"color:#33cc33\">Correct</span>"
      ],
      "text/plain": [
       "Correct"
      ]
     },
     "metadata": {},
     "output_type": "display_data"
    }
   ],
   "source": [
    "# YOUR CODE HERE: Add two 30% dropout layers, one after 128 and one after 64\n",
    "model = keras.Sequential([\n",
    "    layers.Dense(128, activation='relu', input_shape=input_shape),\n",
    "    layers.Dropout(0.3),\n",
    "    layers.Dense(64, activation='relu'),\n",
    "    layers.Dropout(0.3),\n",
    "    layers.Dense(1)\n",
    "])\n",
    "\n",
    "# Check your answer\n",
    "q_1.check()"
   ]
  },
  {
   "cell_type": "code",
   "execution_count": 4,
   "id": "68194fad",
   "metadata": {
    "execution": {
     "iopub.execute_input": "2024-07-14T11:18:38.430199Z",
     "iopub.status.busy": "2024-07-14T11:18:38.429632Z",
     "iopub.status.idle": "2024-07-14T11:18:38.440312Z",
     "shell.execute_reply": "2024-07-14T11:18:38.439452Z"
    },
    "papermill": {
     "duration": 0.020179,
     "end_time": "2024-07-14T11:18:38.442275",
     "exception": false,
     "start_time": "2024-07-14T11:18:38.422096",
     "status": "completed"
    },
    "tags": []
   },
   "outputs": [
    {
     "data": {
      "application/javascript": [
       "parent.postMessage({\"jupyterEvent\": \"custom.exercise_interaction\", \"data\": {\"interactionType\": 2, \"questionType\": 2, \"questionId\": \"1_Q1\", \"learnToolsVersion\": \"0.3.4\", \"valueTowardsCompletion\": 0.0, \"failureMessage\": \"\", \"exceptionClass\": \"\", \"trace\": \"\", \"outcomeType\": 4}}, \"*\")"
      ],
      "text/plain": [
       "<IPython.core.display.Javascript object>"
      ]
     },
     "metadata": {},
     "output_type": "display_data"
    },
    {
     "data": {
      "text/markdown": [
       "<span style=\"color:#3366cc\">Hint:</span> Your answer should look something like:\n",
       "```python\n",
       "model = keras.Sequential([\n",
       "    # Dense\n",
       "    # Dropout\n",
       "    # Dense\n",
       "    # Droput\n",
       "    # Dense\n",
       "])\n",
       "```\n"
      ],
      "text/plain": [
       "Hint: Your answer should look something like:\n",
       "```python\n",
       "model = keras.Sequential([\n",
       "    # Dense\n",
       "    # Dropout\n",
       "    # Dense\n",
       "    # Droput\n",
       "    # Dense\n",
       "])\n",
       "```"
      ]
     },
     "metadata": {},
     "output_type": "display_data"
    },
    {
     "data": {
      "application/javascript": [
       "parent.postMessage({\"jupyterEvent\": \"custom.exercise_interaction\", \"data\": {\"interactionType\": 3, \"questionType\": 2, \"questionId\": \"1_Q1\", \"learnToolsVersion\": \"0.3.4\", \"valueTowardsCompletion\": 0.0, \"failureMessage\": \"\", \"exceptionClass\": \"\", \"trace\": \"\", \"outcomeType\": 4}}, \"*\")"
      ],
      "text/plain": [
       "<IPython.core.display.Javascript object>"
      ]
     },
     "metadata": {},
     "output_type": "display_data"
    },
    {
     "data": {
      "text/markdown": [
       "<span style=\"color:#33cc99\">Solution:</span> \n",
       "```python\n",
       "\n",
       "model = keras.Sequential([\n",
       "    layers.Dense(128, activation='relu', input_shape=input_shape),\n",
       "    layers.Dropout(0.3),\n",
       "    layers.Dense(64, activation='relu'),\n",
       "    layers.Dropout(0.3),\n",
       "    layers.Dense(1)\n",
       "])\n",
       "\n",
       "```"
      ],
      "text/plain": [
       "Solution: \n",
       "```python\n",
       "\n",
       "model = keras.Sequential([\n",
       "    layers.Dense(128, activation='relu', input_shape=input_shape),\n",
       "    layers.Dropout(0.3),\n",
       "    layers.Dense(64, activation='relu'),\n",
       "    layers.Dropout(0.3),\n",
       "    layers.Dense(1)\n",
       "])\n",
       "\n",
       "```"
      ]
     },
     "metadata": {},
     "output_type": "display_data"
    }
   ],
   "source": [
    "# Lines below will give you a hint or solution code\n",
    "q_1.hint()\n",
    "q_1.solution()"
   ]
  },
  {
   "cell_type": "markdown",
   "id": "5021eb56",
   "metadata": {
    "papermill": {
     "duration": 0.006956,
     "end_time": "2024-07-14T11:18:38.456519",
     "exception": false,
     "start_time": "2024-07-14T11:18:38.449563",
     "status": "completed"
    },
    "tags": []
   },
   "source": [
    "Now run this next cell to train the model see the effect of adding dropout."
   ]
  },
  {
   "cell_type": "code",
   "execution_count": 5,
   "id": "1b2dc10a",
   "metadata": {
    "execution": {
     "iopub.execute_input": "2024-07-14T11:18:38.475165Z",
     "iopub.status.busy": "2024-07-14T11:18:38.474791Z",
     "iopub.status.idle": "2024-07-14T11:18:49.905882Z",
     "shell.execute_reply": "2024-07-14T11:18:49.904933Z"
    },
    "papermill": {
     "duration": 11.443278,
     "end_time": "2024-07-14T11:18:49.907875",
     "exception": false,
     "start_time": "2024-07-14T11:18:38.464597",
     "status": "completed"
    },
    "tags": []
   },
   "outputs": [
    {
     "name": "stderr",
     "output_type": "stream",
     "text": [
      "WARNING: All log messages before absl::InitializeLog() is called are written to STDERR\n",
      "I0000 00:00:1720955921.005244      69 device_compiler.h:186] Compiled cluster using XLA!  This line is logged at most once for the lifetime of the process.\n"
     ]
    },
    {
     "name": "stdout",
     "output_type": "stream",
     "text": [
      "Minimum Validation Loss: 0.1914\n"
     ]
    },
    {
     "data": {
      "image/png": "[encoded data removed]",
      "text/plain": [
       "<Figure size 640x480 with 1 Axes>"
      ]
     },
     "metadata": {},
     "output_type": "display_data"
    }
   ],
   "source": [
    "model.compile(\n",
    "    optimizer='adam',\n",
    "    loss='mae',\n",
    ")\n",
    "history = model.fit(\n",
    "    X_train, y_train,\n",
    "    validation_data=(X_valid, y_valid),\n",
    "    batch_size=512,\n",
    "    epochs=50,\n",
    "    verbose=0,\n",
    ")\n",
    "history_df = pd.DataFrame(history.history)\n",
    "history_df.loc[:, ['loss', 'val_loss']].plot()\n",
    "print(\"Minimum Validation Loss: {:0.4f}\".format(history_df['val_loss'].min()))"
   ]
  },
  {
   "cell_type": "markdown",
   "id": "36c53d98",
   "metadata": {
    "papermill": {
     "duration": 0.007637,
     "end_time": "2024-07-14T11:18:49.923503",
     "exception": false,
     "start_time": "2024-07-14T11:18:49.915866",
     "status": "completed"
    },
    "tags": []
   },
   "source": [
    "# 2) Evaluate Dropout\n",
    "\n",
    "Recall from Exercise 4 that this model tended to overfit the data around epoch 5. Did adding dropout seem to help prevent overfitting this time?"
   ]
  },
  {
   "cell_type": "code",
   "execution_count": 6,
   "id": "d517a1be",
   "metadata": {
    "execution": {
     "iopub.execute_input": "2024-07-14T11:18:49.940253Z",
     "iopub.status.busy": "2024-07-14T11:18:49.939931Z",
     "iopub.status.idle": "2024-07-14T11:18:49.946987Z",
     "shell.execute_reply": "2024-07-14T11:18:49.946189Z"
    },
    "papermill": {
     "duration": 0.017517,
     "end_time": "2024-07-14T11:18:49.948818",
     "exception": false,
     "start_time": "2024-07-14T11:18:49.931301",
     "status": "completed"
    },
    "tags": []
   },
   "outputs": [
    {
     "data": {
      "application/javascript": [
       "parent.postMessage({\"jupyterEvent\": \"custom.exercise_interaction\", \"data\": {\"outcomeType\": 1, \"valueTowardsCompletion\": 0.25, \"interactionType\": 1, \"questionType\": 4, \"questionId\": \"2_Q2\", \"learnToolsVersion\": \"0.3.4\", \"failureMessage\": \"\", \"exceptionClass\": \"\", \"trace\": \"\"}}, \"*\")"
      ],
      "text/plain": [
       "<IPython.core.display.Javascript object>"
      ]
     },
     "metadata": {},
     "output_type": "display_data"
    },
    {
     "data": {
      "text/markdown": [
       "<span style=\"color:#33cc33\">Correct:</span> \n",
       "\n",
       "\n",
       "From the learning curves, you can see that the validation loss remains near a constant minimum even though the training loss continues to decrease. So we can see that adding dropout did prevent overfitting this time. Moreover, by making it harder for the network to fit spurious patterns, dropout may have encouraged the network to seek out more of the true patterns, possibly improving the validation loss some as well).\n"
      ],
      "text/plain": [
       "Correct: \n",
       "\n",
       "\n",
       "From the learning curves, you can see that the validation loss remains near a constant minimum even though the training loss continues to decrease. So we can see that adding dropout did prevent overfitting this time. Moreover, by making it harder for the network to fit spurious patterns, dropout may have encouraged the network to seek out more of the true patterns, possibly improving the validation loss some as well)."
      ]
     },
     "metadata": {},
     "output_type": "display_data"
    }
   ],
   "source": [
    "# View the solution (Run this cell to receive credit!)\n",
    "q_2.check()"
   ]
  },
  {
   "cell_type": "markdown",
   "id": "92376285",
   "metadata": {
    "papermill": {
     "duration": 0.007844,
     "end_time": "2024-07-14T11:18:49.964670",
     "exception": false,
     "start_time": "2024-07-14T11:18:49.956826",
     "status": "completed"
    },
    "tags": []
   },
   "source": [
    "Now, we'll switch topics to explore how batch normalization can fix problems in training.\n",
    "\n",
    "Load the *Concrete* dataset. We won't do any standardization this time. This will make the effect of batch normalization much more apparent."
   ]
  },
  {
   "cell_type": "code",
   "execution_count": 7,
   "id": "ebfb08b3",
   "metadata": {
    "execution": {
     "iopub.execute_input": "2024-07-14T11:18:49.982306Z",
     "iopub.status.busy": "2024-07-14T11:18:49.981569Z",
     "iopub.status.idle": "2024-07-14T11:18:49.999780Z",
     "shell.execute_reply": "2024-07-14T11:18:49.998902Z"
    },
    "papermill": {
     "duration": 0.028947,
     "end_time": "2024-07-14T11:18:50.001702",
     "exception": false,
     "start_time": "2024-07-14T11:18:49.972755",
     "status": "completed"
    },
    "tags": []
   },
   "outputs": [],
   "source": [
    "import pandas as pd\n",
    "\n",
    "concrete = pd.read_csv('../input/dl-course-data/concrete.csv')\n",
    "df = concrete.copy()\n",
    "\n",
    "df_train = df.sample(frac=0.7, random_state=0)\n",
    "df_valid = df.drop(df_train.index)\n",
    "\n",
    "X_train = df_train.drop('CompressiveStrength', axis=1)\n",
    "X_valid = df_valid.drop('CompressiveStrength', axis=1)\n",
    "y_train = df_train['CompressiveStrength']\n",
    "y_valid = df_valid['CompressiveStrength']\n",
    "\n",
    "input_shape = [X_train.shape[1]]"
   ]
  },
  {
   "cell_type": "markdown",
   "id": "5e339824",
   "metadata": {
    "papermill": {
     "duration": 0.007926,
     "end_time": "2024-07-14T11:18:50.017690",
     "exception": false,
     "start_time": "2024-07-14T11:18:50.009764",
     "status": "completed"
    },
    "tags": []
   },
   "source": [
    "Run the following cell to train the network on the unstandardized *Concrete* data."
   ]
  },
  {
   "cell_type": "code",
   "execution_count": 8,
   "id": "8de0caf3",
   "metadata": {
    "execution": {
     "iopub.execute_input": "2024-07-14T11:18:50.035165Z",
     "iopub.status.busy": "2024-07-14T11:18:50.034706Z",
     "iopub.status.idle": "2024-07-14T11:18:57.347574Z",
     "shell.execute_reply": "2024-07-14T11:18:57.346555Z"
    },
    "papermill": {
     "duration": 7.323649,
     "end_time": "2024-07-14T11:18:57.349550",
     "exception": false,
     "start_time": "2024-07-14T11:18:50.025901",
     "status": "completed"
    },
    "tags": []
   },
   "outputs": [
    {
     "name": "stdout",
     "output_type": "stream",
     "text": [
      "Minimum Validation Loss: nan\n"
     ]
    },
    {
     "data": {
      "image/png": "[encoded data removed]",
      "text/plain": [
       "<Figure size 640x480 with 1 Axes>"
      ]
     },
     "metadata": {},
     "output_type": "display_data"
    }
   ],
   "source": [
    "model = keras.Sequential([\n",
    "    layers.Dense(512, activation='relu', input_shape=input_shape),\n",
    "    layers.Dense(512, activation='relu'),    \n",
    "    layers.Dense(512, activation='relu'),\n",
    "    layers.Dense(1),\n",
    "])\n",
    "model.compile(\n",
    "    optimizer='sgd', # SGD is more sensitive to differences of scale\n",
    "    loss='mae',\n",
    "    metrics=['mae'],\n",
    ")\n",
    "history = model.fit(\n",
    "    X_train, y_train,\n",
    "    validation_data=(X_valid, y_valid),\n",
    "    batch_size=64,\n",
    "    epochs=100,\n",
    "    verbose=0,\n",
    ")\n",
    "\n",
    "history_df = pd.DataFrame(history.history)\n",
    "history_df.loc[0:, ['loss', 'val_loss']].plot()\n",
    "print((\"Minimum Validation Loss: {:0.4f}\").format(history_df['val_loss'].min()))"
   ]
  },
  {
   "cell_type": "markdown",
   "id": "8f2c495d",
   "metadata": {
    "papermill": {
     "duration": 0.008691,
     "end_time": "2024-07-14T11:18:57.367133",
     "exception": false,
     "start_time": "2024-07-14T11:18:57.358442",
     "status": "completed"
    },
    "tags": []
   },
   "source": [
    "Did you end up with a blank graph? Trying to train this network on this dataset will usually fail. Even when it does converge (due to a lucky weight initialization), it tends to converge to a very large number.\n",
    "\n",
    "# 3) Add Batch Normalization Layers\n",
    "\n",
    "Batch normalization can help correct problems like this.\n",
    "\n",
    "Add four `BatchNormalization` layers, one before each of the dense layers. (Remember to move the `input_shape` argument to the new first layer.)"
   ]
  },
  {
   "cell_type": "code",
   "execution_count": 9,
   "id": "d0c42ecd",
   "metadata": {
    "execution": {
     "iopub.execute_input": "2024-07-14T11:18:57.385402Z",
     "iopub.status.busy": "2024-07-14T11:18:57.385103Z",
     "iopub.status.idle": "2024-07-14T11:18:57.509988Z",
     "shell.execute_reply": "2024-07-14T11:18:57.508988Z"
    },
    "lines_to_next_cell": 0,
    "papermill": {
     "duration": 0.136167,
     "end_time": "2024-07-14T11:18:57.511824",
     "exception": false,
     "start_time": "2024-07-14T11:18:57.375657",
     "status": "completed"
    },
    "tags": []
   },
   "outputs": [
    {
     "data": {
      "application/javascript": [
       "parent.postMessage({\"jupyterEvent\": \"custom.exercise_interaction\", \"data\": {\"outcomeType\": 1, \"valueTowardsCompletion\": 0.25, \"interactionType\": 1, \"questionType\": 2, \"questionId\": \"3_Q3\", \"learnToolsVersion\": \"0.3.4\", \"failureMessage\": \"\", \"exceptionClass\": \"\", \"trace\": \"\"}}, \"*\")"
      ],
      "text/plain": [
       "<IPython.core.display.Javascript object>"
      ]
     },
     "metadata": {},
     "output_type": "display_data"
    },
    {
     "data": {
      "text/markdown": [
       "<span style=\"color:#33cc33\">Correct</span>"
      ],
      "text/plain": [
       "Correct"
      ]
     },
     "metadata": {},
     "output_type": "display_data"
    }
   ],
   "source": [
    "# YOUR CODE HERE: Add a BatchNormalization layer before each Dense layer\n",
    "model = keras.Sequential([\n",
    "    layers.BatchNormalization(input_shape=input_shape),\n",
    "    layers.Dense(512, activation='relu'),\n",
    "    layers.BatchNormalization(),\n",
    "    layers.Dense(512, activation='relu'),\n",
    "    layers.BatchNormalization(),\n",
    "    layers.Dense(512, activation='relu'),\n",
    "    layers.BatchNormalization(),\n",
    "    layers.Dense(1),\n",
    "])\n",
    "\n",
    "# Check your answer\n",
    "q_3.check()"
   ]
  },
  {
   "cell_type": "code",
   "execution_count": 10,
   "id": "65dbda8c",
   "metadata": {
    "execution": {
     "iopub.execute_input": "2024-07-14T11:18:57.530964Z",
     "iopub.status.busy": "2024-07-14T11:18:57.530680Z",
     "iopub.status.idle": "2024-07-14T11:18:57.540788Z",
     "shell.execute_reply": "2024-07-14T11:18:57.539876Z"
    },
    "papermill": {
     "duration": 0.021758,
     "end_time": "2024-07-14T11:18:57.542648",
     "exception": false,
     "start_time": "2024-07-14T11:18:57.520890",
     "status": "completed"
    },
    "tags": []
   },
   "outputs": [
    {
     "data": {
      "application/javascript": [
       "parent.postMessage({\"jupyterEvent\": \"custom.exercise_interaction\", \"data\": {\"interactionType\": 2, \"questionType\": 2, \"questionId\": \"3_Q3\", \"learnToolsVersion\": \"0.3.4\", \"valueTowardsCompletion\": 0.0, \"failureMessage\": \"\", \"exceptionClass\": \"\", \"trace\": \"\", \"outcomeType\": 4}}, \"*\")"
      ],
      "text/plain": [
       "<IPython.core.display.Javascript object>"
      ]
     },
     "metadata": {},
     "output_type": "display_data"
    },
    {
     "data": {
      "text/markdown": [
       "<span style=\"color:#3366cc\">Hint:</span> Your answer should look something like:\n",
       "```python\n",
       "model = keras.Sequential([\n",
       "    # Batch Normalization\n",
       "    # Dense\n",
       "    # Batch Normalization\n",
       "    # Dense\n",
       "    # Batch Normalization\n",
       "    # Dense\n",
       "    # Batch Normalization\n",
       "    # Dense\n",
       "])\n",
       "```\n"
      ],
      "text/plain": [
       "Hint: Your answer should look something like:\n",
       "```python\n",
       "model = keras.Sequential([\n",
       "    # Batch Normalization\n",
       "    # Dense\n",
       "    # Batch Normalization\n",
       "    # Dense\n",
       "    # Batch Normalization\n",
       "    # Dense\n",
       "    # Batch Normalization\n",
       "    # Dense\n",
       "])\n",
       "```"
      ]
     },
     "metadata": {},
     "output_type": "display_data"
    },
    {
     "data": {
      "application/javascript": [
       "parent.postMessage({\"jupyterEvent\": \"custom.exercise_interaction\", \"data\": {\"interactionType\": 3, \"questionType\": 2, \"questionId\": \"3_Q3\", \"learnToolsVersion\": \"0.3.4\", \"valueTowardsCompletion\": 0.0, \"failureMessage\": \"\", \"exceptionClass\": \"\", \"trace\": \"\", \"outcomeType\": 4}}, \"*\")"
      ],
      "text/plain": [
       "<IPython.core.display.Javascript object>"
      ]
     },
     "metadata": {},
     "output_type": "display_data"
    },
    {
     "data": {
      "text/markdown": [
       "<span style=\"color:#33cc99\">Solution:</span> \n",
       "```python\n",
       "\n",
       "model = keras.Sequential([\n",
       "    layers.BatchNormalization(input_shape=input_shape),\n",
       "    layers.Dense(512, activation='relu'),\n",
       "    layers.BatchNormalization(),\n",
       "    layers.Dense(512, activation='relu'),\n",
       "    layers.BatchNormalization(),\n",
       "    layers.Dense(512, activation='relu'),\n",
       "    layers.BatchNormalization(),\n",
       "    layers.Dense(1),\n",
       "])\n",
       "\n",
       "```"
      ],
      "text/plain": [
       "Solution: \n",
       "```python\n",
       "\n",
       "model = keras.Sequential([\n",
       "    layers.BatchNormalization(input_shape=input_shape),\n",
       "    layers.Dense(512, activation='relu'),\n",
       "    layers.BatchNormalization(),\n",
       "    layers.Dense(512, activation='relu'),\n",
       "    layers.BatchNormalization(),\n",
       "    layers.Dense(512, activation='relu'),\n",
       "    layers.BatchNormalization(),\n",
       "    layers.Dense(1),\n",
       "])\n",
       "\n",
       "```"
      ]
     },
     "metadata": {},
     "output_type": "display_data"
    }
   ],
   "source": [
    "# Lines below will give you a hint or solution code\n",
    "q_3.hint()\n",
    "q_3.solution()"
   ]
  },
  {
   "cell_type": "markdown",
   "id": "fcd74719",
   "metadata": {
    "papermill": {
     "duration": 0.008988,
     "end_time": "2024-07-14T11:18:57.560915",
     "exception": false,
     "start_time": "2024-07-14T11:18:57.551927",
     "status": "completed"
    },
    "tags": []
   },
   "source": [
    "Run the next cell to see if batch normalization will let us train the model."
   ]
  },
  {
   "cell_type": "code",
   "execution_count": 11,
   "id": "78174c80",
   "metadata": {
    "execution": {
     "iopub.execute_input": "2024-07-14T11:18:57.580566Z",
     "iopub.status.busy": "2024-07-14T11:18:57.580321Z",
     "iopub.status.idle": "2024-07-14T11:19:08.592376Z",
     "shell.execute_reply": "2024-07-14T11:19:08.591135Z"
    },
    "papermill": {
     "duration": 11.025216,
     "end_time": "2024-07-14T11:19:08.595461",
     "exception": false,
     "start_time": "2024-07-14T11:18:57.570245",
     "status": "completed"
    },
    "tags": []
   },
   "outputs": [
    {
     "name": "stdout",
     "output_type": "stream",
     "text": [
      "Minimum Validation Loss: 4.0075\n"
     ]
    },
    {
     "data": {
      "image/png": "[encoded data removed]",
      "text/plain": [
       "<Figure size 640x480 with 1 Axes>"
      ]
     },
     "metadata": {},
     "output_type": "display_data"
    }
   ],
   "source": [
    "model.compile(\n",
    "    optimizer='sgd',\n",
    "    loss='mae',\n",
    "    metrics=['mae'],\n",
    ")\n",
    "EPOCHS = 100\n",
    "history = model.fit(\n",
    "    X_train, y_train,\n",
    "    validation_data=(X_valid, y_valid),\n",
    "    batch_size=64,\n",
    "    epochs=EPOCHS,\n",
    "    verbose=0,\n",
    ")\n",
    "\n",
    "history_df = pd.DataFrame(history.history)\n",
    "history_df.loc[0:, ['loss', 'val_loss']].plot()\n",
    "print((\"Minimum Validation Loss: {:0.4f}\").format(history_df['val_loss'].min()))"
   ]
  },
  {
   "cell_type": "markdown",
   "id": "28c56f6b",
   "metadata": {
    "papermill": {
     "duration": 0.013638,
     "end_time": "2024-07-14T11:19:08.621950",
     "exception": false,
     "start_time": "2024-07-14T11:19:08.608312",
     "status": "completed"
    },
    "tags": []
   },
   "source": [
    "# 4) Evaluate Batch Normalization\n",
    "\n",
    "Did adding batch normalization help?"
   ]
  },
  {
   "cell_type": "code",
   "execution_count": 12,
   "id": "4e0b7c7a",
   "metadata": {
    "execution": {
     "iopub.execute_input": "2024-07-14T11:19:08.645188Z",
     "iopub.status.busy": "2024-07-14T11:19:08.644825Z",
     "iopub.status.idle": "2024-07-14T11:19:08.652170Z",
     "shell.execute_reply": "2024-07-14T11:19:08.651310Z"
    },
    "lines_to_next_cell": 0,
    "papermill": {
     "duration": 0.021336,
     "end_time": "2024-07-14T11:19:08.653928",
     "exception": false,
     "start_time": "2024-07-14T11:19:08.632592",
     "status": "completed"
    },
    "tags": []
   },
   "outputs": [
    {
     "data": {
      "application/javascript": [
       "parent.postMessage({\"jupyterEvent\": \"custom.exercise_interaction\", \"data\": {\"outcomeType\": 1, \"valueTowardsCompletion\": 0.25, \"interactionType\": 1, \"questionType\": 4, \"questionId\": \"4_Q4\", \"learnToolsVersion\": \"0.3.4\", \"failureMessage\": \"\", \"exceptionClass\": \"\", \"trace\": \"\"}}, \"*\")"
      ],
      "text/plain": [
       "<IPython.core.display.Javascript object>"
      ]
     },
     "metadata": {},
     "output_type": "display_data"
    },
    {
     "data": {
      "text/markdown": [
       "<span style=\"color:#33cc33\">Correct:</span> \n",
       "\n",
       "\n",
       "You can see that adding batch normalization was a big improvement on the first attempt! By adaptively scaling the data as it passes through the network, batch normalization can let you train models on difficult datasets.\n"
      ],
      "text/plain": [
       "Correct: \n",
       "\n",
       "\n",
       "You can see that adding batch normalization was a big improvement on the first attempt! By adaptively scaling the data as it passes through the network, batch normalization can let you train models on difficult datasets."
      ]
     },
     "metadata": {},
     "output_type": "display_data"
    }
   ],
   "source": [
    "# View the solution (Run this cell to receive credit!)\n",
    "q_4.check()"
   ]
  },
  {
   "cell_type": "markdown",
   "id": "4ad50469",
   "metadata": {
    "papermill": {
     "duration": 0.010001,
     "end_time": "2024-07-14T11:19:08.674186",
     "exception": false,
     "start_time": "2024-07-14T11:19:08.664185",
     "status": "completed"
    },
    "tags": []
   },
   "source": [
    "# Keep Going #\n",
    "\n",
    "[**Create neural networks**](https://www.kaggle.com/ryanholbrook/binary-classification) for binary classification."
   ]
  },
  {
   "cell_type": "markdown",
   "id": "0327feb3",
   "metadata": {
    "papermill": {
     "duration": 0.010073,
     "end_time": "2024-07-14T11:19:08.694452",
     "exception": false,
     "start_time": "2024-07-14T11:19:08.684379",
     "status": "completed"
    },
    "tags": []
   },
   "source": [
    "---\n",
    "\n",
    "\n",
    "\n",
    "\n",
    "*Have questions or comments? Visit the [course discussion forum](https://www.kaggle.com/learn/intro-to-deep-learning/discussion) to chat with other learners.*"
   ]
  }
 ],
 "metadata": {
  "jupytext": {
   "cell_metadata_filter": "-all",
   "formats": "ipynb"
  },
  "kaggle": {
   "accelerator": "gpu",
   "dataSources": [
    {
     "datasetId": 829369,
     "sourceId": 1480608,
     "sourceType": "datasetVersion"
    }
   ],
   "dockerImageVersionId": 30648,
   "isGpuEnabled": true,
   "isInternetEnabled": false,
   "language": "python",
   "sourceType": "notebook"
  },
  "kernelspec": {
   "display_name": "Python 3",
   "language": "python",
   "name": "python3"
  },
  "language_info": {
   "codemirror_mode": {
    "name": "ipython",
    "version": 3
   },
   "file_extension": ".py",
   "mimetype": "text/x-python",
   "name": "python",
   "nbconvert_exporter": "python",
   "pygments_lexer": "ipython3",
   "version": "3.10.13"
  },
  "papermill": {
   "default_parameters": {},
   "duration": 51.241441,
   "end_time": "2024-07-14T11:19:11.515294",
   "environment_variables": {},
   "exception": null,
   "input_path": "__notebook__.ipynb",
   "output_path": "__notebook__.ipynb",
   "parameters": {},
   "start_time": "2024-07-14T11:18:20.273853",
   "version": "2.5.0"
  }
 },
 "nbformat": 4,
 "nbformat_minor": 5
}
