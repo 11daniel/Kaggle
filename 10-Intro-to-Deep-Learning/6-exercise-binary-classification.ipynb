{
 "cells": [
  {
   "cell_type": "markdown",
   "id": "49031a7a",
   "metadata": {
    "papermill": {
     "duration": 0.005008,
     "end_time": "2024-07-14T11:28:47.363253",
     "exception": false,
     "start_time": "2024-07-14T11:28:47.358245",
     "status": "completed"
    },
    "tags": []
   },
   "source": [
    "**This notebook is an exercise in the [Intro to Deep Learning](https://www.kaggle.com/learn/intro-to-deep-learning) course.  You can reference the tutorial at [this link](https://www.kaggle.com/ryanholbrook/binary-classification).**\n",
    "\n",
    "---\n"
   ]
  },
  {
   "cell_type": "markdown",
   "id": "06675ee1",
   "metadata": {
    "papermill": {
     "duration": 0.004113,
     "end_time": "2024-07-14T11:28:47.371980",
     "exception": false,
     "start_time": "2024-07-14T11:28:47.367867",
     "status": "completed"
    },
    "tags": []
   },
   "source": [
    "# Introduction #\n",
    "\n",
    "In this exercise, you'll build a model to predict hotel cancellations with a binary classifier."
   ]
  },
  {
   "cell_type": "code",
   "execution_count": 1,
   "id": "d3e3fb54",
   "metadata": {
    "execution": {
     "iopub.execute_input": "2024-07-14T11:28:47.382032Z",
     "iopub.status.busy": "2024-07-14T11:28:47.381434Z",
     "iopub.status.idle": "2024-07-14T11:28:48.120703Z",
     "shell.execute_reply": "2024-07-14T11:28:48.119926Z"
    },
    "lines_to_next_cell": 0,
    "papermill": {
     "duration": 0.746908,
     "end_time": "2024-07-14T11:28:48.123125",
     "exception": false,
     "start_time": "2024-07-14T11:28:47.376217",
     "status": "completed"
    },
    "tags": []
   },
   "outputs": [
    {
     "name": "stderr",
     "output_type": "stream",
     "text": [
      "/tmp/ipykernel_26/3338970720.py:3: MatplotlibDeprecationWarning: The seaborn styles shipped by Matplotlib are deprecated since 3.6, as they no longer correspond to the styles shipped by seaborn. However, they will remain available as 'seaborn-v0_8-<style>'. Alternatively, directly use the seaborn API instead.\n",
      "  plt.style.use('seaborn-whitegrid')\n"
     ]
    }
   ],
   "source": [
    "# Setup plotting\n",
    "import matplotlib.pyplot as plt\n",
    "plt.style.use('seaborn-whitegrid')\n",
    "# Set Matplotlib defaults\n",
    "plt.rc('figure', autolayout=True)\n",
    "plt.rc('axes', labelweight='bold', labelsize='large',\n",
    "       titleweight='bold', titlesize=18, titlepad=10)\n",
    "plt.rc('animation', html='html5')\n",
    "\n",
    "# Setup feedback system\n",
    "from learntools.core import binder\n",
    "binder.bind(globals())\n",
    "from learntools.deep_learning_intro.ex6 import *"
   ]
  },
  {
   "cell_type": "markdown",
   "id": "dbbdf851",
   "metadata": {
    "papermill": {
     "duration": 0.004416,
     "end_time": "2024-07-14T11:28:48.132434",
     "exception": false,
     "start_time": "2024-07-14T11:28:48.128018",
     "status": "completed"
    },
    "tags": []
   },
   "source": [
    "First, load the *Hotel Cancellations* dataset."
   ]
  },
  {
   "cell_type": "code",
   "execution_count": 2,
   "id": "92a4fe8d",
   "metadata": {
    "execution": {
     "iopub.execute_input": "2024-07-14T11:28:48.143284Z",
     "iopub.status.busy": "2024-07-14T11:28:48.142390Z",
     "iopub.status.idle": "2024-07-14T11:28:50.789818Z",
     "shell.execute_reply": "2024-07-14T11:28:50.789004Z"
    },
    "lines_to_next_cell": 2,
    "papermill": {
     "duration": 2.655237,
     "end_time": "2024-07-14T11:28:50.792104",
     "exception": false,
     "start_time": "2024-07-14T11:28:48.136867",
     "status": "completed"
    },
    "tags": []
   },
   "outputs": [],
   "source": [
    "import pandas as pd\n",
    "\n",
    "from sklearn.model_selection import train_test_split\n",
    "from sklearn.preprocessing import StandardScaler, OneHotEncoder\n",
    "from sklearn.impute import SimpleImputer\n",
    "from sklearn.pipeline import make_pipeline\n",
    "from sklearn.compose import make_column_transformer\n",
    "\n",
    "hotel = pd.read_csv('../input/dl-course-data/hotel.csv')\n",
    "\n",
    "X = hotel.copy()\n",
    "y = X.pop('is_canceled')\n",
    "\n",
    "X['arrival_date_month'] = \\\n",
    "    X['arrival_date_month'].map(\n",
    "        {'January':1, 'February': 2, 'March':3,\n",
    "         'April':4, 'May':5, 'June':6, 'July':7,\n",
    "         'August':8, 'September':9, 'October':10,\n",
    "         'November':11, 'December':12}\n",
    "    )\n",
    "\n",
    "features_num = [\n",
    "    \"lead_time\", \"arrival_date_week_number\",\n",
    "    \"arrival_date_day_of_month\", \"stays_in_weekend_nights\",\n",
    "    \"stays_in_week_nights\", \"adults\", \"children\", \"babies\",\n",
    "    \"is_repeated_guest\", \"previous_cancellations\",\n",
    "    \"previous_bookings_not_canceled\", \"required_car_parking_spaces\",\n",
    "    \"total_of_special_requests\", \"adr\",\n",
    "]\n",
    "features_cat = [\n",
    "    \"hotel\", \"arrival_date_month\", \"meal\",\n",
    "    \"market_segment\", \"distribution_channel\",\n",
    "    \"reserved_room_type\", \"deposit_type\", \"customer_type\",\n",
    "]\n",
    "\n",
    "transformer_num = make_pipeline(\n",
    "    SimpleImputer(strategy=\"constant\"), # there are a few missing values\n",
    "    StandardScaler(),\n",
    ")\n",
    "transformer_cat = make_pipeline(\n",
    "    SimpleImputer(strategy=\"constant\", fill_value=\"NA\"),\n",
    "    OneHotEncoder(handle_unknown='ignore'),\n",
    ")\n",
    "\n",
    "preprocessor = make_column_transformer(\n",
    "    (transformer_num, features_num),\n",
    "    (transformer_cat, features_cat),\n",
    ")\n",
    "\n",
    "# stratify - make sure classes are evenlly represented across splits\n",
    "X_train, X_valid, y_train, y_valid = \\\n",
    "    train_test_split(X, y, stratify=y, train_size=0.75)\n",
    "\n",
    "X_train = preprocessor.fit_transform(X_train)\n",
    "X_valid = preprocessor.transform(X_valid)\n",
    "\n",
    "input_shape = [X_train.shape[1]]"
   ]
  },
  {
   "cell_type": "markdown",
   "id": "e4a6a099",
   "metadata": {
    "papermill": {
     "duration": 0.004295,
     "end_time": "2024-07-14T11:28:50.801103",
     "exception": false,
     "start_time": "2024-07-14T11:28:50.796808",
     "status": "completed"
    },
    "tags": []
   },
   "source": [
    "# 1) Define Model #\n",
    "\n",
    "The model we'll use this time will have both batch normalization and dropout layers. To ease reading we've broken the diagram into blocks, but you can define it layer by layer as usual.\n",
    "\n",
    "Define a model with an architecture given by this diagram:\n",
    "\n",
    "<figure style=\"padding: 1em;\">\n",
    "<img src=\"https://storage.googleapis.com/kaggle-media/learn/images/V04o59Z.png\" width=\"400\" alt=\"Diagram of network architecture: BatchNorm, Dense, BatchNorm, Dropout, Dense, BatchNorm, Dropout, Dense.\">\n",
    "<figcaption style=\"textalign: center; font-style: italic\"><center>Diagram of a binary classifier.</center></figcaption>\n",
    "</figure>\n"
   ]
  },
  {
   "cell_type": "code",
   "execution_count": 3,
   "id": "5caaeff7",
   "metadata": {
    "execution": {
     "iopub.execute_input": "2024-07-14T11:28:50.811204Z",
     "iopub.status.busy": "2024-07-14T11:28:50.810908Z",
     "iopub.status.idle": "2024-07-14T11:29:04.318914Z",
     "shell.execute_reply": "2024-07-14T11:29:04.317951Z"
    },
    "lines_to_next_cell": 2,
    "papermill": {
     "duration": 13.516085,
     "end_time": "2024-07-14T11:29:04.321701",
     "exception": false,
     "start_time": "2024-07-14T11:28:50.805616",
     "status": "completed"
    },
    "tags": []
   },
   "outputs": [
    {
     "name": "stderr",
     "output_type": "stream",
     "text": [
      "2024-07-14 11:28:52.634424: E external/local_xla/xla/stream_executor/cuda/cuda_dnn.cc:9261] Unable to register cuDNN factory: Attempting to register factory for plugin cuDNN when one has already been registered\n",
      "2024-07-14 11:28:52.634515: E external/local_xla/xla/stream_executor/cuda/cuda_fft.cc:607] Unable to register cuFFT factory: Attempting to register factory for plugin cuFFT when one has already been registered\n",
      "2024-07-14 11:28:52.775923: E external/local_xla/xla/stream_executor/cuda/cuda_blas.cc:1515] Unable to register cuBLAS factory: Attempting to register factory for plugin cuBLAS when one has already been registered\n"
     ]
    },
    {
     "data": {
      "application/javascript": [
       "parent.postMessage({\"jupyterEvent\": \"custom.exercise_interaction\", \"data\": {\"outcomeType\": 1, \"valueTowardsCompletion\": 0.3333333333333333, \"interactionType\": 1, \"questionType\": 2, \"questionId\": \"1_Q1\", \"learnToolsVersion\": \"0.3.4\", \"failureMessage\": \"\", \"exceptionClass\": \"\", \"trace\": \"\"}}, \"*\")"
      ],
      "text/plain": [
       "<IPython.core.display.Javascript object>"
      ]
     },
     "metadata": {},
     "output_type": "display_data"
    },
    {
     "data": {
      "text/markdown": [
       "<span style=\"color:#33cc33\">Correct</span>"
      ],
      "text/plain": [
       "Correct"
      ]
     },
     "metadata": {},
     "output_type": "display_data"
    }
   ],
   "source": [
    "from tensorflow import keras\n",
    "from tensorflow.keras import layers\n",
    "\n",
    "# YOUR CODE HERE: define the model given in the diagram\n",
    "model = keras.Sequential([\n",
    "    layers.BatchNormalization(input_shape=input_shape),\n",
    "    layers.Dense(256, activation='relu'),\n",
    "    layers.BatchNormalization(),\n",
    "    layers.Dropout(0.3),\n",
    "    layers.Dense(256, activation='relu'),\n",
    "    layers.BatchNormalization(),\n",
    "    layers.Dropout(0.3),\n",
    "    layers.Dense(1, activation='sigmoid')\n",
    "])\n",
    "\n",
    "# Check your answer\n",
    "q_1.check()"
   ]
  },
  {
   "cell_type": "markdown",
   "id": "711c24d7",
   "metadata": {
    "papermill": {
     "duration": 0.005225,
     "end_time": "2024-07-14T11:29:04.332133",
     "exception": false,
     "start_time": "2024-07-14T11:29:04.326908",
     "status": "completed"
    },
    "tags": []
   },
   "source": [
    "# 2) Add Optimizer, Loss, and Metric #\n",
    "\n",
    "Now compile the model with the Adam optimizer and binary versions of the cross-entropy loss and accuracy metric."
   ]
  },
  {
   "cell_type": "code",
   "execution_count": 4,
   "id": "09bddfa5",
   "metadata": {
    "execution": {
     "iopub.execute_input": "2024-07-14T11:29:04.343477Z",
     "iopub.status.busy": "2024-07-14T11:29:04.343147Z",
     "iopub.status.idle": "2024-07-14T11:29:04.364177Z",
     "shell.execute_reply": "2024-07-14T11:29:04.363270Z"
    },
    "lines_to_next_cell": 0,
    "papermill": {
     "duration": 0.028657,
     "end_time": "2024-07-14T11:29:04.366143",
     "exception": false,
     "start_time": "2024-07-14T11:29:04.337486",
     "status": "completed"
    },
    "tags": []
   },
   "outputs": [
    {
     "data": {
      "application/javascript": [
       "parent.postMessage({\"jupyterEvent\": \"custom.exercise_interaction\", \"data\": {\"outcomeType\": 1, \"valueTowardsCompletion\": 0.3333333333333333, \"interactionType\": 1, \"questionType\": 2, \"questionId\": \"2_Q2\", \"learnToolsVersion\": \"0.3.4\", \"failureMessage\": \"\", \"exceptionClass\": \"\", \"trace\": \"\"}}, \"*\")"
      ],
      "text/plain": [
       "<IPython.core.display.Javascript object>"
      ]
     },
     "metadata": {},
     "output_type": "display_data"
    },
    {
     "data": {
      "text/markdown": [
       "<span style=\"color:#33cc33\">Correct</span>"
      ],
      "text/plain": [
       "Correct"
      ]
     },
     "metadata": {},
     "output_type": "display_data"
    }
   ],
   "source": [
    "# YOUR CODE HERE\n",
    "model.compile(\n",
    "    optimizer='adam',\n",
    "    loss='binary_crossentropy',\n",
    "    metrics=['binary_accuracy'],\n",
    ")\n",
    "\n",
    "# Check your answer\n",
    "q_2.check()"
   ]
  },
  {
   "cell_type": "code",
   "execution_count": 5,
   "id": "551424b4",
   "metadata": {
    "execution": {
     "iopub.execute_input": "2024-07-14T11:29:04.377726Z",
     "iopub.status.busy": "2024-07-14T11:29:04.377455Z",
     "iopub.status.idle": "2024-07-14T11:29:04.388289Z",
     "shell.execute_reply": "2024-07-14T11:29:04.387452Z"
    },
    "lines_to_next_cell": 0,
    "papermill": {
     "duration": 0.01896,
     "end_time": "2024-07-14T11:29:04.390226",
     "exception": false,
     "start_time": "2024-07-14T11:29:04.371266",
     "status": "completed"
    },
    "tags": []
   },
   "outputs": [
    {
     "data": {
      "application/javascript": [
       "parent.postMessage({\"jupyterEvent\": \"custom.exercise_interaction\", \"data\": {\"interactionType\": 2, \"questionType\": 2, \"questionId\": \"2_Q2\", \"learnToolsVersion\": \"0.3.4\", \"valueTowardsCompletion\": 0.0, \"failureMessage\": \"\", \"exceptionClass\": \"\", \"trace\": \"\", \"outcomeType\": 4}}, \"*\")"
      ],
      "text/plain": [
       "<IPython.core.display.Javascript object>"
      ]
     },
     "metadata": {},
     "output_type": "display_data"
    },
    {
     "data": {
      "text/markdown": [
       "<span style=\"color:#3366cc\">Hint:</span> Your code should look something like:\n",
       "```python\n",
       "model.compile(\n",
       "optimizer=____,\n",
       "loss=____,\n",
       "metrics=____,\n",
       ")\n",
       "```\n"
      ],
      "text/plain": [
       "Hint: Your code should look something like:\n",
       "```python\n",
       "model.compile(\n",
       "optimizer=____,\n",
       "loss=____,\n",
       "metrics=____,\n",
       ")\n",
       "```"
      ]
     },
     "metadata": {},
     "output_type": "display_data"
    },
    {
     "data": {
      "application/javascript": [
       "parent.postMessage({\"jupyterEvent\": \"custom.exercise_interaction\", \"data\": {\"interactionType\": 3, \"questionType\": 2, \"questionId\": \"2_Q2\", \"learnToolsVersion\": \"0.3.4\", \"valueTowardsCompletion\": 0.0, \"failureMessage\": \"\", \"exceptionClass\": \"\", \"trace\": \"\", \"outcomeType\": 4}}, \"*\")"
      ],
      "text/plain": [
       "<IPython.core.display.Javascript object>"
      ]
     },
     "metadata": {},
     "output_type": "display_data"
    },
    {
     "data": {
      "text/markdown": [
       "<span style=\"color:#33cc99\">Solution:</span> \n",
       "```python\n",
       "\n",
       "model.compile(\n",
       "    optimizer='adam',\n",
       "    loss='binary_crossentropy',\n",
       "    metrics=['binary_accuracy'],\n",
       ")\n",
       "\n",
       "```"
      ],
      "text/plain": [
       "Solution: \n",
       "```python\n",
       "\n",
       "model.compile(\n",
       "    optimizer='adam',\n",
       "    loss='binary_crossentropy',\n",
       "    metrics=['binary_accuracy'],\n",
       ")\n",
       "\n",
       "```"
      ]
     },
     "metadata": {},
     "output_type": "display_data"
    }
   ],
   "source": [
    "# Lines below will give you a hint or solution code\n",
    "q_2.hint()\n",
    "q_2.solution()"
   ]
  },
  {
   "cell_type": "markdown",
   "id": "303a2398",
   "metadata": {
    "papermill": {
     "duration": 0.005565,
     "end_time": "2024-07-14T11:29:04.401912",
     "exception": false,
     "start_time": "2024-07-14T11:29:04.396347",
     "status": "completed"
    },
    "tags": []
   },
   "source": [
    "Finally, run this cell to train the model and view the learning curves. It may run for around 60 to 70 epochs, which could take a minute or two."
   ]
  },
  {
   "cell_type": "code",
   "execution_count": 6,
   "id": "d22e82c2",
   "metadata": {
    "execution": {
     "iopub.execute_input": "2024-07-14T11:29:04.414696Z",
     "iopub.status.busy": "2024-07-14T11:29:04.414414Z",
     "iopub.status.idle": "2024-07-14T11:29:45.825733Z",
     "shell.execute_reply": "2024-07-14T11:29:45.824800Z"
    },
    "papermill": {
     "duration": 41.420029,
     "end_time": "2024-07-14T11:29:45.827775",
     "exception": false,
     "start_time": "2024-07-14T11:29:04.407746",
     "status": "completed"
    },
    "tags": []
   },
   "outputs": [
    {
     "name": "stdout",
     "output_type": "stream",
     "text": [
      "Epoch 1/200\n"
     ]
    },
    {
     "name": "stderr",
     "output_type": "stream",
     "text": [
      "WARNING: All log messages before absl::InitializeLog() is called are written to STDERR\n",
      "I0000 00:00:1720956548.720509      67 device_compiler.h:186] Compiled cluster using XLA!  This line is logged at most once for the lifetime of the process.\n"
     ]
    },
    {
     "name": "stdout",
     "output_type": "stream",
     "text": [
      "175/175 [==============================] - 6s 7ms/step - loss: 0.4894 - binary_accuracy: 0.7668 - val_loss: 0.4351 - val_binary_accuracy: 0.7972\n",
      "Epoch 2/200\n",
      "175/175 [==============================] - 1s 5ms/step - loss: 0.4247 - binary_accuracy: 0.8000 - val_loss: 0.4053 - val_binary_accuracy: 0.8127\n",
      "Epoch 3/200\n",
      "175/175 [==============================] - 1s 5ms/step - loss: 0.4121 - binary_accuracy: 0.8064 - val_loss: 0.3936 - val_binary_accuracy: 0.8158\n",
      "Epoch 4/200\n",
      "175/175 [==============================] - 1s 5ms/step - loss: 0.4035 - binary_accuracy: 0.8110 - val_loss: 0.3906 - val_binary_accuracy: 0.8165\n",
      "Epoch 5/200\n",
      "175/175 [==============================] - 1s 5ms/step - loss: 0.3971 - binary_accuracy: 0.8153 - val_loss: 0.3873 - val_binary_accuracy: 0.8173\n",
      "Epoch 6/200\n",
      "175/175 [==============================] - 1s 5ms/step - loss: 0.3940 - binary_accuracy: 0.8175 - val_loss: 0.3872 - val_binary_accuracy: 0.8187\n",
      "Epoch 7/200\n",
      "175/175 [==============================] - 1s 5ms/step - loss: 0.3894 - binary_accuracy: 0.8192 - val_loss: 0.3820 - val_binary_accuracy: 0.8214\n",
      "Epoch 8/200\n",
      "175/175 [==============================] - 1s 5ms/step - loss: 0.3856 - binary_accuracy: 0.8220 - val_loss: 0.3765 - val_binary_accuracy: 0.8245\n",
      "Epoch 9/200\n",
      "175/175 [==============================] - 1s 5ms/step - loss: 0.3829 - binary_accuracy: 0.8230 - val_loss: 0.3772 - val_binary_accuracy: 0.8278\n",
      "Epoch 10/200\n",
      "175/175 [==============================] - 1s 5ms/step - loss: 0.3795 - binary_accuracy: 0.8240 - val_loss: 0.3720 - val_binary_accuracy: 0.8276\n",
      "Epoch 11/200\n",
      "175/175 [==============================] - 1s 5ms/step - loss: 0.3771 - binary_accuracy: 0.8246 - val_loss: 0.3703 - val_binary_accuracy: 0.8279\n",
      "Epoch 12/200\n",
      "175/175 [==============================] - 1s 5ms/step - loss: 0.3741 - binary_accuracy: 0.8270 - val_loss: 0.3682 - val_binary_accuracy: 0.8283\n",
      "Epoch 13/200\n",
      "175/175 [==============================] - 1s 6ms/step - loss: 0.3722 - binary_accuracy: 0.8287 - val_loss: 0.3662 - val_binary_accuracy: 0.8295\n",
      "Epoch 14/200\n",
      "175/175 [==============================] - 1s 5ms/step - loss: 0.3696 - binary_accuracy: 0.8291 - val_loss: 0.3648 - val_binary_accuracy: 0.8308\n",
      "Epoch 15/200\n",
      "175/175 [==============================] - 1s 6ms/step - loss: 0.3676 - binary_accuracy: 0.8300 - val_loss: 0.3632 - val_binary_accuracy: 0.8320\n",
      "Epoch 16/200\n",
      "175/175 [==============================] - 1s 6ms/step - loss: 0.3655 - binary_accuracy: 0.8320 - val_loss: 0.3647 - val_binary_accuracy: 0.8304\n",
      "Epoch 17/200\n",
      "175/175 [==============================] - 1s 5ms/step - loss: 0.3647 - binary_accuracy: 0.8331 - val_loss: 0.3601 - val_binary_accuracy: 0.8329\n",
      "Epoch 18/200\n",
      "175/175 [==============================] - 1s 5ms/step - loss: 0.3626 - binary_accuracy: 0.8334 - val_loss: 0.3595 - val_binary_accuracy: 0.8330\n",
      "Epoch 19/200\n",
      "175/175 [==============================] - 1s 5ms/step - loss: 0.3622 - binary_accuracy: 0.8329 - val_loss: 0.3602 - val_binary_accuracy: 0.8322\n",
      "Epoch 20/200\n",
      "175/175 [==============================] - 1s 5ms/step - loss: 0.3589 - binary_accuracy: 0.8330 - val_loss: 0.3594 - val_binary_accuracy: 0.8331\n",
      "Epoch 21/200\n",
      "175/175 [==============================] - 1s 5ms/step - loss: 0.3586 - binary_accuracy: 0.8357 - val_loss: 0.3603 - val_binary_accuracy: 0.8315\n",
      "Epoch 22/200\n",
      "175/175 [==============================] - 1s 5ms/step - loss: 0.3567 - binary_accuracy: 0.8345 - val_loss: 0.3572 - val_binary_accuracy: 0.8337\n",
      "Epoch 23/200\n",
      "175/175 [==============================] - 1s 5ms/step - loss: 0.3556 - binary_accuracy: 0.8348 - val_loss: 0.3563 - val_binary_accuracy: 0.8355\n",
      "Epoch 24/200\n",
      "175/175 [==============================] - 1s 6ms/step - loss: 0.3544 - binary_accuracy: 0.8362 - val_loss: 0.3569 - val_binary_accuracy: 0.8362\n",
      "Epoch 25/200\n",
      "175/175 [==============================] - 1s 5ms/step - loss: 0.3532 - binary_accuracy: 0.8369 - val_loss: 0.3561 - val_binary_accuracy: 0.8344\n",
      "Epoch 26/200\n",
      "175/175 [==============================] - 1s 5ms/step - loss: 0.3525 - binary_accuracy: 0.8373 - val_loss: 0.3553 - val_binary_accuracy: 0.8364\n",
      "Epoch 27/200\n",
      "175/175 [==============================] - 1s 5ms/step - loss: 0.3507 - binary_accuracy: 0.8388 - val_loss: 0.3566 - val_binary_accuracy: 0.8354\n",
      "Epoch 28/200\n",
      "175/175 [==============================] - 1s 5ms/step - loss: 0.3494 - binary_accuracy: 0.8385 - val_loss: 0.3556 - val_binary_accuracy: 0.8352\n",
      "Epoch 29/200\n",
      "175/175 [==============================] - 1s 5ms/step - loss: 0.3495 - binary_accuracy: 0.8389 - val_loss: 0.3527 - val_binary_accuracy: 0.8368\n",
      "Epoch 30/200\n",
      "175/175 [==============================] - 1s 5ms/step - loss: 0.3471 - binary_accuracy: 0.8403 - val_loss: 0.3525 - val_binary_accuracy: 0.8372\n",
      "Epoch 31/200\n",
      "175/175 [==============================] - 1s 5ms/step - loss: 0.3468 - binary_accuracy: 0.8395 - val_loss: 0.3554 - val_binary_accuracy: 0.8352\n",
      "Epoch 32/200\n",
      "175/175 [==============================] - 1s 5ms/step - loss: 0.3456 - binary_accuracy: 0.8402 - val_loss: 0.3517 - val_binary_accuracy: 0.8381\n",
      "Epoch 33/200\n",
      "175/175 [==============================] - 1s 5ms/step - loss: 0.3441 - binary_accuracy: 0.8418 - val_loss: 0.3524 - val_binary_accuracy: 0.8360\n",
      "Epoch 34/200\n",
      "175/175 [==============================] - 1s 6ms/step - loss: 0.3433 - binary_accuracy: 0.8407 - val_loss: 0.3535 - val_binary_accuracy: 0.8370\n",
      "Epoch 35/200\n",
      "175/175 [==============================] - 1s 5ms/step - loss: 0.3437 - binary_accuracy: 0.8417 - val_loss: 0.3509 - val_binary_accuracy: 0.8366\n",
      "Epoch 36/200\n",
      "175/175 [==============================] - 1s 5ms/step - loss: 0.3417 - binary_accuracy: 0.8419 - val_loss: 0.3514 - val_binary_accuracy: 0.8390\n",
      "Epoch 37/200\n",
      "175/175 [==============================] - 1s 6ms/step - loss: 0.3409 - binary_accuracy: 0.8425 - val_loss: 0.3519 - val_binary_accuracy: 0.8384\n"
     ]
    },
    {
     "data": {
      "text/plain": [
       "<Axes: title={'center': 'Accuracy'}>"
      ]
     },
     "execution_count": 6,
     "metadata": {},
     "output_type": "execute_result"
    },
    {
     "data": {
      "image/png": "[encoded data removed]",
      "text/plain": [
       "<Figure size 640x480 with 1 Axes>"
      ]
     },
     "metadata": {},
     "output_type": "display_data"
    },
    {
     "data": {
      "image/png": "[encoded data removed]",
      "text/plain": [
       "<Figure size 640x480 with 1 Axes>"
      ]
     },
     "metadata": {},
     "output_type": "display_data"
    }
   ],
   "source": [
    "early_stopping = keras.callbacks.EarlyStopping(\n",
    "    patience=5,\n",
    "    min_delta=0.001,\n",
    "    restore_best_weights=True,\n",
    ")\n",
    "history = model.fit(\n",
    "    X_train, y_train,\n",
    "    validation_data=(X_valid, y_valid),\n",
    "    batch_size=512,\n",
    "    epochs=200,\n",
    "    callbacks=[early_stopping],\n",
    ")\n",
    "\n",
    "history_df = pd.DataFrame(history.history)\n",
    "history_df.loc[:, ['loss', 'val_loss']].plot(title=\"Cross-entropy\")\n",
    "history_df.loc[:, ['binary_accuracy', 'val_binary_accuracy']].plot(title=\"Accuracy\")"
   ]
  },
  {
   "cell_type": "markdown",
   "id": "e2e82575",
   "metadata": {
    "papermill": {
     "duration": 0.059336,
     "end_time": "2024-07-14T11:29:45.946478",
     "exception": false,
     "start_time": "2024-07-14T11:29:45.887142",
     "status": "completed"
    },
    "tags": []
   },
   "source": [
    "# 3) Train and Evaluate #\n",
    "\n",
    "\n",
    "What do you think about the learning curves? Does it look like the model underfit or overfit? Was the cross-entropy loss a good stand-in for accuracy?"
   ]
  },
  {
   "cell_type": "code",
   "execution_count": 7,
   "id": "d948509a",
   "metadata": {
    "execution": {
     "iopub.execute_input": "2024-07-14T11:29:46.065125Z",
     "iopub.status.busy": "2024-07-14T11:29:46.064794Z",
     "iopub.status.idle": "2024-07-14T11:29:46.072133Z",
     "shell.execute_reply": "2024-07-14T11:29:46.071273Z"
    },
    "papermill": {
     "duration": 0.068346,
     "end_time": "2024-07-14T11:29:46.073979",
     "exception": false,
     "start_time": "2024-07-14T11:29:46.005633",
     "status": "completed"
    },
    "tags": []
   },
   "outputs": [
    {
     "data": {
      "application/javascript": [
       "parent.postMessage({\"jupyterEvent\": \"custom.exercise_interaction\", \"data\": {\"outcomeType\": 1, \"valueTowardsCompletion\": 0.3333333333333333, \"interactionType\": 1, \"questionType\": 4, \"questionId\": \"3_Q3\", \"learnToolsVersion\": \"0.3.4\", \"failureMessage\": \"\", \"exceptionClass\": \"\", \"trace\": \"\"}}, \"*\")"
      ],
      "text/plain": [
       "<IPython.core.display.Javascript object>"
      ]
     },
     "metadata": {},
     "output_type": "display_data"
    },
    {
     "data": {
      "text/markdown": [
       "<span style=\"color:#33cc33\">Correct:</span> \n",
       "\n",
       "Though we can see the training loss continuing to fall, the early stopping callback prevented any overfitting. Moreover, the accuracy rose at the same rate as the cross-entropy fell, so it appears that minimizing cross-entropy was a good stand-in. All in all, it looks like this training was a success!"
      ],
      "text/plain": [
       "Correct: \n",
       "\n",
       "Though we can see the training loss continuing to fall, the early stopping callback prevented any overfitting. Moreover, the accuracy rose at the same rate as the cross-entropy fell, so it appears that minimizing cross-entropy was a good stand-in. All in all, it looks like this training was a success!"
      ]
     },
     "metadata": {},
     "output_type": "display_data"
    }
   ],
   "source": [
    "# View the solution (Run this cell to receive credit!)\n",
    "q_3.check()"
   ]
  },
  {
   "cell_type": "markdown",
   "id": "491b63a6",
   "metadata": {
    "papermill": {
     "duration": 0.059238,
     "end_time": "2024-07-14T11:29:46.192049",
     "exception": false,
     "start_time": "2024-07-14T11:29:46.132811",
     "status": "completed"
    },
    "tags": []
   },
   "source": [
    "# Conclusion #\n",
    "\n",
    "Congratulations! You've completed Kaggle's *Introduction to Deep Learning* course!\n",
    "\n",
    "With your new skills you're ready to take on more advanced applications like computer vision and sentiment classification. What would you like to do next?\n",
    "\n",
    "Why not try one of our *Getting Started* competitions?\n",
    "\n",
    "- Classify images with TPUs in [**Petals to the Metal**](https://www.kaggle.com/c/tpu-getting-started)\n",
    "- Create art with GANs in [**I'm Something of a Painter Myself**](https://www.kaggle.com/c/gan-getting-started)\n",
    "- Classify Tweets in [**Real or Not? NLP with Disaster Tweets**](https://www.kaggle.com/c/nlp-getting-started)\n",
    "- Detect contradiction and entailment in [**Contradictory, My Dear Watson**](https://www.kaggle.com/c/contradictory-my-dear-watson)\n",
    "\n",
    "Until next time, Kagglers!"
   ]
  },
  {
   "cell_type": "markdown",
   "id": "eab2d85f",
   "metadata": {
    "papermill": {
     "duration": 0.058561,
     "end_time": "2024-07-14T11:29:46.309762",
     "exception": false,
     "start_time": "2024-07-14T11:29:46.251201",
     "status": "completed"
    },
    "tags": []
   },
   "source": [
    "---\n",
    "\n",
    "\n",
    "\n",
    "\n",
    "*Have questions or comments? Visit the [course discussion forum](https://www.kaggle.com/learn/intro-to-deep-learning/discussion) to chat with other learners.*"
   ]
  }
 ],
 "metadata": {
  "jupytext": {
   "cell_metadata_filter": "-all",
   "formats": "ipynb"
  },
  "kaggle": {
   "accelerator": "gpu",
   "dataSources": [
    {
     "datasetId": 829369,
     "sourceId": 1480608,
     "sourceType": "datasetVersion"
    }
   ],
   "dockerImageVersionId": 30648,
   "isGpuEnabled": true,
   "isInternetEnabled": false,
   "language": "python",
   "sourceType": "notebook"
  },
  "kernelspec": {
   "display_name": "Python 3",
   "language": "python",
   "name": "python3"
  },
  "language_info": {
   "codemirror_mode": {
    "name": "ipython",
    "version": 3
   },
   "file_extension": ".py",
   "mimetype": "text/x-python",
   "name": "python",
   "nbconvert_exporter": "python",
   "pygments_lexer": "ipython3",
   "version": "3.10.13"
  },
  "papermill": {
   "default_parameters": {},
   "duration": 64.190675,
   "end_time": "2024-07-14T11:29:48.806850",
   "environment_variables": {},
   "exception": null,
   "input_path": "__notebook__.ipynb",
   "output_path": "__notebook__.ipynb",
   "parameters": {},
   "start_time": "2024-07-14T11:28:44.616175",
   "version": "2.5.0"
  }
 },
 "nbformat": 4,
 "nbformat_minor": 5
}
