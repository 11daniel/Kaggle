{
 "cells": [
  {
   "cell_type": "markdown",
   "id": "7d7bea8f",
   "metadata": {
    "papermill": {
     "duration": 0.006371,
     "end_time": "2024-07-01T14:09:12.462965",
     "exception": false,
     "start_time": "2024-07-01T14:09:12.456594",
     "status": "completed"
    },
    "tags": []
   },
   "source": [
    "**This notebook is an exercise in the [Intro to Deep Learning](https://www.kaggle.com/learn/intro-to-deep-learning) course.  You can reference the tutorial at [this link](https://www.kaggle.com/ryanholbrook/overfitting-and-underfitting).**\n",
    "\n",
    "---\n"
   ]
  },
  {
   "cell_type": "markdown",
   "id": "ba284e14",
   "metadata": {
    "papermill": {
     "duration": 0.005584,
     "end_time": "2024-07-01T14:09:12.474562",
     "exception": false,
     "start_time": "2024-07-01T14:09:12.468978",
     "status": "completed"
    },
    "tags": []
   },
   "source": [
    "# Introduction #\n",
    "\n",
    "In this exercise, you’ll learn how to improve training outcomes by including an early stopping callback to prevent overfitting.\n",
    "\n",
    "When you're ready, run this next cell to set everything up!"
   ]
  },
  {
   "cell_type": "code",
   "execution_count": 1,
   "id": "9ee5d8e9",
   "metadata": {
    "execution": {
     "iopub.execute_input": "2024-07-01T14:09:12.487507Z",
     "iopub.status.busy": "2024-07-01T14:09:12.487158Z",
     "iopub.status.idle": "2024-07-01T14:09:13.230473Z",
     "shell.execute_reply": "2024-07-01T14:09:13.229663Z"
    },
    "papermill": {
     "duration": 0.752475,
     "end_time": "2024-07-01T14:09:13.232841",
     "exception": false,
     "start_time": "2024-07-01T14:09:12.480366",
     "status": "completed"
    },
    "tags": []
   },
   "outputs": [
    {
     "name": "stderr",
     "output_type": "stream",
     "text": [
      "/tmp/ipykernel_26/1500229236.py:3: MatplotlibDeprecationWarning: The seaborn styles shipped by Matplotlib are deprecated since 3.6, as they no longer correspond to the styles shipped by seaborn. However, they will remain available as 'seaborn-v0_8-<style>'. Alternatively, directly use the seaborn API instead.\n",
      "  plt.style.use('seaborn-whitegrid')\n"
     ]
    }
   ],
   "source": [
    "# Setup plotting\n",
    "import matplotlib.pyplot as plt\n",
    "plt.style.use('seaborn-whitegrid')\n",
    "# Set Matplotlib defaults\n",
    "plt.rc('figure', autolayout=True)\n",
    "plt.rc('axes', labelweight='bold', labelsize='large',\n",
    "       titleweight='bold', titlesize=18, titlepad=10)\n",
    "plt.rc('animation', html='html5')\n",
    "\n",
    "# Setup feedback system\n",
    "from learntools.core import binder\n",
    "binder.bind(globals())\n",
    "from learntools.deep_learning_intro.ex4 import *"
   ]
  },
  {
   "cell_type": "markdown",
   "id": "97b5cf2e",
   "metadata": {
    "papermill": {
     "duration": 0.005823,
     "end_time": "2024-07-01T14:09:13.245072",
     "exception": false,
     "start_time": "2024-07-01T14:09:13.239249",
     "status": "completed"
    },
    "tags": []
   },
   "source": [
    "First load the *Spotify* dataset. Your task will be to predict the popularity of a song based on various audio features, like `'tempo'`, `'danceability'`, and `'mode'`."
   ]
  },
  {
   "cell_type": "code",
   "execution_count": 2,
   "id": "54397f2e",
   "metadata": {
    "execution": {
     "iopub.execute_input": "2024-07-01T14:09:13.258194Z",
     "iopub.status.busy": "2024-07-01T14:09:13.257813Z",
     "iopub.status.idle": "2024-07-01T14:09:26.722212Z",
     "shell.execute_reply": "2024-07-01T14:09:26.721154Z"
    },
    "papermill": {
     "duration": 13.473327,
     "end_time": "2024-07-01T14:09:26.724329",
     "exception": false,
     "start_time": "2024-07-01T14:09:13.251002",
     "status": "completed"
    },
    "tags": []
   },
   "outputs": [
    {
     "name": "stderr",
     "output_type": "stream",
     "text": [
      "2024-07-01 14:09:15.998544: E external/local_xla/xla/stream_executor/cuda/cuda_dnn.cc:9261] Unable to register cuDNN factory: Attempting to register factory for plugin cuDNN when one has already been registered\n",
      "2024-07-01 14:09:15.998669: E external/local_xla/xla/stream_executor/cuda/cuda_fft.cc:607] Unable to register cuFFT factory: Attempting to register factory for plugin cuFFT when one has already been registered\n",
      "2024-07-01 14:09:16.122673: E external/local_xla/xla/stream_executor/cuda/cuda_blas.cc:1515] Unable to register cuBLAS factory: Attempting to register factory for plugin cuBLAS when one has already been registered\n"
     ]
    },
    {
     "name": "stdout",
     "output_type": "stream",
     "text": [
      "Input shape: [18]\n"
     ]
    }
   ],
   "source": [
    "import pandas as pd\n",
    "from sklearn.preprocessing import StandardScaler, OneHotEncoder\n",
    "from sklearn.compose import make_column_transformer\n",
    "from sklearn.model_selection import GroupShuffleSplit\n",
    "\n",
    "from tensorflow import keras\n",
    "from tensorflow.keras import layers\n",
    "from tensorflow.keras import callbacks\n",
    "\n",
    "spotify = pd.read_csv('../input/dl-course-data/spotify.csv')\n",
    "\n",
    "X = spotify.copy().dropna()\n",
    "y = X.pop('track_popularity')\n",
    "artists = X['track_artist']\n",
    "\n",
    "features_num = ['danceability', 'energy', 'key', 'loudness', 'mode',\n",
    "                'speechiness', 'acousticness', 'instrumentalness',\n",
    "                'liveness', 'valence', 'tempo', 'duration_ms']\n",
    "features_cat = ['playlist_genre']\n",
    "\n",
    "preprocessor = make_column_transformer(\n",
    "    (StandardScaler(), features_num),\n",
    "    (OneHotEncoder(), features_cat),\n",
    ")\n",
    "\n",
    "# We'll do a \"grouped\" split to keep all of an artist's songs in one\n",
    "# split or the other. This is to help prevent signal leakage.\n",
    "def group_split(X, y, group, train_size=0.75):\n",
    "    splitter = GroupShuffleSplit(train_size=train_size)\n",
    "    train, test = next(splitter.split(X, y, groups=group))\n",
    "    return (X.iloc[train], X.iloc[test], y.iloc[train], y.iloc[test])\n",
    "\n",
    "X_train, X_valid, y_train, y_valid = group_split(X, y, artists)\n",
    "\n",
    "X_train = preprocessor.fit_transform(X_train)\n",
    "X_valid = preprocessor.transform(X_valid)\n",
    "y_train = y_train / 100 # popularity is on a scale 0-100, so this rescales to 0-1.\n",
    "y_valid = y_valid / 100\n",
    "\n",
    "input_shape = [X_train.shape[1]]\n",
    "print(\"Input shape: {}\".format(input_shape))"
   ]
  },
  {
   "cell_type": "markdown",
   "id": "628db7c8",
   "metadata": {
    "papermill": {
     "duration": 0.006024,
     "end_time": "2024-07-01T14:09:26.736854",
     "exception": false,
     "start_time": "2024-07-01T14:09:26.730830",
     "status": "completed"
    },
    "tags": []
   },
   "source": [
    "Let's start with the simplest network, a linear model. This model has low capacity.\n",
    "\n",
    "Run this next cell without any changes to train a linear model on the *Spotify* dataset."
   ]
  },
  {
   "cell_type": "code",
   "execution_count": 3,
   "id": "7d9f77a8",
   "metadata": {
    "execution": {
     "iopub.execute_input": "2024-07-01T14:09:26.750449Z",
     "iopub.status.busy": "2024-07-01T14:09:26.750158Z",
     "iopub.status.idle": "2024-07-01T14:09:35.589791Z",
     "shell.execute_reply": "2024-07-01T14:09:35.588902Z"
    },
    "lines_to_next_cell": 0,
    "papermill": {
     "duration": 8.848853,
     "end_time": "2024-07-01T14:09:35.591811",
     "exception": false,
     "start_time": "2024-07-01T14:09:26.742958",
     "status": "completed"
    },
    "tags": []
   },
   "outputs": [
    {
     "name": "stderr",
     "output_type": "stream",
     "text": [
      "WARNING: All log messages before absl::InitializeLog() is called are written to STDERR\n",
      "I0000 00:00:1719842968.623454      69 device_compiler.h:186] Compiled cluster using XLA!  This line is logged at most once for the lifetime of the process.\n"
     ]
    },
    {
     "name": "stdout",
     "output_type": "stream",
     "text": [
      "Minimum Validation Loss: 0.2025\n"
     ]
    },
    {
     "data": {
      "image/png": "[encoded data removed]",
      "text/plain": [
       "<Figure size 640x480 with 1 Axes>"
      ]
     },
     "metadata": {},
     "output_type": "display_data"
    }
   ],
   "source": [
    "model = keras.Sequential([\n",
    "    layers.Dense(1, input_shape=input_shape),\n",
    "])\n",
    "model.compile(\n",
    "    optimizer='adam',\n",
    "    loss='mae',\n",
    ")\n",
    "history = model.fit(\n",
    "    X_train, y_train,\n",
    "    validation_data=(X_valid, y_valid),\n",
    "    batch_size=512,\n",
    "    epochs=50,\n",
    "    verbose=0, # suppress output since we'll plot the curves\n",
    ")\n",
    "history_df = pd.DataFrame(history.history)\n",
    "history_df.loc[0:, ['loss', 'val_loss']].plot()\n",
    "print(\"Minimum Validation Loss: {:0.4f}\".format(history_df['val_loss'].min()));"
   ]
  },
  {
   "cell_type": "markdown",
   "id": "9b356019",
   "metadata": {
    "papermill": {
     "duration": 0.006554,
     "end_time": "2024-07-01T14:09:35.605226",
     "exception": false,
     "start_time": "2024-07-01T14:09:35.598672",
     "status": "completed"
    },
    "tags": []
   },
   "source": [
    "It's not uncommon for the curves to follow a \"hockey stick\" pattern like you see here. This makes the final part of training hard to see, so let's start at epoch 10 instead:"
   ]
  },
  {
   "cell_type": "code",
   "execution_count": 4,
   "id": "034845b8",
   "metadata": {
    "execution": {
     "iopub.execute_input": "2024-07-01T14:09:35.619723Z",
     "iopub.status.busy": "2024-07-01T14:09:35.619416Z",
     "iopub.status.idle": "2024-07-01T14:09:35.960297Z",
     "shell.execute_reply": "2024-07-01T14:09:35.959424Z"
    },
    "papermill": {
     "duration": 0.350474,
     "end_time": "2024-07-01T14:09:35.962360",
     "exception": false,
     "start_time": "2024-07-01T14:09:35.611886",
     "status": "completed"
    },
    "tags": []
   },
   "outputs": [
    {
     "name": "stdout",
     "output_type": "stream",
     "text": [
      "Minimum Validation Loss: 0.2025\n"
     ]
    },
    {
     "data": {
      "image/png": "[encoded data removed]",
      "text/plain": [
       "<Figure size 640x480 with 1 Axes>"
      ]
     },
     "metadata": {},
     "output_type": "display_data"
    }
   ],
   "source": [
    "# Start the plot at epoch 10\n",
    "history_df.loc[10:, ['loss', 'val_loss']].plot()\n",
    "print(\"Minimum Validation Loss: {:0.4f}\".format(history_df['val_loss'].min()));"
   ]
  },
  {
   "cell_type": "markdown",
   "id": "6c44bbea",
   "metadata": {
    "papermill": {
     "duration": 0.007953,
     "end_time": "2024-07-01T14:09:35.977654",
     "exception": false,
     "start_time": "2024-07-01T14:09:35.969701",
     "status": "completed"
    },
    "tags": []
   },
   "source": [
    "# 1) Evaluate Baseline\n",
    "\n",
    "What do you think? Would you say this model is underfitting, overfitting, just right?"
   ]
  },
  {
   "cell_type": "code",
   "execution_count": 5,
   "id": "12701c9c",
   "metadata": {
    "execution": {
     "iopub.execute_input": "2024-07-01T14:09:35.993069Z",
     "iopub.status.busy": "2024-07-01T14:09:35.992800Z",
     "iopub.status.idle": "2024-07-01T14:09:35.999718Z",
     "shell.execute_reply": "2024-07-01T14:09:35.998931Z"
    },
    "papermill": {
     "duration": 0.016776,
     "end_time": "2024-07-01T14:09:36.001614",
     "exception": false,
     "start_time": "2024-07-01T14:09:35.984838",
     "status": "completed"
    },
    "tags": []
   },
   "outputs": [
    {
     "data": {
      "application/javascript": [
       "parent.postMessage({\"jupyterEvent\": \"custom.exercise_interaction\", \"data\": {\"outcomeType\": 1, \"valueTowardsCompletion\": 0.25, \"interactionType\": 1, \"questionType\": 4, \"questionId\": \"1_Q1\", \"learnToolsVersion\": \"0.3.4\", \"failureMessage\": \"\", \"exceptionClass\": \"\", \"trace\": \"\"}}, \"*\")"
      ],
      "text/plain": [
       "<IPython.core.display.Javascript object>"
      ]
     },
     "metadata": {},
     "output_type": "display_data"
    },
    {
     "data": {
      "text/markdown": [
       "<span style=\"color:#33cc33\">Correct:</span> \n",
       "\n",
       "The gap between these curves is quite small and the validation loss never increases, so it's more likely that the network is underfitting than overfitting. It would be worth experimenting with more capacity to see if that's the case."
      ],
      "text/plain": [
       "Correct: \n",
       "\n",
       "The gap between these curves is quite small and the validation loss never increases, so it's more likely that the network is underfitting than overfitting. It would be worth experimenting with more capacity to see if that's the case."
      ]
     },
     "metadata": {},
     "output_type": "display_data"
    }
   ],
   "source": [
    "# View the solution (Run this cell to receive credit!)\n",
    "q_1.check()"
   ]
  },
  {
   "cell_type": "markdown",
   "id": "b8c08b19",
   "metadata": {
    "papermill": {
     "duration": 0.007351,
     "end_time": "2024-07-01T14:09:36.016450",
     "exception": false,
     "start_time": "2024-07-01T14:09:36.009099",
     "status": "completed"
    },
    "tags": []
   },
   "source": [
    "Now let's add some capacity to our network. We'll add three hidden layers with 128 units each. Run the next cell to train the network and see the learning curves."
   ]
  },
  {
   "cell_type": "code",
   "execution_count": 6,
   "id": "97514667",
   "metadata": {
    "execution": {
     "iopub.execute_input": "2024-07-01T14:09:36.032739Z",
     "iopub.status.busy": "2024-07-01T14:09:36.032470Z",
     "iopub.status.idle": "2024-07-01T14:09:46.250663Z",
     "shell.execute_reply": "2024-07-01T14:09:46.249749Z"
    },
    "papermill": {
     "duration": 10.228678,
     "end_time": "2024-07-01T14:09:46.252667",
     "exception": false,
     "start_time": "2024-07-01T14:09:36.023989",
     "status": "completed"
    },
    "tags": []
   },
   "outputs": [
    {
     "name": "stdout",
     "output_type": "stream",
     "text": [
      "Epoch 1/50\n",
      "48/48 [==============================] - 1s 6ms/step - loss: 0.2278 - val_loss: 0.2108\n",
      "Epoch 2/50\n",
      "48/48 [==============================] - 0s 4ms/step - loss: 0.1986 - val_loss: 0.2058\n",
      "Epoch 3/50\n",
      "48/48 [==============================] - 0s 3ms/step - loss: 0.1941 - val_loss: 0.2041\n",
      "Epoch 4/50\n",
      "48/48 [==============================] - 0s 4ms/step - loss: 0.1914 - val_loss: 0.2027\n",
      "Epoch 5/50\n",
      "48/48 [==============================] - 0s 4ms/step - loss: 0.1889 - val_loss: 0.2014\n",
      "Epoch 6/50\n",
      "48/48 [==============================] - 0s 3ms/step - loss: 0.1875 - val_loss: 0.2015\n",
      "Epoch 7/50\n",
      "48/48 [==============================] - 0s 3ms/step - loss: 0.1868 - val_loss: 0.2014\n",
      "Epoch 8/50\n",
      "48/48 [==============================] - 0s 4ms/step - loss: 0.1854 - val_loss: 0.2032\n",
      "Epoch 9/50\n",
      "48/48 [==============================] - 0s 4ms/step - loss: 0.1840 - val_loss: 0.2023\n",
      "Epoch 10/50\n",
      "48/48 [==============================] - 0s 3ms/step - loss: 0.1838 - val_loss: 0.2005\n",
      "Epoch 11/50\n",
      "48/48 [==============================] - 0s 4ms/step - loss: 0.1823 - val_loss: 0.2002\n",
      "Epoch 12/50\n",
      "48/48 [==============================] - 0s 3ms/step - loss: 0.1827 - val_loss: 0.2010\n",
      "Epoch 13/50\n",
      "48/48 [==============================] - 0s 4ms/step - loss: 0.1818 - val_loss: 0.2007\n",
      "Epoch 14/50\n",
      "48/48 [==============================] - 0s 3ms/step - loss: 0.1803 - val_loss: 0.2021\n",
      "Epoch 15/50\n",
      "48/48 [==============================] - 0s 4ms/step - loss: 0.1804 - val_loss: 0.2004\n",
      "Epoch 16/50\n",
      "48/48 [==============================] - 0s 3ms/step - loss: 0.1794 - val_loss: 0.2010\n",
      "Epoch 17/50\n",
      "48/48 [==============================] - 0s 3ms/step - loss: 0.1791 - val_loss: 0.2008\n",
      "Epoch 18/50\n",
      "48/48 [==============================] - 0s 4ms/step - loss: 0.1779 - val_loss: 0.2009\n",
      "Epoch 19/50\n",
      "48/48 [==============================] - 0s 4ms/step - loss: 0.1775 - val_loss: 0.2023\n",
      "Epoch 20/50\n",
      "48/48 [==============================] - 0s 4ms/step - loss: 0.1779 - val_loss: 0.2035\n",
      "Epoch 21/50\n",
      "48/48 [==============================] - 0s 3ms/step - loss: 0.1778 - val_loss: 0.2025\n",
      "Epoch 22/50\n",
      "48/48 [==============================] - 0s 3ms/step - loss: 0.1764 - val_loss: 0.2014\n",
      "Epoch 23/50\n",
      "48/48 [==============================] - 0s 3ms/step - loss: 0.1756 - val_loss: 0.2011\n",
      "Epoch 24/50\n",
      "48/48 [==============================] - 0s 3ms/step - loss: 0.1745 - val_loss: 0.2021\n",
      "Epoch 25/50\n",
      "48/48 [==============================] - 0s 3ms/step - loss: 0.1746 - val_loss: 0.2050\n",
      "Epoch 26/50\n",
      "48/48 [==============================] - 0s 3ms/step - loss: 0.1743 - val_loss: 0.2025\n",
      "Epoch 27/50\n",
      "48/48 [==============================] - 0s 3ms/step - loss: 0.1738 - val_loss: 0.2040\n",
      "Epoch 28/50\n",
      "48/48 [==============================] - 0s 3ms/step - loss: 0.1734 - val_loss: 0.2025\n",
      "Epoch 29/50\n",
      "48/48 [==============================] - 0s 3ms/step - loss: 0.1719 - val_loss: 0.2057\n",
      "Epoch 30/50\n",
      "48/48 [==============================] - 0s 3ms/step - loss: 0.1723 - val_loss: 0.2029\n",
      "Epoch 31/50\n",
      "48/48 [==============================] - 0s 4ms/step - loss: 0.1733 - val_loss: 0.2031\n",
      "Epoch 32/50\n",
      "48/48 [==============================] - 0s 4ms/step - loss: 0.1711 - val_loss: 0.2026\n",
      "Epoch 33/50\n",
      "48/48 [==============================] - 0s 4ms/step - loss: 0.1711 - val_loss: 0.2036\n",
      "Epoch 34/50\n",
      "48/48 [==============================] - 0s 3ms/step - loss: 0.1702 - val_loss: 0.2038\n",
      "Epoch 35/50\n",
      "48/48 [==============================] - 0s 3ms/step - loss: 0.1694 - val_loss: 0.2055\n",
      "Epoch 36/50\n",
      "48/48 [==============================] - 0s 3ms/step - loss: 0.1689 - val_loss: 0.2041\n",
      "Epoch 37/50\n",
      "48/48 [==============================] - 0s 3ms/step - loss: 0.1690 - val_loss: 0.2049\n",
      "Epoch 38/50\n",
      "48/48 [==============================] - 0s 3ms/step - loss: 0.1688 - val_loss: 0.2049\n",
      "Epoch 39/50\n",
      "48/48 [==============================] - 0s 4ms/step - loss: 0.1686 - val_loss: 0.2038\n",
      "Epoch 40/50\n",
      "48/48 [==============================] - 0s 4ms/step - loss: 0.1677 - val_loss: 0.2054\n",
      "Epoch 41/50\n",
      "48/48 [==============================] - 0s 3ms/step - loss: 0.1670 - val_loss: 0.2053\n",
      "Epoch 42/50\n",
      "48/48 [==============================] - 0s 3ms/step - loss: 0.1671 - val_loss: 0.2050\n",
      "Epoch 43/50\n",
      "48/48 [==============================] - 0s 3ms/step - loss: 0.1661 - val_loss: 0.2095\n",
      "Epoch 44/50\n",
      "48/48 [==============================] - 0s 3ms/step - loss: 0.1671 - val_loss: 0.2047\n",
      "Epoch 45/50\n",
      "48/48 [==============================] - 0s 3ms/step - loss: 0.1659 - val_loss: 0.2085\n",
      "Epoch 46/50\n",
      "48/48 [==============================] - 0s 3ms/step - loss: 0.1651 - val_loss: 0.2105\n",
      "Epoch 47/50\n",
      "48/48 [==============================] - 0s 3ms/step - loss: 0.1655 - val_loss: 0.2075\n",
      "Epoch 48/50\n",
      "48/48 [==============================] - 0s 3ms/step - loss: 0.1641 - val_loss: 0.2079\n",
      "Epoch 49/50\n",
      "48/48 [==============================] - 0s 3ms/step - loss: 0.1642 - val_loss: 0.2063\n",
      "Epoch 50/50\n",
      "48/48 [==============================] - 0s 3ms/step - loss: 0.1634 - val_loss: 0.2067\n",
      "Minimum Validation Loss: 0.2002\n"
     ]
    },
    {
     "data": {
      "image/png": "[encoded data removed]",
      "text/plain": [
       "<Figure size 640x480 with 1 Axes>"
      ]
     },
     "metadata": {},
     "output_type": "display_data"
    }
   ],
   "source": [
    "model = keras.Sequential([\n",
    "    layers.Dense(128, activation='relu', input_shape=input_shape),\n",
    "    layers.Dense(64, activation='relu'),\n",
    "    layers.Dense(1)\n",
    "])\n",
    "model.compile(\n",
    "    optimizer='adam',\n",
    "    loss='mae',\n",
    ")\n",
    "history = model.fit(\n",
    "    X_train, y_train,\n",
    "    validation_data=(X_valid, y_valid),\n",
    "    batch_size=512,\n",
    "    epochs=50,\n",
    ")\n",
    "history_df = pd.DataFrame(history.history)\n",
    "history_df.loc[:, ['loss', 'val_loss']].plot()\n",
    "print(\"Minimum Validation Loss: {:0.4f}\".format(history_df['val_loss'].min()));"
   ]
  },
  {
   "cell_type": "markdown",
   "id": "714af1da",
   "metadata": {
    "papermill": {
     "duration": 0.027322,
     "end_time": "2024-07-01T14:09:46.307922",
     "exception": false,
     "start_time": "2024-07-01T14:09:46.280600",
     "status": "completed"
    },
    "tags": []
   },
   "source": [
    "# 2) Add Capacity\n",
    "\n",
    "What is your evaluation of these curves? Underfitting, overfitting, just right?"
   ]
  },
  {
   "cell_type": "code",
   "execution_count": 7,
   "id": "cc5d85e5",
   "metadata": {
    "execution": {
     "iopub.execute_input": "2024-07-01T14:09:46.363756Z",
     "iopub.status.busy": "2024-07-01T14:09:46.363182Z",
     "iopub.status.idle": "2024-07-01T14:09:46.370293Z",
     "shell.execute_reply": "2024-07-01T14:09:46.369404Z"
    },
    "papermill": {
     "duration": 0.037066,
     "end_time": "2024-07-01T14:09:46.372175",
     "exception": false,
     "start_time": "2024-07-01T14:09:46.335109",
     "status": "completed"
    },
    "tags": []
   },
   "outputs": [
    {
     "data": {
      "application/javascript": [
       "parent.postMessage({\"jupyterEvent\": \"custom.exercise_interaction\", \"data\": {\"outcomeType\": 1, \"valueTowardsCompletion\": 0.25, \"interactionType\": 1, \"questionType\": 4, \"questionId\": \"2_Q2\", \"learnToolsVersion\": \"0.3.4\", \"failureMessage\": \"\", \"exceptionClass\": \"\", \"trace\": \"\"}}, \"*\")"
      ],
      "text/plain": [
       "<IPython.core.display.Javascript object>"
      ]
     },
     "metadata": {},
     "output_type": "display_data"
    },
    {
     "data": {
      "text/markdown": [
       "<span style=\"color:#33cc33\">Correct:</span> \n",
       "\n",
       "Now the validation loss begins to rise very early, while the training loss continues to decrease. This indicates that the network has begun to overfit. At this point, we would need to try something to prevent it, either by reducing the number of units or through a method like early stopping. (We'll see another in the next lesson!)"
      ],
      "text/plain": [
       "Correct: \n",
       "\n",
       "Now the validation loss begins to rise very early, while the training loss continues to decrease. This indicates that the network has begun to overfit. At this point, we would need to try something to prevent it, either by reducing the number of units or through a method like early stopping. (We'll see another in the next lesson!)"
      ]
     },
     "metadata": {},
     "output_type": "display_data"
    }
   ],
   "source": [
    "# View the solution (Run this cell to receive credit!)\n",
    "q_2.check()"
   ]
  },
  {
   "cell_type": "markdown",
   "id": "2c694da2",
   "metadata": {
    "papermill": {
     "duration": 0.027442,
     "end_time": "2024-07-01T14:09:46.426869",
     "exception": false,
     "start_time": "2024-07-01T14:09:46.399427",
     "status": "completed"
    },
    "tags": []
   },
   "source": [
    "# 3) Define Early Stopping Callback\n",
    "\n",
    "Now define an early stopping callback that waits 5 epochs (`patience'`) for a change in validation loss of at least `0.001` (`min_delta`) and keeps the weights with the best loss (`restore_best_weights`)."
   ]
  },
  {
   "cell_type": "code",
   "execution_count": 8,
   "id": "a872d471",
   "metadata": {
    "execution": {
     "iopub.execute_input": "2024-07-01T14:09:46.483293Z",
     "iopub.status.busy": "2024-07-01T14:09:46.482531Z",
     "iopub.status.idle": "2024-07-01T14:09:46.490307Z",
     "shell.execute_reply": "2024-07-01T14:09:46.489507Z"
    },
    "lines_to_next_cell": 0,
    "papermill": {
     "duration": 0.037871,
     "end_time": "2024-07-01T14:09:46.492262",
     "exception": false,
     "start_time": "2024-07-01T14:09:46.454391",
     "status": "completed"
    },
    "tags": []
   },
   "outputs": [
    {
     "data": {
      "application/javascript": [
       "parent.postMessage({\"jupyterEvent\": \"custom.exercise_interaction\", \"data\": {\"outcomeType\": 1, \"valueTowardsCompletion\": 0.25, \"interactionType\": 1, \"questionType\": 2, \"questionId\": \"3_Q3\", \"learnToolsVersion\": \"0.3.4\", \"failureMessage\": \"\", \"exceptionClass\": \"\", \"trace\": \"\"}}, \"*\")"
      ],
      "text/plain": [
       "<IPython.core.display.Javascript object>"
      ]
     },
     "metadata": {},
     "output_type": "display_data"
    },
    {
     "data": {
      "text/markdown": [
       "<span style=\"color:#33cc33\">Correct</span>"
      ],
      "text/plain": [
       "Correct"
      ]
     },
     "metadata": {},
     "output_type": "display_data"
    }
   ],
   "source": [
    "from tensorflow.keras import callbacks\n",
    "\n",
    "# YOUR CODE HERE: define an early stopping callback\n",
    "early_stopping = callbacks.EarlyStopping(patience=5, min_delta=0.001, restore_best_weights=True,)\n",
    "\n",
    "# Check your answer\n",
    "q_3.check()"
   ]
  },
  {
   "cell_type": "code",
   "execution_count": 9,
   "id": "9ca09c92",
   "metadata": {
    "execution": {
     "iopub.execute_input": "2024-07-01T14:09:46.549006Z",
     "iopub.status.busy": "2024-07-01T14:09:46.548740Z",
     "iopub.status.idle": "2024-07-01T14:09:46.559289Z",
     "shell.execute_reply": "2024-07-01T14:09:46.558458Z"
    },
    "papermill": {
     "duration": 0.041249,
     "end_time": "2024-07-01T14:09:46.561244",
     "exception": false,
     "start_time": "2024-07-01T14:09:46.519995",
     "status": "completed"
    },
    "tags": []
   },
   "outputs": [
    {
     "data": {
      "application/javascript": [
       "parent.postMessage({\"jupyterEvent\": \"custom.exercise_interaction\", \"data\": {\"interactionType\": 2, \"questionType\": 2, \"questionId\": \"3_Q3\", \"learnToolsVersion\": \"0.3.4\", \"valueTowardsCompletion\": 0.0, \"failureMessage\": \"\", \"exceptionClass\": \"\", \"trace\": \"\", \"outcomeType\": 4}}, \"*\")"
      ],
      "text/plain": [
       "<IPython.core.display.Javascript object>"
      ]
     },
     "metadata": {},
     "output_type": "display_data"
    },
    {
     "data": {
      "text/markdown": [
       "<span style=\"color:#3366cc\">Hint:</span> \n",
       "Your solution should look something like:\n",
       "\n",
       "```python\n",
       "early_stopping = callbacks.EarlyStopping(\n",
       "    patience=____,\n",
       "    min_delta=____,\n",
       "    restore_best_weights=____,\n",
       ")\n",
       "```\n"
      ],
      "text/plain": [
       "Hint: \n",
       "Your solution should look something like:\n",
       "\n",
       "```python\n",
       "early_stopping = callbacks.EarlyStopping(\n",
       "    patience=____,\n",
       "    min_delta=____,\n",
       "    restore_best_weights=____,\n",
       ")\n",
       "```"
      ]
     },
     "metadata": {},
     "output_type": "display_data"
    },
    {
     "data": {
      "application/javascript": [
       "parent.postMessage({\"jupyterEvent\": \"custom.exercise_interaction\", \"data\": {\"interactionType\": 3, \"questionType\": 2, \"questionId\": \"3_Q3\", \"learnToolsVersion\": \"0.3.4\", \"valueTowardsCompletion\": 0.0, \"failureMessage\": \"\", \"exceptionClass\": \"\", \"trace\": \"\", \"outcomeType\": 4}}, \"*\")"
      ],
      "text/plain": [
       "<IPython.core.display.Javascript object>"
      ]
     },
     "metadata": {},
     "output_type": "display_data"
    },
    {
     "data": {
      "text/markdown": [
       "<span style=\"color:#33cc99\">Solution:</span> \n",
       "```python\n",
       "\n",
       "early_stopping = callbacks.EarlyStopping(\n",
       "    patience=5,\n",
       "    min_delta=0.001,\n",
       "    restore_best_weights=True,\n",
       ")\n",
       "```"
      ],
      "text/plain": [
       "Solution: \n",
       "```python\n",
       "\n",
       "early_stopping = callbacks.EarlyStopping(\n",
       "    patience=5,\n",
       "    min_delta=0.001,\n",
       "    restore_best_weights=True,\n",
       ")\n",
       "```"
      ]
     },
     "metadata": {},
     "output_type": "display_data"
    }
   ],
   "source": [
    "# Lines below will give you a hint or solution code\n",
    "q_3.hint()\n",
    "q_3.solution()"
   ]
  },
  {
   "cell_type": "markdown",
   "id": "1c09b4c7",
   "metadata": {
    "papermill": {
     "duration": 0.028068,
     "end_time": "2024-07-01T14:09:46.617438",
     "exception": false,
     "start_time": "2024-07-01T14:09:46.589370",
     "status": "completed"
    },
    "tags": []
   },
   "source": [
    "Now run this cell to train the model and get the learning curves. Notice the `callbacks` argument in `model.fit`."
   ]
  },
  {
   "cell_type": "code",
   "execution_count": 10,
   "id": "44a6f47f",
   "metadata": {
    "execution": {
     "iopub.execute_input": "2024-07-01T14:09:46.675023Z",
     "iopub.status.busy": "2024-07-01T14:09:46.674561Z",
     "iopub.status.idle": "2024-07-01T14:09:50.255087Z",
     "shell.execute_reply": "2024-07-01T14:09:50.254204Z"
    },
    "papermill": {
     "duration": 3.611727,
     "end_time": "2024-07-01T14:09:50.257156",
     "exception": false,
     "start_time": "2024-07-01T14:09:46.645429",
     "status": "completed"
    },
    "tags": []
   },
   "outputs": [
    {
     "name": "stdout",
     "output_type": "stream",
     "text": [
      "Epoch 1/50\n",
      "48/48 [==============================] - 1s 6ms/step - loss: 0.2309 - val_loss: 0.2096\n",
      "Epoch 2/50\n",
      "48/48 [==============================] - 0s 4ms/step - loss: 0.1985 - val_loss: 0.2064\n",
      "Epoch 3/50\n",
      "48/48 [==============================] - 0s 3ms/step - loss: 0.1940 - val_loss: 0.2031\n",
      "Epoch 4/50\n",
      "48/48 [==============================] - 0s 3ms/step - loss: 0.1916 - val_loss: 0.2054\n",
      "Epoch 5/50\n",
      "48/48 [==============================] - 0s 4ms/step - loss: 0.1891 - val_loss: 0.2016\n",
      "Epoch 6/50\n",
      "48/48 [==============================] - 0s 3ms/step - loss: 0.1878 - val_loss: 0.2013\n",
      "Epoch 7/50\n",
      "48/48 [==============================] - 0s 4ms/step - loss: 0.1867 - val_loss: 0.2020\n",
      "Epoch 8/50\n",
      "48/48 [==============================] - 0s 4ms/step - loss: 0.1855 - val_loss: 0.2004\n",
      "Epoch 9/50\n",
      "48/48 [==============================] - 0s 3ms/step - loss: 0.1848 - val_loss: 0.2002\n",
      "Epoch 10/50\n",
      "48/48 [==============================] - 0s 3ms/step - loss: 0.1837 - val_loss: 0.2006\n",
      "Epoch 11/50\n",
      "48/48 [==============================] - 0s 4ms/step - loss: 0.1834 - val_loss: 0.2004\n",
      "Epoch 12/50\n",
      "48/48 [==============================] - 0s 3ms/step - loss: 0.1824 - val_loss: 0.2015\n",
      "Epoch 13/50\n",
      "48/48 [==============================] - 0s 4ms/step - loss: 0.1817 - val_loss: 0.2025\n",
      "Minimum Validation Loss: 0.2002\n"
     ]
    },
    {
     "data": {
      "image/png": "[encoded data removed]",
      "text/plain": [
       "<Figure size 640x480 with 1 Axes>"
      ]
     },
     "metadata": {},
     "output_type": "display_data"
    }
   ],
   "source": [
    "model = keras.Sequential([\n",
    "    layers.Dense(128, activation='relu', input_shape=input_shape),\n",
    "    layers.Dense(64, activation='relu'),    \n",
    "    layers.Dense(1)\n",
    "])\n",
    "model.compile(\n",
    "    optimizer='adam',\n",
    "    loss='mae',\n",
    ")\n",
    "history = model.fit(\n",
    "    X_train, y_train,\n",
    "    validation_data=(X_valid, y_valid),\n",
    "    batch_size=512,\n",
    "    epochs=50,\n",
    "    callbacks=[early_stopping]\n",
    ")\n",
    "history_df = pd.DataFrame(history.history)\n",
    "history_df.loc[:, ['loss', 'val_loss']].plot()\n",
    "print(\"Minimum Validation Loss: {:0.4f}\".format(history_df['val_loss'].min()));"
   ]
  },
  {
   "cell_type": "markdown",
   "id": "fd25af6e",
   "metadata": {
    "papermill": {
     "duration": 0.033571,
     "end_time": "2024-07-01T14:09:50.325160",
     "exception": false,
     "start_time": "2024-07-01T14:09:50.291589",
     "status": "completed"
    },
    "tags": []
   },
   "source": [
    "# 4) Train and Interpret\n",
    "\n",
    "Was this an improvement compared to training without early stopping?"
   ]
  },
  {
   "cell_type": "code",
   "execution_count": 11,
   "id": "8a27f78d",
   "metadata": {
    "execution": {
     "iopub.execute_input": "2024-07-01T14:09:50.394444Z",
     "iopub.status.busy": "2024-07-01T14:09:50.393815Z",
     "iopub.status.idle": "2024-07-01T14:09:50.400844Z",
     "shell.execute_reply": "2024-07-01T14:09:50.400065Z"
    },
    "papermill": {
     "duration": 0.043475,
     "end_time": "2024-07-01T14:09:50.402632",
     "exception": false,
     "start_time": "2024-07-01T14:09:50.359157",
     "status": "completed"
    },
    "tags": []
   },
   "outputs": [
    {
     "data": {
      "application/javascript": [
       "parent.postMessage({\"jupyterEvent\": \"custom.exercise_interaction\", \"data\": {\"outcomeType\": 1, \"valueTowardsCompletion\": 0.25, \"interactionType\": 1, \"questionType\": 4, \"questionId\": \"4_Q4\", \"learnToolsVersion\": \"0.3.4\", \"failureMessage\": \"\", \"exceptionClass\": \"\", \"trace\": \"\"}}, \"*\")"
      ],
      "text/plain": [
       "<IPython.core.display.Javascript object>"
      ]
     },
     "metadata": {},
     "output_type": "display_data"
    },
    {
     "data": {
      "text/markdown": [
       "<span style=\"color:#33cc33\">Correct:</span> \n",
       "\n",
       "The early stopping callback did stop the training once the network began overfitting. Moreover, by including `restore_best_weights` we still get to keep the model where validation loss was lowest."
      ],
      "text/plain": [
       "Correct: \n",
       "\n",
       "The early stopping callback did stop the training once the network began overfitting. Moreover, by including `restore_best_weights` we still get to keep the model where validation loss was lowest."
      ]
     },
     "metadata": {},
     "output_type": "display_data"
    }
   ],
   "source": [
    "# View the solution (Run this cell to receive credit!)\n",
    "q_4.check()"
   ]
  },
  {
   "cell_type": "markdown",
   "id": "e557441a",
   "metadata": {
    "papermill": {
     "duration": 0.033741,
     "end_time": "2024-07-01T14:09:50.470195",
     "exception": false,
     "start_time": "2024-07-01T14:09:50.436454",
     "status": "completed"
    },
    "tags": []
   },
   "source": [
    "If you like, try experimenting with `patience` and `min_delta` to see what difference it might make.\n",
    "\n",
    "# Keep Going #\n",
    "\n",
    "Move on to [**learn about a couple of special layers**](https://www.kaggle.com/ryanholbrook/dropout-and-batch-normalization): batch normalization and dropout."
   ]
  },
  {
   "cell_type": "markdown",
   "id": "ba5e5f36",
   "metadata": {
    "papermill": {
     "duration": 0.033725,
     "end_time": "2024-07-01T14:09:50.537759",
     "exception": false,
     "start_time": "2024-07-01T14:09:50.504034",
     "status": "completed"
    },
    "tags": []
   },
   "source": [
    "---\n",
    "\n",
    "\n",
    "\n",
    "\n",
    "*Have questions or comments? Visit the [course discussion forum](https://www.kaggle.com/learn/intro-to-deep-learning/discussion) to chat with other learners.*"
   ]
  }
 ],
 "metadata": {
  "jupytext": {
   "cell_metadata_filter": "-all",
   "formats": "ipynb"
  },
  "kaggle": {
   "accelerator": "gpu",
   "dataSources": [
    {
     "datasetId": 829369,
     "sourceId": 1480608,
     "sourceType": "datasetVersion"
    }
   ],
   "dockerImageVersionId": 30648,
   "isGpuEnabled": true,
   "isInternetEnabled": false,
   "language": "python",
   "sourceType": "notebook"
  },
  "kernelspec": {
   "display_name": "Python 3",
   "language": "python",
   "name": "python3"
  },
  "language_info": {
   "codemirror_mode": {
    "name": "ipython",
    "version": 3
   },
   "file_extension": ".py",
   "mimetype": "text/x-python",
   "name": "python",
   "nbconvert_exporter": "python",
   "pygments_lexer": "ipython3",
   "version": "3.10.13"
  },
  "papermill": {
   "default_parameters": {},
   "duration": 43.075287,
   "end_time": "2024-07-01T14:09:52.919955",
   "environment_variables": {},
   "exception": null,
   "input_path": "__notebook__.ipynb",
   "output_path": "__notebook__.ipynb",
   "parameters": {},
   "start_time": "2024-07-01T14:09:09.844668",
   "version": "2.5.0"
  }
 },
 "nbformat": 4,
 "nbformat_minor": 5
}
