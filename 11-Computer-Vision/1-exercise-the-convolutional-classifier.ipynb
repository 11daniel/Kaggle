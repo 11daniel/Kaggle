{
 "cells": [
  {
   "cell_type": "markdown",
   "id": "77badb03",
   "metadata": {
    "papermill": {
     "duration": 0.00644,
     "end_time": "2024-08-12T03:33:04.254390",
     "exception": false,
     "start_time": "2024-08-12T03:33:04.247950",
     "status": "completed"
    },
    "tags": []
   },
   "source": [
    "**This notebook is an exercise in the [Computer Vision](https://www.kaggle.com/learn/computer-vision) course.  You can reference the tutorial at [this link](https://www.kaggle.com/ryanholbrook/the-convolutional-classifier).**\n",
    "\n",
    "---\n"
   ]
  },
  {
   "cell_type": "markdown",
   "id": "3aec4d50",
   "metadata": {
    "papermill": {
     "duration": 0.005479,
     "end_time": "2024-08-12T03:33:04.265905",
     "exception": false,
     "start_time": "2024-08-12T03:33:04.260426",
     "status": "completed"
    },
    "tags": []
   },
   "source": [
    "<blockquote style=\"margin-right:auto; margin-left:auto; background-color: #ebf9ff; padding: 1em; margin:24px;\">\n",
    "    <strong>Accelerate Training with a Kaggle GPU!</strong><br>\n",
    "Did you know Kaggle offers free time with a GPU accelerator? You can speed up training neural networks in this course by switching to <strong>GPU</strong> in the <em>Accelerator</em> option on the right. (It may already be turned on.) Two things to be aware of:\n",
    "<ul>\n",
    "<li>Changing the <em>Accelerator</em> option will cause the notebook session to restart. You'll need to rerun any setup code.\n",
    "<li>You can have only one GPU session at a time, so be sure to shut the notebook down after you've finished the exercise.\n",
    "</ul>\n",
    "</blockquote>"
   ]
  },
  {
   "cell_type": "markdown",
   "id": "ce28e754",
   "metadata": {
    "papermill": {
     "duration": 0.005485,
     "end_time": "2024-08-12T03:33:04.277202",
     "exception": false,
     "start_time": "2024-08-12T03:33:04.271717",
     "status": "completed"
    },
    "tags": []
   },
   "source": [
    "# Introduction #\n",
    "\n",
    "In the tutorial, we saw how to build an image classifier by attaching a head of dense layers to a pretrained base. The base we used was from a model called **VGG16**. We saw that the VGG16 architecture was prone to overfitting this dataset. Over this course, you'll learn a number of ways you can improve upon this initial attempt.\n",
    "\n",
    "The first way you'll see is to use a base more appropriate to the dataset. The base this model comes from is called **InceptionV1** (also known as GoogLeNet). InceptionV1 was one of the early winners of the ImageNet competition. One of its successors, InceptionV4, is among the state of the art today.\n",
    "\n",
    "To get started, run the code cell below to set everything up."
   ]
  },
  {
   "cell_type": "code",
   "execution_count": 1,
   "id": "bdb899f3",
   "metadata": {
    "execution": {
     "iopub.execute_input": "2024-08-12T03:33:04.290683Z",
     "iopub.status.busy": "2024-08-12T03:33:04.290011Z",
     "iopub.status.idle": "2024-08-12T03:33:28.089446Z",
     "shell.execute_reply": "2024-08-12T03:33:28.088609Z"
    },
    "lines_to_next_cell": 2,
    "papermill": {
     "duration": 23.808895,
     "end_time": "2024-08-12T03:33:28.091744",
     "exception": false,
     "start_time": "2024-08-12T03:33:04.282849",
     "status": "completed"
    },
    "tags": []
   },
   "outputs": [
    {
     "name": "stderr",
     "output_type": "stream",
     "text": [
      "2024-08-12 03:33:06.819860: E external/local_xla/xla/stream_executor/cuda/cuda_dnn.cc:9261] Unable to register cuDNN factory: Attempting to register factory for plugin cuDNN when one has already been registered\n",
      "2024-08-12 03:33:06.820004: E external/local_xla/xla/stream_executor/cuda/cuda_fft.cc:607] Unable to register cuFFT factory: Attempting to register factory for plugin cuFFT when one has already been registered\n",
      "2024-08-12 03:33:06.963786: E external/local_xla/xla/stream_executor/cuda/cuda_blas.cc:1515] Unable to register cuBLAS factory: Attempting to register factory for plugin cuBLAS when one has already been registered\n"
     ]
    },
    {
     "name": "stdout",
     "output_type": "stream",
     "text": [
      "Found 5117 files belonging to 2 classes.\n",
      "Found 5051 files belonging to 2 classes.\n"
     ]
    }
   ],
   "source": [
    "# Setup feedback system\n",
    "from learntools.core import binder\n",
    "binder.bind(globals())\n",
    "from learntools.computer_vision.ex1 import *\n",
    "\n",
    "# Imports\n",
    "import os, warnings\n",
    "import matplotlib.pyplot as plt\n",
    "from matplotlib import gridspec\n",
    "\n",
    "import numpy as np\n",
    "import tensorflow as tf\n",
    "from tensorflow.keras.preprocessing import image_dataset_from_directory\n",
    "\n",
    "# Reproducability\n",
    "def set_seed(seed=31415):\n",
    "    np.random.seed(seed)\n",
    "    tf.random.set_seed(seed)\n",
    "    os.environ['PYTHONHASHSEED'] = str(seed)\n",
    "    os.environ['TF_DETERMINISTIC_OPS'] = '1'\n",
    "set_seed()\n",
    "\n",
    "# Set Matplotlib defaults\n",
    "plt.rc('figure', autolayout=True)\n",
    "plt.rc('axes', labelweight='bold', labelsize='large',\n",
    "       titleweight='bold', titlesize=18, titlepad=10)\n",
    "plt.rc('image', cmap='magma')\n",
    "warnings.filterwarnings(\"ignore\") # to clean up output cells\n",
    "\n",
    "\n",
    "# Load training and validation sets\n",
    "ds_train_ = image_dataset_from_directory(\n",
    "    '../input/car-or-truck/train',\n",
    "    labels='inferred',\n",
    "    label_mode='binary',\n",
    "    image_size=[128, 128],\n",
    "    interpolation='nearest',\n",
    "    batch_size=64,\n",
    "    shuffle=True,\n",
    ")\n",
    "ds_valid_ = image_dataset_from_directory(\n",
    "    '../input/car-or-truck/valid',\n",
    "    labels='inferred',\n",
    "    label_mode='binary',\n",
    "    image_size=[128, 128],\n",
    "    interpolation='nearest',\n",
    "    batch_size=64,\n",
    "    shuffle=False,\n",
    ")\n",
    "\n",
    "# Data Pipeline\n",
    "def convert_to_float(image, label):\n",
    "    image = tf.image.convert_image_dtype(image, dtype=tf.float32)\n",
    "    return image, label\n",
    "\n",
    "AUTOTUNE = tf.data.experimental.AUTOTUNE\n",
    "ds_train = (\n",
    "    ds_train_\n",
    "    .map(convert_to_float)\n",
    "    .cache()\n",
    "    .prefetch(buffer_size=AUTOTUNE)\n",
    ")\n",
    "ds_valid = (\n",
    "    ds_valid_\n",
    "    .map(convert_to_float)\n",
    "    .cache()\n",
    "    .prefetch(buffer_size=AUTOTUNE)\n",
    ")\n"
   ]
  },
  {
   "cell_type": "markdown",
   "id": "a14d80d6",
   "metadata": {
    "papermill": {
     "duration": 0.006053,
     "end_time": "2024-08-12T03:33:28.104111",
     "exception": false,
     "start_time": "2024-08-12T03:33:28.098058",
     "status": "completed"
    },
    "tags": []
   },
   "source": [
    "The **InceptionV1** model pretrained on ImageNet is available in the [TensorFlow Hub](https://www.tensorflow.org/hub/) repository, but we'll load it from a local copy. Run this cell to load InceptionV1 for your base."
   ]
  },
  {
   "cell_type": "code",
   "execution_count": 2,
   "id": "ae8d8aa1",
   "metadata": {
    "execution": {
     "iopub.execute_input": "2024-08-12T03:33:28.117618Z",
     "iopub.status.busy": "2024-08-12T03:33:28.117088Z",
     "iopub.status.idle": "2024-08-12T03:33:32.016424Z",
     "shell.execute_reply": "2024-08-12T03:33:32.015573Z"
    },
    "lines_to_next_cell": 0,
    "papermill": {
     "duration": 3.909338,
     "end_time": "2024-08-12T03:33:32.019475",
     "exception": false,
     "start_time": "2024-08-12T03:33:28.110137",
     "status": "completed"
    },
    "tags": []
   },
   "outputs": [],
   "source": [
    "import tensorflow_hub as hub\n",
    "\n",
    "pretrained_base = tf.keras.models.load_model(\n",
    "    '../input/cv-course-models/cv-course-models/inceptionv1'\n",
    ")"
   ]
  },
  {
   "cell_type": "markdown",
   "id": "2a59480b",
   "metadata": {
    "papermill": {
     "duration": 0.006029,
     "end_time": "2024-08-12T03:33:32.033567",
     "exception": false,
     "start_time": "2024-08-12T03:33:32.027538",
     "status": "completed"
    },
    "tags": []
   },
   "source": [
    "# 1) Define Pretrained Base #\n",
    "\n",
    "Now that you have a pretrained base to do our feature extraction, decide whether this base should be trainable or not."
   ]
  },
  {
   "cell_type": "code",
   "execution_count": 3,
   "id": "c2a76868",
   "metadata": {
    "execution": {
     "iopub.execute_input": "2024-08-12T03:33:32.047256Z",
     "iopub.status.busy": "2024-08-12T03:33:32.046619Z",
     "iopub.status.idle": "2024-08-12T03:33:32.055557Z",
     "shell.execute_reply": "2024-08-12T03:33:32.054738Z"
    },
    "lines_to_next_cell": 0,
    "papermill": {
     "duration": 0.017879,
     "end_time": "2024-08-12T03:33:32.057442",
     "exception": false,
     "start_time": "2024-08-12T03:33:32.039563",
     "status": "completed"
    },
    "tags": []
   },
   "outputs": [
    {
     "data": {
      "application/javascript": [
       "parent.postMessage({\"jupyterEvent\": \"custom.exercise_interaction\", \"data\": {\"outcomeType\": 1, \"valueTowardsCompletion\": 0.25, \"interactionType\": 1, \"questionType\": 2, \"questionId\": \"1_Q1\", \"learnToolsVersion\": \"0.3.4\", \"failureMessage\": \"\", \"exceptionClass\": \"\", \"trace\": \"\"}}, \"*\")"
      ],
      "text/plain": [
       "<IPython.core.display.Javascript object>"
      ]
     },
     "metadata": {},
     "output_type": "display_data"
    },
    {
     "data": {
      "text/markdown": [
       "<span style=\"color:#33cc33\">Correct:</span> When doing transfer learning, it's generally not a good idea to retrain the entire base -- at least not without some care. The reason is that the random weights in the head will initially create large gradient updates, which propogate back into the base layers and destroy much of the pretraining. Using techniques known as **fine tuning** it's possible to further train the base on new data, but this requires some care to do well."
      ],
      "text/plain": [
       "Correct: When doing transfer learning, it's generally not a good idea to retrain the entire base -- at least not without some care. The reason is that the random weights in the head will initially create large gradient updates, which propogate back into the base layers and destroy much of the pretraining. Using techniques known as **fine tuning** it's possible to further train the base on new data, but this requires some care to do well."
      ]
     },
     "metadata": {},
     "output_type": "display_data"
    }
   ],
   "source": [
    "# YOUR_CODE_HERE\n",
    "pretrained_base.trainable = False\n",
    "\n",
    "# Check your answer\n",
    "q_1.check()"
   ]
  },
  {
   "cell_type": "code",
   "execution_count": 4,
   "id": "8a65f6ef",
   "metadata": {
    "execution": {
     "iopub.execute_input": "2024-08-12T03:33:32.071460Z",
     "iopub.status.busy": "2024-08-12T03:33:32.071119Z",
     "iopub.status.idle": "2024-08-12T03:33:32.082167Z",
     "shell.execute_reply": "2024-08-12T03:33:32.081338Z"
    },
    "papermill": {
     "duration": 0.020161,
     "end_time": "2024-08-12T03:33:32.084021",
     "exception": false,
     "start_time": "2024-08-12T03:33:32.063860",
     "status": "completed"
    },
    "tags": []
   },
   "outputs": [
    {
     "data": {
      "application/javascript": [
       "parent.postMessage({\"jupyterEvent\": \"custom.exercise_interaction\", \"data\": {\"interactionType\": 2, \"questionType\": 2, \"questionId\": \"1_Q1\", \"learnToolsVersion\": \"0.3.4\", \"valueTowardsCompletion\": 0.0, \"failureMessage\": \"\", \"exceptionClass\": \"\", \"trace\": \"\", \"outcomeType\": 4}}, \"*\")"
      ],
      "text/plain": [
       "<IPython.core.display.Javascript object>"
      ]
     },
     "metadata": {},
     "output_type": "display_data"
    },
    {
     "data": {
      "text/markdown": [
       "<span style=\"color:#3366cc\">Hint:</span> `True` or `False`?"
      ],
      "text/plain": [
       "Hint: `True` or `False`?"
      ]
     },
     "metadata": {},
     "output_type": "display_data"
    },
    {
     "data": {
      "application/javascript": [
       "parent.postMessage({\"jupyterEvent\": \"custom.exercise_interaction\", \"data\": {\"interactionType\": 3, \"questionType\": 2, \"questionId\": \"1_Q1\", \"learnToolsVersion\": \"0.3.4\", \"valueTowardsCompletion\": 0.0, \"failureMessage\": \"\", \"exceptionClass\": \"\", \"trace\": \"\", \"outcomeType\": 4}}, \"*\")"
      ],
      "text/plain": [
       "<IPython.core.display.Javascript object>"
      ]
     },
     "metadata": {},
     "output_type": "display_data"
    },
    {
     "data": {
      "text/markdown": [
       "<span style=\"color:#33cc99\">Solution:</span> \n",
       "```python\n",
       "pretrained_base.trainable = False\n",
       "```"
      ],
      "text/plain": [
       "Solution: \n",
       "```python\n",
       "pretrained_base.trainable = False\n",
       "```"
      ]
     },
     "metadata": {},
     "output_type": "display_data"
    }
   ],
   "source": [
    "# Lines below will give you a hint or solution code\n",
    "q_1.hint()\n",
    "q_1.solution()"
   ]
  },
  {
   "cell_type": "markdown",
   "id": "eb1bc75b",
   "metadata": {
    "papermill": {
     "duration": 0.006621,
     "end_time": "2024-08-12T03:33:32.098576",
     "exception": false,
     "start_time": "2024-08-12T03:33:32.091955",
     "status": "completed"
    },
    "tags": []
   },
   "source": [
    "# 2) Attach Head #\n",
    "\n",
    "Now that the base is defined to do the feature extraction, create a head of `Dense` layers to perform the classification, following this diagram:\n",
    "\n",
    "<figure>\n",
    "<img src=\"https://storage.googleapis.com/kaggle-media/learn/images/i5VU7Ry.png\" alt=\"Diagram of the dense head.\">\n",
    "</figure>\n"
   ]
  },
  {
   "cell_type": "code",
   "execution_count": 5,
   "id": "7649a6e6",
   "metadata": {
    "execution": {
     "iopub.execute_input": "2024-08-12T03:33:32.113634Z",
     "iopub.status.busy": "2024-08-12T03:33:32.113122Z",
     "iopub.status.idle": "2024-08-12T03:33:32.132468Z",
     "shell.execute_reply": "2024-08-12T03:33:32.131612Z"
    },
    "lines_to_next_cell": 0,
    "papermill": {
     "duration": 0.029005,
     "end_time": "2024-08-12T03:33:32.134401",
     "exception": false,
     "start_time": "2024-08-12T03:33:32.105396",
     "status": "completed"
    },
    "tags": []
   },
   "outputs": [
    {
     "data": {
      "application/javascript": [
       "parent.postMessage({\"jupyterEvent\": \"custom.exercise_interaction\", \"data\": {\"outcomeType\": 1, \"valueTowardsCompletion\": 0.25, \"interactionType\": 1, \"questionType\": 2, \"questionId\": \"2_Q2\", \"learnToolsVersion\": \"0.3.4\", \"failureMessage\": \"\", \"exceptionClass\": \"\", \"trace\": \"\"}}, \"*\")"
      ],
      "text/plain": [
       "<IPython.core.display.Javascript object>"
      ]
     },
     "metadata": {},
     "output_type": "display_data"
    },
    {
     "data": {
      "text/markdown": [
       "<span style=\"color:#33cc33\">Correct</span>"
      ],
      "text/plain": [
       "Correct"
      ]
     },
     "metadata": {},
     "output_type": "display_data"
    }
   ],
   "source": [
    "from tensorflow import keras\n",
    "from tensorflow.keras import layers\n",
    "\n",
    "model = keras.Sequential([\n",
    "    pretrained_base,\n",
    "    layers.Flatten(),\n",
    "    # YOUR CODE HERE. Attach a head of dense layers.\n",
    "    layers.Dense(6, activation='relu'),\n",
    "    layers.Dense(1, activation='sigmoid'),\n",
    "])\n",
    "\n",
    "# Check your answer\n",
    "q_2.check()"
   ]
  },
  {
   "cell_type": "code",
   "execution_count": 6,
   "id": "798bd9e7",
   "metadata": {
    "execution": {
     "iopub.execute_input": "2024-08-12T03:33:32.149936Z",
     "iopub.status.busy": "2024-08-12T03:33:32.149687Z",
     "iopub.status.idle": "2024-08-12T03:33:32.159873Z",
     "shell.execute_reply": "2024-08-12T03:33:32.159037Z"
    },
    "papermill": {
     "duration": 0.020107,
     "end_time": "2024-08-12T03:33:32.161754",
     "exception": false,
     "start_time": "2024-08-12T03:33:32.141647",
     "status": "completed"
    },
    "tags": []
   },
   "outputs": [
    {
     "data": {
      "application/javascript": [
       "parent.postMessage({\"jupyterEvent\": \"custom.exercise_interaction\", \"data\": {\"interactionType\": 2, \"questionType\": 2, \"questionId\": \"2_Q2\", \"learnToolsVersion\": \"0.3.4\", \"valueTowardsCompletion\": 0.0, \"failureMessage\": \"\", \"exceptionClass\": \"\", \"trace\": \"\", \"outcomeType\": 4}}, \"*\")"
      ],
      "text/plain": [
       "<IPython.core.display.Javascript object>"
      ]
     },
     "metadata": {},
     "output_type": "display_data"
    },
    {
     "data": {
      "text/markdown": [
       "<span style=\"color:#3366cc\">Hint:</span> You need to add two new `Dense` layers. The first should have 6 units and `'relu'` activation. The second should have 1 unit and `'sigmoid'` activation."
      ],
      "text/plain": [
       "Hint: You need to add two new `Dense` layers. The first should have 6 units and `'relu'` activation. The second should have 1 unit and `'sigmoid'` activation."
      ]
     },
     "metadata": {},
     "output_type": "display_data"
    },
    {
     "data": {
      "application/javascript": [
       "parent.postMessage({\"jupyterEvent\": \"custom.exercise_interaction\", \"data\": {\"interactionType\": 3, \"questionType\": 2, \"questionId\": \"2_Q2\", \"learnToolsVersion\": \"0.3.4\", \"valueTowardsCompletion\": 0.0, \"failureMessage\": \"\", \"exceptionClass\": \"\", \"trace\": \"\", \"outcomeType\": 4}}, \"*\")"
      ],
      "text/plain": [
       "<IPython.core.display.Javascript object>"
      ]
     },
     "metadata": {},
     "output_type": "display_data"
    },
    {
     "data": {
      "text/markdown": [
       "<span style=\"color:#33cc99\">Solution:</span> \n",
       "```python\n",
       " \n",
       "from tensorflow import keras\n",
       "from tensorflow.keras import layers\n",
       "\n",
       "model = keras.Sequential([\n",
       "    pretrained_base,\n",
       "    layers.Flatten(),\n",
       "    layers.Dense(6, activation='relu'),\n",
       "    layers.Dense(1, activation='sigmoid'),\n",
       "])\n",
       "\n",
       "```"
      ],
      "text/plain": [
       "Solution: \n",
       "```python\n",
       " \n",
       "from tensorflow import keras\n",
       "from tensorflow.keras import layers\n",
       "\n",
       "model = keras.Sequential([\n",
       "    pretrained_base,\n",
       "    layers.Flatten(),\n",
       "    layers.Dense(6, activation='relu'),\n",
       "    layers.Dense(1, activation='sigmoid'),\n",
       "])\n",
       "\n",
       "```"
      ]
     },
     "metadata": {},
     "output_type": "display_data"
    }
   ],
   "source": [
    "# Lines below will give you a hint or solution code\n",
    "q_2.hint()\n",
    "q_2.solution()"
   ]
  },
  {
   "cell_type": "markdown",
   "id": "ec4a98a4",
   "metadata": {
    "papermill": {
     "duration": 0.00765,
     "end_time": "2024-08-12T03:33:32.177719",
     "exception": false,
     "start_time": "2024-08-12T03:33:32.170069",
     "status": "completed"
    },
    "tags": []
   },
   "source": [
    "# 3) Train #\n",
    "\n",
    "Before training a model in Keras, you need to specify an *optimizer* to perform the gradient descent, a *loss function* to be minimized, and (optionally) any *performance metrics*. The optimization algorithm we'll use for this course is called [\"Adam\"](https://keras.io/api/optimizers/adam/), which generally performs well regardless of what kind of problem you're trying to solve.\n",
    "\n",
    "The loss and the metrics, however, need to match the kind of problem you're trying to solve. Our problem is a **binary classification** problem: `Car` coded as 0, and `Truck` coded as 1. Choose an appropriate loss and an appropriate accuracy metric for binary classification."
   ]
  },
  {
   "cell_type": "code",
   "execution_count": 7,
   "id": "f5d91ee7",
   "metadata": {
    "execution": {
     "iopub.execute_input": "2024-08-12T03:33:32.194134Z",
     "iopub.status.busy": "2024-08-12T03:33:32.193887Z",
     "iopub.status.idle": "2024-08-12T03:33:32.220720Z",
     "shell.execute_reply": "2024-08-12T03:33:32.219852Z"
    },
    "lines_to_next_cell": 0,
    "papermill": {
     "duration": 0.037232,
     "end_time": "2024-08-12T03:33:32.222713",
     "exception": false,
     "start_time": "2024-08-12T03:33:32.185481",
     "status": "completed"
    },
    "tags": []
   },
   "outputs": [
    {
     "data": {
      "application/javascript": [
       "parent.postMessage({\"jupyterEvent\": \"custom.exercise_interaction\", \"data\": {\"outcomeType\": 1, \"valueTowardsCompletion\": 0.25, \"interactionType\": 1, \"questionType\": 2, \"questionId\": \"3_Q3\", \"learnToolsVersion\": \"0.3.4\", \"failureMessage\": \"\", \"exceptionClass\": \"\", \"trace\": \"\"}}, \"*\")"
      ],
      "text/plain": [
       "<IPython.core.display.Javascript object>"
      ]
     },
     "metadata": {},
     "output_type": "display_data"
    },
    {
     "data": {
      "text/markdown": [
       "<span style=\"color:#33cc33\">Correct</span>"
      ],
      "text/plain": [
       "Correct"
      ]
     },
     "metadata": {},
     "output_type": "display_data"
    }
   ],
   "source": [
    "# YOUR CODE HERE: what loss function should you use for a binary\n",
    "# classification problem? (Your answer for each should be a string.)\n",
    "optimizer = tf.keras.optimizers.Adam(epsilon=0.01)\n",
    "model.compile(\n",
    "    optimizer=optimizer,\n",
    "    loss = 'binary_crossentropy',\n",
    "    metrics=['binary_accuracy'],\n",
    ")\n",
    "\n",
    "# Check your answer\n",
    "q_3.check()"
   ]
  },
  {
   "cell_type": "code",
   "execution_count": 8,
   "id": "a313281f",
   "metadata": {
    "execution": {
     "iopub.execute_input": "2024-08-12T03:33:32.239887Z",
     "iopub.status.busy": "2024-08-12T03:33:32.239629Z",
     "iopub.status.idle": "2024-08-12T03:33:32.249695Z",
     "shell.execute_reply": "2024-08-12T03:33:32.248821Z"
    },
    "lines_to_next_cell": 0,
    "papermill": {
     "duration": 0.020977,
     "end_time": "2024-08-12T03:33:32.251662",
     "exception": false,
     "start_time": "2024-08-12T03:33:32.230685",
     "status": "completed"
    },
    "tags": []
   },
   "outputs": [
    {
     "data": {
      "application/javascript": [
       "parent.postMessage({\"jupyterEvent\": \"custom.exercise_interaction\", \"data\": {\"interactionType\": 2, \"questionType\": 2, \"questionId\": \"3_Q3\", \"learnToolsVersion\": \"0.3.4\", \"valueTowardsCompletion\": 0.0, \"failureMessage\": \"\", \"exceptionClass\": \"\", \"trace\": \"\", \"outcomeType\": 4}}, \"*\")"
      ],
      "text/plain": [
       "<IPython.core.display.Javascript object>"
      ]
     },
     "metadata": {},
     "output_type": "display_data"
    },
    {
     "data": {
      "text/markdown": [
       "<span style=\"color:#3366cc\">Hint:</span> This is a *binary* classification problem."
      ],
      "text/plain": [
       "Hint: This is a *binary* classification problem."
      ]
     },
     "metadata": {},
     "output_type": "display_data"
    },
    {
     "data": {
      "application/javascript": [
       "parent.postMessage({\"jupyterEvent\": \"custom.exercise_interaction\", \"data\": {\"interactionType\": 3, \"questionType\": 2, \"questionId\": \"3_Q3\", \"learnToolsVersion\": \"0.3.4\", \"valueTowardsCompletion\": 0.0, \"failureMessage\": \"\", \"exceptionClass\": \"\", \"trace\": \"\", \"outcomeType\": 4}}, \"*\")"
      ],
      "text/plain": [
       "<IPython.core.display.Javascript object>"
      ]
     },
     "metadata": {},
     "output_type": "display_data"
    },
    {
     "data": {
      "text/markdown": [
       "<span style=\"color:#33cc99\">Solution:</span> \n",
       "```python\n",
       "\n",
       "model.compile(\n",
       "    optimizer='adam',\n",
       "    loss='binary_crossentropy',\n",
       "    metrics=['binary_accuracy'],\n",
       ")\n",
       "\n",
       "```"
      ],
      "text/plain": [
       "Solution: \n",
       "```python\n",
       "\n",
       "model.compile(\n",
       "    optimizer='adam',\n",
       "    loss='binary_crossentropy',\n",
       "    metrics=['binary_accuracy'],\n",
       ")\n",
       "\n",
       "```"
      ]
     },
     "metadata": {},
     "output_type": "display_data"
    }
   ],
   "source": [
    "# Lines below will give you a hint or solution code\n",
    "q_3.hint()\n",
    "q_3.solution()"
   ]
  },
  {
   "cell_type": "code",
   "execution_count": 9,
   "id": "3cc5a83a",
   "metadata": {
    "execution": {
     "iopub.execute_input": "2024-08-12T03:33:32.269780Z",
     "iopub.status.busy": "2024-08-12T03:33:32.269523Z",
     "iopub.status.idle": "2024-08-12T03:35:32.018358Z",
     "shell.execute_reply": "2024-08-12T03:35:32.017304Z"
    },
    "papermill": {
     "duration": 119.76021,
     "end_time": "2024-08-12T03:35:32.020421",
     "exception": false,
     "start_time": "2024-08-12T03:33:32.260211",
     "status": "completed"
    },
    "tags": []
   },
   "outputs": [
    {
     "name": "stdout",
     "output_type": "stream",
     "text": [
      "Epoch 1/30\n"
     ]
    },
    {
     "name": "stderr",
     "output_type": "stream",
     "text": [
      "WARNING: All log messages before absl::InitializeLog() is called are written to STDERR\n",
      "I0000 00:00:1723433619.919235      73 device_compiler.h:186] Compiled cluster using XLA!  This line is logged at most once for the lifetime of the process.\n"
     ]
    },
    {
     "name": "stdout",
     "output_type": "stream",
     "text": [
      "80/80 [==============================] - 20s 154ms/step - loss: 0.6178 - binary_accuracy: 0.6727 - val_loss: 0.4958 - val_binary_accuracy: 0.7921\n",
      "Epoch 2/30\n",
      "80/80 [==============================] - 3s 43ms/step - loss: 0.4494 - binary_accuracy: 0.8054 - val_loss: 0.4077 - val_binary_accuracy: 0.8242\n",
      "Epoch 3/30\n",
      "80/80 [==============================] - 3s 42ms/step - loss: 0.4011 - binary_accuracy: 0.8233 - val_loss: 0.3875 - val_binary_accuracy: 0.8333\n",
      "Epoch 4/30\n",
      "80/80 [==============================] - 3s 43ms/step - loss: 0.3816 - binary_accuracy: 0.8308 - val_loss: 0.3771 - val_binary_accuracy: 0.8386\n",
      "Epoch 5/30\n",
      "80/80 [==============================] - 3s 42ms/step - loss: 0.3682 - binary_accuracy: 0.8392 - val_loss: 0.3700 - val_binary_accuracy: 0.8406\n",
      "Epoch 6/30\n",
      "80/80 [==============================] - 3s 42ms/step - loss: 0.3569 - binary_accuracy: 0.8433 - val_loss: 0.3646 - val_binary_accuracy: 0.8452\n",
      "Epoch 7/30\n",
      "80/80 [==============================] - 3s 42ms/step - loss: 0.3475 - binary_accuracy: 0.8485 - val_loss: 0.3597 - val_binary_accuracy: 0.8454\n",
      "Epoch 8/30\n",
      "80/80 [==============================] - 3s 42ms/step - loss: 0.3386 - binary_accuracy: 0.8550 - val_loss: 0.3563 - val_binary_accuracy: 0.8476\n",
      "Epoch 9/30\n",
      "80/80 [==============================] - 3s 43ms/step - loss: 0.3304 - binary_accuracy: 0.8599 - val_loss: 0.3531 - val_binary_accuracy: 0.8466\n",
      "Epoch 10/30\n",
      "80/80 [==============================] - 3s 43ms/step - loss: 0.3230 - binary_accuracy: 0.8654 - val_loss: 0.3504 - val_binary_accuracy: 0.8460\n",
      "Epoch 11/30\n",
      "80/80 [==============================] - 3s 43ms/step - loss: 0.3161 - binary_accuracy: 0.8687 - val_loss: 0.3483 - val_binary_accuracy: 0.8480\n",
      "Epoch 12/30\n",
      "80/80 [==============================] - 3s 42ms/step - loss: 0.3103 - binary_accuracy: 0.8712 - val_loss: 0.3469 - val_binary_accuracy: 0.8491\n",
      "Epoch 13/30\n",
      "80/80 [==============================] - 3s 43ms/step - loss: 0.3044 - binary_accuracy: 0.8724 - val_loss: 0.3452 - val_binary_accuracy: 0.8509\n",
      "Epoch 14/30\n",
      "80/80 [==============================] - 3s 42ms/step - loss: 0.2987 - binary_accuracy: 0.8755 - val_loss: 0.3433 - val_binary_accuracy: 0.8519\n",
      "Epoch 15/30\n",
      "80/80 [==============================] - 3s 42ms/step - loss: 0.2938 - binary_accuracy: 0.8786 - val_loss: 0.3429 - val_binary_accuracy: 0.8515\n",
      "Epoch 16/30\n",
      "80/80 [==============================] - 3s 42ms/step - loss: 0.2887 - binary_accuracy: 0.8812 - val_loss: 0.3410 - val_binary_accuracy: 0.8531\n",
      "Epoch 17/30\n",
      "80/80 [==============================] - 3s 42ms/step - loss: 0.2842 - binary_accuracy: 0.8835 - val_loss: 0.3394 - val_binary_accuracy: 0.8523\n",
      "Epoch 18/30\n",
      "80/80 [==============================] - 3s 43ms/step - loss: 0.2801 - binary_accuracy: 0.8867 - val_loss: 0.3381 - val_binary_accuracy: 0.8545\n",
      "Epoch 19/30\n",
      "80/80 [==============================] - 3s 42ms/step - loss: 0.2755 - binary_accuracy: 0.8884 - val_loss: 0.3371 - val_binary_accuracy: 0.8553\n",
      "Epoch 20/30\n",
      "80/80 [==============================] - 3s 43ms/step - loss: 0.2709 - binary_accuracy: 0.8900 - val_loss: 0.3364 - val_binary_accuracy: 0.8547\n",
      "Epoch 21/30\n",
      "80/80 [==============================] - 3s 42ms/step - loss: 0.2667 - binary_accuracy: 0.8937 - val_loss: 0.3351 - val_binary_accuracy: 0.8567\n",
      "Epoch 22/30\n",
      "80/80 [==============================] - 3s 42ms/step - loss: 0.2625 - binary_accuracy: 0.8953 - val_loss: 0.3346 - val_binary_accuracy: 0.8584\n",
      "Epoch 23/30\n",
      "80/80 [==============================] - 3s 42ms/step - loss: 0.2586 - binary_accuracy: 0.8968 - val_loss: 0.3342 - val_binary_accuracy: 0.8584\n",
      "Epoch 24/30\n",
      "80/80 [==============================] - 3s 43ms/step - loss: 0.2548 - binary_accuracy: 0.8974 - val_loss: 0.3338 - val_binary_accuracy: 0.8584\n",
      "Epoch 25/30\n",
      "80/80 [==============================] - 3s 42ms/step - loss: 0.2514 - binary_accuracy: 0.8984 - val_loss: 0.3348 - val_binary_accuracy: 0.8582\n",
      "Epoch 26/30\n",
      "80/80 [==============================] - 3s 42ms/step - loss: 0.2477 - binary_accuracy: 0.8994 - val_loss: 0.3339 - val_binary_accuracy: 0.8588\n",
      "Epoch 27/30\n",
      "80/80 [==============================] - 3s 42ms/step - loss: 0.2443 - binary_accuracy: 0.9009 - val_loss: 0.3327 - val_binary_accuracy: 0.8600\n",
      "Epoch 28/30\n",
      "80/80 [==============================] - 3s 42ms/step - loss: 0.2411 - binary_accuracy: 0.9023 - val_loss: 0.3338 - val_binary_accuracy: 0.8594\n",
      "Epoch 29/30\n",
      "80/80 [==============================] - 3s 42ms/step - loss: 0.2378 - binary_accuracy: 0.9046 - val_loss: 0.3325 - val_binary_accuracy: 0.8618\n",
      "Epoch 30/30\n",
      "80/80 [==============================] - 3s 42ms/step - loss: 0.2350 - binary_accuracy: 0.9058 - val_loss: 0.3328 - val_binary_accuracy: 0.8614\n"
     ]
    }
   ],
   "source": [
    "history = model.fit(\n",
    "    ds_train,\n",
    "    validation_data=ds_valid,\n",
    "    epochs=30,\n",
    ")"
   ]
  },
  {
   "cell_type": "markdown",
   "id": "21707f35",
   "metadata": {
    "papermill": {
     "duration": 0.079091,
     "end_time": "2024-08-12T03:35:32.178637",
     "exception": false,
     "start_time": "2024-08-12T03:35:32.099546",
     "status": "completed"
    },
    "tags": []
   },
   "source": [
    "Run the cell below to plot the loss and metric curves for this training run."
   ]
  },
  {
   "cell_type": "code",
   "execution_count": 10,
   "id": "3cb2b948",
   "metadata": {
    "execution": {
     "iopub.execute_input": "2024-08-12T03:35:32.340268Z",
     "iopub.status.busy": "2024-08-12T03:35:32.339378Z",
     "iopub.status.idle": "2024-08-12T03:35:32.982438Z",
     "shell.execute_reply": "2024-08-12T03:35:32.981561Z"
    },
    "papermill": {
     "duration": 0.725053,
     "end_time": "2024-08-12T03:35:32.984586",
     "exception": false,
     "start_time": "2024-08-12T03:35:32.259533",
     "status": "completed"
    },
    "tags": []
   },
   "outputs": [
    {
     "data": {
      "image/png": "[encoded data removed]",
      "text/plain": [
       "<Figure size 640x480 with 1 Axes>"
      ]
     },
     "metadata": {},
     "output_type": "display_data"
    },
    {
     "data": {
      "image/png": "[encoded data removed]",
      "text/plain": [
       "<Figure size 640x480 with 1 Axes>"
      ]
     },
     "metadata": {},
     "output_type": "display_data"
    }
   ],
   "source": [
    "import pandas as pd\n",
    "history_frame = pd.DataFrame(history.history)\n",
    "history_frame.loc[:, ['loss', 'val_loss']].plot()\n",
    "history_frame.loc[:, ['binary_accuracy', 'val_binary_accuracy']].plot();"
   ]
  },
  {
   "cell_type": "markdown",
   "id": "f0f6a0f1",
   "metadata": {
    "papermill": {
     "duration": 0.0929,
     "end_time": "2024-08-12T03:35:33.198777",
     "exception": false,
     "start_time": "2024-08-12T03:35:33.105877",
     "status": "completed"
    },
    "tags": []
   },
   "source": [
    "# 4) Examine Loss and Accuracy #\n",
    "\n",
    "Do you notice a difference between these learning curves and the curves for VGG16 from the tutorial? What does this difference tell you about what this model (InceptionV2) learned compared to VGG16? Are there ways in which one is better than the other? Worse?\n",
    "\n",
    "After you've thought about it, run the cell below to see the answer."
   ]
  },
  {
   "cell_type": "code",
   "execution_count": 11,
   "id": "54e33a20",
   "metadata": {
    "execution": {
     "iopub.execute_input": "2024-08-12T03:35:33.370545Z",
     "iopub.status.busy": "2024-08-12T03:35:33.369813Z",
     "iopub.status.idle": "2024-08-12T03:35:33.377472Z",
     "shell.execute_reply": "2024-08-12T03:35:33.376599Z"
    },
    "papermill": {
     "duration": 0.09119,
     "end_time": "2024-08-12T03:35:33.379404",
     "exception": false,
     "start_time": "2024-08-12T03:35:33.288214",
     "status": "completed"
    },
    "tags": []
   },
   "outputs": [
    {
     "data": {
      "application/javascript": [
       "parent.postMessage({\"jupyterEvent\": \"custom.exercise_interaction\", \"data\": {\"outcomeType\": 1, \"valueTowardsCompletion\": 0.25, \"interactionType\": 1, \"questionType\": 4, \"questionId\": \"4_Q4\", \"learnToolsVersion\": \"0.3.4\", \"failureMessage\": \"\", \"exceptionClass\": \"\", \"trace\": \"\"}}, \"*\")"
      ],
      "text/plain": [
       "<IPython.core.display.Javascript object>"
      ]
     },
     "metadata": {},
     "output_type": "display_data"
    },
    {
     "data": {
      "text/markdown": [
       "<span style=\"color:#33cc33\">Correct:</span> \n",
       "\n",
       "That the training loss and validation loss stay fairly close is evidence that the model isn't just memorizing the training data, but rather learning general properties of the two classes. But, because this model converges at a loss greater than the VGG16 model, it's likely that it is underfitting some, and could benefit from some extra capacity.\n"
      ],
      "text/plain": [
       "Correct: \n",
       "\n",
       "That the training loss and validation loss stay fairly close is evidence that the model isn't just memorizing the training data, but rather learning general properties of the two classes. But, because this model converges at a loss greater than the VGG16 model, it's likely that it is underfitting some, and could benefit from some extra capacity."
      ]
     },
     "metadata": {},
     "output_type": "display_data"
    }
   ],
   "source": [
    "# View the solution (Run this code cell to receive credit!)\n",
    "q_4.check()"
   ]
  },
  {
   "cell_type": "markdown",
   "id": "da8c09b1",
   "metadata": {
    "papermill": {
     "duration": 0.079855,
     "end_time": "2024-08-12T03:35:33.539002",
     "exception": false,
     "start_time": "2024-08-12T03:35:33.459147",
     "status": "completed"
    },
    "tags": []
   },
   "source": [
    "# Conclusion #\n",
    "\n",
    "In this first lesson, you learned the basics of **convolutional image classifiers**, that they consist of a **base** for extracting features from images, and a **head** which uses the features to decide the image's class. You also saw how to build a classifier with **transfer learning** on pretrained base. "
   ]
  },
  {
   "cell_type": "markdown",
   "id": "27491144",
   "metadata": {
    "papermill": {
     "duration": 0.079191,
     "end_time": "2024-08-12T03:35:33.698219",
     "exception": false,
     "start_time": "2024-08-12T03:35:33.619028",
     "status": "completed"
    },
    "tags": []
   },
   "source": [
    "# Keep Going #\n",
    "\n",
    "Move on to [**Lesson 2**](https://www.kaggle.com/ryanholbrook/convolution-and-relu) for a detailed look at how the base does this feature extraction. (It's really cool!)"
   ]
  },
  {
   "cell_type": "markdown",
   "id": "8e2b3ece",
   "metadata": {
    "papermill": {
     "duration": 0.078798,
     "end_time": "2024-08-12T03:35:33.856777",
     "exception": false,
     "start_time": "2024-08-12T03:35:33.777979",
     "status": "completed"
    },
    "tags": []
   },
   "source": [
    "---\n",
    "\n",
    "\n",
    "\n",
    "\n",
    "*Have questions or comments? Visit the [course discussion forum](https://www.kaggle.com/learn/computer-vision/discussion) to chat with other learners.*"
   ]
  }
 ],
 "metadata": {
  "jupytext": {
   "formats": "ipynb,md",
   "split_at_heading": true
  },
  "kaggle": {
   "accelerator": "gpu",
   "dataSources": [
    {
     "datasetId": 708136,
     "sourceId": 1338830,
     "sourceType": "datasetVersion"
    },
    {
     "datasetId": 701538,
     "sourceId": 1363948,
     "sourceType": "datasetVersion"
    },
    {
     "datasetId": 878523,
     "sourceId": 1495782,
     "sourceType": "datasetVersion"
    }
   ],
   "dockerImageVersionId": 30648,
   "isGpuEnabled": true,
   "isInternetEnabled": false,
   "language": "python",
   "sourceType": "notebook"
  },
  "kernelspec": {
   "display_name": "Python 3",
   "language": "python",
   "name": "python3"
  },
  "language_info": {
   "codemirror_mode": {
    "name": "ipython",
    "version": 3
   },
   "file_extension": ".py",
   "mimetype": "text/x-python",
   "name": "python",
   "nbconvert_exporter": "python",
   "pygments_lexer": "ipython3",
   "version": "3.10.13"
  },
  "papermill": {
   "default_parameters": {},
   "duration": 155.234769,
   "end_time": "2024-08-12T03:35:36.739593",
   "environment_variables": {},
   "exception": null,
   "input_path": "__notebook__.ipynb",
   "output_path": "__notebook__.ipynb",
   "parameters": {},
   "start_time": "2024-08-12T03:33:01.504824",
   "version": "2.5.0"
  }
 },
 "nbformat": 4,
 "nbformat_minor": 5
}
