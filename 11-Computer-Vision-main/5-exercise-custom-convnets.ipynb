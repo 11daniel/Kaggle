{
 "cells": [
  {
   "cell_type": "markdown",
   "id": "98f7ccee",
   "metadata": {
    "papermill": {
     "duration": 0.005398,
     "end_time": "2024-08-19T05:27:12.020586",
     "exception": false,
     "start_time": "2024-08-19T05:27:12.015188",
     "status": "completed"
    },
    "tags": []
   },
   "source": [
    "**This notebook is an exercise in the [Computer Vision](https://www.kaggle.com/learn/computer-vision) course.  You can reference the tutorial at [this link](https://www.kaggle.com/ryanholbrook/custom-convnets).**\n",
    "\n",
    "---\n"
   ]
  },
  {
   "cell_type": "markdown",
   "id": "0b5fce6b",
   "metadata": {
    "papermill": {
     "duration": 0.004593,
     "end_time": "2024-08-19T05:27:12.030302",
     "exception": false,
     "start_time": "2024-08-19T05:27:12.025709",
     "status": "completed"
    },
    "tags": []
   },
   "source": [
    "# Introduction #\n",
    "\n",
    "In these exercises, you'll build a custom convnet with performance competitive to the VGG16 model from Lesson 1.\n",
    "\n",
    "Get started by running the code cell below."
   ]
  },
  {
   "cell_type": "code",
   "execution_count": 1,
   "id": "f79c611c",
   "metadata": {
    "execution": {
     "iopub.execute_input": "2024-08-19T05:27:12.041360Z",
     "iopub.status.busy": "2024-08-19T05:27:12.041003Z",
     "iopub.status.idle": "2024-08-19T05:27:34.715232Z",
     "shell.execute_reply": "2024-08-19T05:27:34.714405Z"
    },
    "papermill": {
     "duration": 22.682597,
     "end_time": "2024-08-19T05:27:34.717672",
     "exception": false,
     "start_time": "2024-08-19T05:27:12.035075",
     "status": "completed"
    },
    "tags": []
   },
   "outputs": [
    {
     "name": "stderr",
     "output_type": "stream",
     "text": [
      "2024-08-19 05:27:14.545615: E external/local_xla/xla/stream_executor/cuda/cuda_dnn.cc:9261] Unable to register cuDNN factory: Attempting to register factory for plugin cuDNN when one has already been registered\n",
      "2024-08-19 05:27:14.545785: E external/local_xla/xla/stream_executor/cuda/cuda_fft.cc:607] Unable to register cuFFT factory: Attempting to register factory for plugin cuFFT when one has already been registered\n",
      "2024-08-19 05:27:14.679939: E external/local_xla/xla/stream_executor/cuda/cuda_blas.cc:1515] Unable to register cuBLAS factory: Attempting to register factory for plugin cuBLAS when one has already been registered\n"
     ]
    },
    {
     "name": "stdout",
     "output_type": "stream",
     "text": [
      "Found 5117 files belonging to 2 classes.\n",
      "Found 5051 files belonging to 2 classes.\n"
     ]
    }
   ],
   "source": [
    "# Setup feedback system\n",
    "from learntools.core import binder\n",
    "binder.bind(globals())\n",
    "from learntools.computer_vision.ex5 import *\n",
    "\n",
    "# Imports\n",
    "import os, warnings\n",
    "import matplotlib.pyplot as plt\n",
    "from matplotlib import gridspec\n",
    "\n",
    "import numpy as np\n",
    "import tensorflow as tf\n",
    "from tensorflow.keras.preprocessing import image_dataset_from_directory\n",
    "\n",
    "# Reproducability\n",
    "def set_seed(seed=31415):\n",
    "    np.random.seed(seed)\n",
    "    tf.random.set_seed(seed)\n",
    "    os.environ['PYTHONHASHSEED'] = str(seed)\n",
    "    os.environ['TF_DETERMINISTIC_OPS'] = '1'\n",
    "set_seed()\n",
    "\n",
    "# Set Matplotlib defaults\n",
    "plt.rc('figure', autolayout=True)\n",
    "plt.rc('axes', labelweight='bold', labelsize='large',\n",
    "       titleweight='bold', titlesize=18, titlepad=10)\n",
    "plt.rc('image', cmap='magma')\n",
    "warnings.filterwarnings(\"ignore\") # to clean up output cells\n",
    "\n",
    "\n",
    "# Load training and validation sets\n",
    "ds_train_ = image_dataset_from_directory(\n",
    "    '../input/car-or-truck/train',\n",
    "    labels='inferred',\n",
    "    label_mode='binary',\n",
    "    image_size=[128, 128],\n",
    "    interpolation='nearest',\n",
    "    batch_size=64,\n",
    "    shuffle=True,\n",
    ")\n",
    "ds_valid_ = image_dataset_from_directory(\n",
    "    '../input/car-or-truck/valid',\n",
    "    labels='inferred',\n",
    "    label_mode='binary',\n",
    "    image_size=[128, 128],\n",
    "    interpolation='nearest',\n",
    "    batch_size=64,\n",
    "    shuffle=False,\n",
    ")\n",
    "\n",
    "# Data Pipeline\n",
    "def convert_to_float(image, label):\n",
    "    image = tf.image.convert_image_dtype(image, dtype=tf.float32)\n",
    "    return image, label\n",
    "\n",
    "AUTOTUNE = tf.data.experimental.AUTOTUNE\n",
    "ds_train = (\n",
    "    ds_train_\n",
    "    .map(convert_to_float)\n",
    "    .cache()\n",
    "    .prefetch(buffer_size=AUTOTUNE)\n",
    ")\n",
    "ds_valid = (\n",
    "    ds_valid_\n",
    "    .map(convert_to_float)\n",
    "    .cache()\n",
    "    .prefetch(buffer_size=AUTOTUNE)\n",
    ")\n"
   ]
  },
  {
   "cell_type": "markdown",
   "id": "46a389de",
   "metadata": {
    "papermill": {
     "duration": 0.005052,
     "end_time": "2024-08-19T05:27:34.728282",
     "exception": false,
     "start_time": "2024-08-19T05:27:34.723230",
     "status": "completed"
    },
    "tags": []
   },
   "source": [
    "# Design a Convnet #\n",
    "\n",
    "Let's design a convolutional network with a block architecture like we saw in the tutorial. The model from the example had three blocks, each with a single convolutional layer. Its performance on the \"Car or Truck\" problem was okay, but far from what the pretrained VGG16 could achieve. It might be that our simple network lacks the ability to extract sufficiently complex features. We could try improving the model either by adding more blocks or by adding convolutions to the blocks we have.\n",
    "\n",
    "Let's go with the second approach. We'll keep the three block structure, but increase the number of `Conv2D` layer in the second block to two, and in the third block to three.\n",
    "\n",
    "<figure>\n",
    "<!-- <img src=\"./images/2-convmodel-2.png\" width=\"250\" alt=\"Diagram of a convolutional model.\"> -->\n",
    "<img src=\"https://storage.googleapis.com/kaggle-media/learn/images/Vko6nCK.png\" width=\"250\" alt=\"Diagram of a convolutional model.\">\n",
    "</figure>\n",
    "\n",
    "# 1) Define Model #\n",
    "\n",
    "Given the diagram above, complete the model by defining the layers of the third block."
   ]
  },
  {
   "cell_type": "code",
   "execution_count": 2,
   "id": "52f5b41e",
   "metadata": {
    "execution": {
     "iopub.execute_input": "2024-08-19T05:27:34.740149Z",
     "iopub.status.busy": "2024-08-19T05:27:34.739851Z",
     "iopub.status.idle": "2024-08-19T05:27:34.901152Z",
     "shell.execute_reply": "2024-08-19T05:27:34.900266Z"
    },
    "lines_to_next_cell": 0,
    "papermill": {
     "duration": 0.169895,
     "end_time": "2024-08-19T05:27:34.903461",
     "exception": false,
     "start_time": "2024-08-19T05:27:34.733566",
     "status": "completed"
    },
    "tags": []
   },
   "outputs": [
    {
     "data": {
      "application/javascript": [
       "parent.postMessage({\"jupyterEvent\": \"custom.exercise_interaction\", \"data\": {\"outcomeType\": 1, \"valueTowardsCompletion\": 0.3333333333333333, \"interactionType\": 1, \"questionType\": 2, \"questionId\": \"1_Q1\", \"learnToolsVersion\": \"0.3.4\", \"failureMessage\": \"\", \"exceptionClass\": \"\", \"trace\": \"\"}}, \"*\")"
      ],
      "text/plain": [
       "<IPython.core.display.Javascript object>"
      ]
     },
     "metadata": {},
     "output_type": "display_data"
    },
    {
     "data": {
      "text/markdown": [
       "<span style=\"color:#33cc33\">Correct</span>"
      ],
      "text/plain": [
       "Correct"
      ]
     },
     "metadata": {},
     "output_type": "display_data"
    }
   ],
   "source": [
    "from tensorflow import keras\n",
    "from tensorflow.keras import layers\n",
    "\n",
    "model = keras.Sequential([\n",
    "    # Block One\n",
    "    layers.Conv2D(filters=32, kernel_size=3, activation='relu', padding='same',\n",
    "                  input_shape=[128, 128, 3]),\n",
    "    layers.MaxPool2D(),\n",
    "\n",
    "    # Block Two\n",
    "    layers.Conv2D(filters=64, kernel_size=3, activation='relu', padding='same'),\n",
    "    layers.MaxPool2D(),\n",
    "\n",
    "    # Block Three\n",
    "    # YOUR CODE HERE\n",
    "    layers.Conv2D(filters=128, kernel_size=3, activation='relu', padding='same'),\n",
    "    layers.Conv2D(filters=128, kernel_size=3, activation='relu', padding='same'),\n",
    "    layers.MaxPool2D(),\n",
    "\n",
    "    # Head\n",
    "    layers.Flatten(),\n",
    "    layers.Dense(6, activation='relu'),\n",
    "    layers.Dropout(0.2),\n",
    "    layers.Dense(1, activation='sigmoid'),\n",
    "])\n",
    "\n",
    "# Check your answer\n",
    "q_1.check()"
   ]
  },
  {
   "cell_type": "code",
   "execution_count": 3,
   "id": "48eb97ee",
   "metadata": {
    "execution": {
     "iopub.execute_input": "2024-08-19T05:27:34.915864Z",
     "iopub.status.busy": "2024-08-19T05:27:34.915554Z",
     "iopub.status.idle": "2024-08-19T05:27:34.926512Z",
     "shell.execute_reply": "2024-08-19T05:27:34.925648Z"
    },
    "papermill": {
     "duration": 0.019268,
     "end_time": "2024-08-19T05:27:34.928360",
     "exception": false,
     "start_time": "2024-08-19T05:27:34.909092",
     "status": "completed"
    },
    "tags": []
   },
   "outputs": [
    {
     "data": {
      "application/javascript": [
       "parent.postMessage({\"jupyterEvent\": \"custom.exercise_interaction\", \"data\": {\"interactionType\": 2, \"questionType\": 2, \"questionId\": \"1_Q1\", \"learnToolsVersion\": \"0.3.4\", \"valueTowardsCompletion\": 0.0, \"failureMessage\": \"\", \"exceptionClass\": \"\", \"trace\": \"\", \"outcomeType\": 4}}, \"*\")"
      ],
      "text/plain": [
       "<IPython.core.display.Javascript object>"
      ]
     },
     "metadata": {},
     "output_type": "display_data"
    },
    {
     "data": {
      "text/markdown": [
       "<span style=\"color:#3366cc\">Hint:</span> You should add two `Conv2D` layers and then a `MaxPool2D` layer. They will be just the same as the other layers in the model, except for some of the parameter values."
      ],
      "text/plain": [
       "Hint: You should add two `Conv2D` layers and then a `MaxPool2D` layer. They will be just the same as the other layers in the model, except for some of the parameter values."
      ]
     },
     "metadata": {},
     "output_type": "display_data"
    },
    {
     "data": {
      "application/javascript": [
       "parent.postMessage({\"jupyterEvent\": \"custom.exercise_interaction\", \"data\": {\"interactionType\": 3, \"questionType\": 2, \"questionId\": \"1_Q1\", \"learnToolsVersion\": \"0.3.4\", \"valueTowardsCompletion\": 0.0, \"failureMessage\": \"\", \"exceptionClass\": \"\", \"trace\": \"\", \"outcomeType\": 4}}, \"*\")"
      ],
      "text/plain": [
       "<IPython.core.display.Javascript object>"
      ]
     },
     "metadata": {},
     "output_type": "display_data"
    },
    {
     "data": {
      "text/markdown": [
       "<span style=\"color:#33cc99\">Solution:</span> \n",
       "```python\n",
       "\n",
       "from tensorflow import keras\n",
       "from tensorflow.keras import layers\n",
       "\n",
       "model = keras.Sequential([\n",
       "    # Block One\n",
       "    layers.Conv2D(filters=32, kernel_size=3, activation='relu', padding='same',\n",
       "                  input_shape=[128, 128, 3]),\n",
       "    layers.MaxPool2D(),\n",
       "\n",
       "    # Block Two\n",
       "    layers.Conv2D(filters=64, kernel_size=3, activation='relu', padding='same'),\n",
       "    layers.MaxPool2D(),\n",
       "\n",
       "    # Block Three\n",
       "    layers.Conv2D(filters=128, kernel_size=3, activation='relu', padding='same'),\n",
       "    layers.Conv2D(filters=128, kernel_size=3, activation='relu', padding='same'),\n",
       "    layers.MaxPool2D(),\n",
       "\n",
       "    # Head\n",
       "    layers.Flatten(),\n",
       "    layers.Dense(6, activation='relu'),\n",
       "    layers.Dropout(0.2),\n",
       "    layers.Dense(1, activation='sigmoid'),\n",
       "])\n",
       "\n",
       "```"
      ],
      "text/plain": [
       "Solution: \n",
       "```python\n",
       "\n",
       "from tensorflow import keras\n",
       "from tensorflow.keras import layers\n",
       "\n",
       "model = keras.Sequential([\n",
       "    # Block One\n",
       "    layers.Conv2D(filters=32, kernel_size=3, activation='relu', padding='same',\n",
       "                  input_shape=[128, 128, 3]),\n",
       "    layers.MaxPool2D(),\n",
       "\n",
       "    # Block Two\n",
       "    layers.Conv2D(filters=64, kernel_size=3, activation='relu', padding='same'),\n",
       "    layers.MaxPool2D(),\n",
       "\n",
       "    # Block Three\n",
       "    layers.Conv2D(filters=128, kernel_size=3, activation='relu', padding='same'),\n",
       "    layers.Conv2D(filters=128, kernel_size=3, activation='relu', padding='same'),\n",
       "    layers.MaxPool2D(),\n",
       "\n",
       "    # Head\n",
       "    layers.Flatten(),\n",
       "    layers.Dense(6, activation='relu'),\n",
       "    layers.Dropout(0.2),\n",
       "    layers.Dense(1, activation='sigmoid'),\n",
       "])\n",
       "\n",
       "```"
      ]
     },
     "metadata": {},
     "output_type": "display_data"
    }
   ],
   "source": [
    "# Lines below will give you a hint or solution code\n",
    "q_1.hint()\n",
    "q_1.solution()"
   ]
  },
  {
   "cell_type": "markdown",
   "id": "d47ac4e4",
   "metadata": {
    "papermill": {
     "duration": 0.005809,
     "end_time": "2024-08-19T05:27:34.940372",
     "exception": false,
     "start_time": "2024-08-19T05:27:34.934563",
     "status": "completed"
    },
    "tags": []
   },
   "source": [
    "# 2) Compile #\n",
    "\n",
    "To prepare for training, compile the model with an appropriate loss and accuracy metric for the \"Car or Truck\" dataset."
   ]
  },
  {
   "cell_type": "code",
   "execution_count": 4,
   "id": "71753a26",
   "metadata": {
    "execution": {
     "iopub.execute_input": "2024-08-19T05:27:34.953518Z",
     "iopub.status.busy": "2024-08-19T05:27:34.953272Z",
     "iopub.status.idle": "2024-08-19T05:27:35.157486Z",
     "shell.execute_reply": "2024-08-19T05:27:35.156593Z"
    },
    "lines_to_next_cell": 0,
    "papermill": {
     "duration": 0.213333,
     "end_time": "2024-08-19T05:27:35.159720",
     "exception": false,
     "start_time": "2024-08-19T05:27:34.946387",
     "status": "completed"
    },
    "tags": []
   },
   "outputs": [
    {
     "data": {
      "application/javascript": [
       "parent.postMessage({\"jupyterEvent\": \"custom.exercise_interaction\", \"data\": {\"outcomeType\": 2, \"failureMessage\": \"The loss should be `'binary_crossentropy'`. You gave None\", \"interactionType\": 1, \"questionType\": 2, \"questionId\": \"2_Q2\", \"learnToolsVersion\": \"0.3.4\", \"valueTowardsCompletion\": 0.0, \"exceptionClass\": \"\", \"trace\": \"\"}}, \"*\")"
      ],
      "text/plain": [
       "<IPython.core.display.Javascript object>"
      ]
     },
     "metadata": {},
     "output_type": "display_data"
    },
    {
     "data": {
      "text/markdown": [
       "<span style=\"color:#cc3333\">Incorrect:</span> The loss should be `'binary_crossentropy'`. You gave None"
      ],
      "text/plain": [
       "Incorrect: The loss should be `'binary_crossentropy'`. You gave None"
      ]
     },
     "metadata": {},
     "output_type": "display_data"
    }
   ],
   "source": [
    "model.compile(\n",
    "    optimizer=tf.keras.optimizers.Adam(epsilon=0.01),\n",
    "    # YOUR CODE HERE: Add loss and metric\n",
    ")\n",
    "\n",
    "# Check your answer\n",
    "q_2.check()"
   ]
  },
  {
   "cell_type": "code",
   "execution_count": 5,
   "id": "115e62e8",
   "metadata": {
    "execution": {
     "iopub.execute_input": "2024-08-19T05:27:35.174444Z",
     "iopub.status.busy": "2024-08-19T05:27:35.173787Z",
     "iopub.status.idle": "2024-08-19T05:27:35.187302Z",
     "shell.execute_reply": "2024-08-19T05:27:35.186464Z"
    },
    "lines_to_next_cell": 0,
    "papermill": {
     "duration": 0.022999,
     "end_time": "2024-08-19T05:27:35.189345",
     "exception": false,
     "start_time": "2024-08-19T05:27:35.166346",
     "status": "completed"
    },
    "tags": []
   },
   "outputs": [
    {
     "data": {
      "application/javascript": [
       "parent.postMessage({\"jupyterEvent\": \"custom.exercise_interaction\", \"data\": {\"outcomeType\": 1, \"valueTowardsCompletion\": 0.3333333333333333, \"interactionType\": 1, \"questionType\": 2, \"questionId\": \"2_Q2\", \"learnToolsVersion\": \"0.3.4\", \"failureMessage\": \"\", \"exceptionClass\": \"\", \"trace\": \"\"}}, \"*\")"
      ],
      "text/plain": [
       "<IPython.core.display.Javascript object>"
      ]
     },
     "metadata": {},
     "output_type": "display_data"
    },
    {
     "data": {
      "text/markdown": [
       "<span style=\"color:#33cc33\">Correct</span>"
      ],
      "text/plain": [
       "Correct"
      ]
     },
     "metadata": {},
     "output_type": "display_data"
    }
   ],
   "source": [
    "model.compile(\n",
    "    optimizer=tf.keras.optimizers.Adam(epsilon=0.01),\n",
    "    loss='binary_crossentropy',\n",
    "    metrics=['binary_accuracy'],\n",
    ")\n",
    "q_2.assert_check_passed()"
   ]
  },
  {
   "cell_type": "code",
   "execution_count": 6,
   "id": "a5cf63bf",
   "metadata": {
    "execution": {
     "iopub.execute_input": "2024-08-19T05:27:35.204832Z",
     "iopub.status.busy": "2024-08-19T05:27:35.204037Z",
     "iopub.status.idle": "2024-08-19T05:27:35.214551Z",
     "shell.execute_reply": "2024-08-19T05:27:35.213736Z"
    },
    "lines_to_next_cell": 0,
    "papermill": {
     "duration": 0.020193,
     "end_time": "2024-08-19T05:27:35.216427",
     "exception": false,
     "start_time": "2024-08-19T05:27:35.196234",
     "status": "completed"
    },
    "tags": []
   },
   "outputs": [
    {
     "data": {
      "application/javascript": [
       "parent.postMessage({\"jupyterEvent\": \"custom.exercise_interaction\", \"data\": {\"interactionType\": 2, \"questionType\": 2, \"questionId\": \"2_Q2\", \"learnToolsVersion\": \"0.3.4\", \"valueTowardsCompletion\": 0.0, \"failureMessage\": \"\", \"exceptionClass\": \"\", \"trace\": \"\", \"outcomeType\": 4}}, \"*\")"
      ],
      "text/plain": [
       "<IPython.core.display.Javascript object>"
      ]
     },
     "metadata": {},
     "output_type": "display_data"
    },
    {
     "data": {
      "text/markdown": [
       "<span style=\"color:#3366cc\">Hint:</span> This is a *binary* classification problem."
      ],
      "text/plain": [
       "Hint: This is a *binary* classification problem."
      ]
     },
     "metadata": {},
     "output_type": "display_data"
    },
    {
     "data": {
      "application/javascript": [
       "parent.postMessage({\"jupyterEvent\": \"custom.exercise_interaction\", \"data\": {\"interactionType\": 3, \"questionType\": 2, \"questionId\": \"2_Q2\", \"learnToolsVersion\": \"0.3.4\", \"valueTowardsCompletion\": 0.0, \"failureMessage\": \"\", \"exceptionClass\": \"\", \"trace\": \"\", \"outcomeType\": 4}}, \"*\")"
      ],
      "text/plain": [
       "<IPython.core.display.Javascript object>"
      ]
     },
     "metadata": {},
     "output_type": "display_data"
    },
    {
     "data": {
      "text/markdown": [
       "<span style=\"color:#33cc99\">Solution:</span> \n",
       "```python\n",
       "\n",
       "model.compile(\n",
       "    optimizer=tf.keras.optimizers.Adam(learning_rate=0.0001),\n",
       "    loss='binary_crossentropy',\n",
       "    metrics=['binary_accuracy'],\n",
       ")\n",
       "\n",
       "```"
      ],
      "text/plain": [
       "Solution: \n",
       "```python\n",
       "\n",
       "model.compile(\n",
       "    optimizer=tf.keras.optimizers.Adam(learning_rate=0.0001),\n",
       "    loss='binary_crossentropy',\n",
       "    metrics=['binary_accuracy'],\n",
       ")\n",
       "\n",
       "```"
      ]
     },
     "metadata": {},
     "output_type": "display_data"
    }
   ],
   "source": [
    "# Lines below will give you a hint or solution code\n",
    "q_2.hint()\n",
    "q_2.solution()"
   ]
  },
  {
   "cell_type": "markdown",
   "id": "c6fcc6b3",
   "metadata": {
    "papermill": {
     "duration": 0.009507,
     "end_time": "2024-08-19T05:27:35.233358",
     "exception": false,
     "start_time": "2024-08-19T05:27:35.223851",
     "status": "completed"
    },
    "tags": []
   },
   "source": [
    "Finally, let's test the performance of this new model. First run this cell to fit the model to the training set."
   ]
  },
  {
   "cell_type": "code",
   "execution_count": 7,
   "id": "217b072e",
   "metadata": {
    "execution": {
     "iopub.execute_input": "2024-08-19T05:27:35.249772Z",
     "iopub.status.busy": "2024-08-19T05:27:35.249091Z",
     "iopub.status.idle": "2024-08-19T05:30:29.595038Z",
     "shell.execute_reply": "2024-08-19T05:30:29.594190Z"
    },
    "papermill": {
     "duration": 174.356483,
     "end_time": "2024-08-19T05:30:29.597148",
     "exception": false,
     "start_time": "2024-08-19T05:27:35.240665",
     "status": "completed"
    },
    "tags": []
   },
   "outputs": [
    {
     "name": "stdout",
     "output_type": "stream",
     "text": [
      "Epoch 1/50\n"
     ]
    },
    {
     "name": "stderr",
     "output_type": "stream",
     "text": [
      "WARNING: All log messages before absl::InitializeLog() is called are written to STDERR\n",
      "I0000 00:00:1724045259.489229      75 device_compiler.h:186] Compiled cluster using XLA!  This line is logged at most once for the lifetime of the process.\n"
     ]
    },
    {
     "name": "stdout",
     "output_type": "stream",
     "text": [
      "80/80 [==============================] - 17s 147ms/step - loss: 0.6725 - binary_accuracy: 0.5794 - val_loss: 0.6607 - val_binary_accuracy: 0.5785\n",
      "Epoch 2/50\n",
      "80/80 [==============================] - 3s 40ms/step - loss: 0.6559 - binary_accuracy: 0.6037 - val_loss: 0.6505 - val_binary_accuracy: 0.5848\n",
      "Epoch 3/50\n",
      "80/80 [==============================] - 3s 40ms/step - loss: 0.6408 - binary_accuracy: 0.6318 - val_loss: 0.6267 - val_binary_accuracy: 0.6458\n",
      "Epoch 4/50\n",
      "80/80 [==============================] - 3s 40ms/step - loss: 0.6243 - binary_accuracy: 0.6476 - val_loss: 0.6157 - val_binary_accuracy: 0.6569\n",
      "Epoch 5/50\n",
      "80/80 [==============================] - 3s 40ms/step - loss: 0.6146 - binary_accuracy: 0.6607 - val_loss: 0.6081 - val_binary_accuracy: 0.6628\n",
      "Epoch 6/50\n",
      "80/80 [==============================] - 3s 40ms/step - loss: 0.6050 - binary_accuracy: 0.6805 - val_loss: 0.5945 - val_binary_accuracy: 0.6816\n",
      "Epoch 7/50\n",
      "80/80 [==============================] - 3s 40ms/step - loss: 0.5913 - binary_accuracy: 0.6863 - val_loss: 0.5819 - val_binary_accuracy: 0.6965\n",
      "Epoch 8/50\n",
      "80/80 [==============================] - 3s 40ms/step - loss: 0.5762 - binary_accuracy: 0.7069 - val_loss: 0.5738 - val_binary_accuracy: 0.7024\n",
      "Epoch 9/50\n",
      "80/80 [==============================] - 3s 40ms/step - loss: 0.5535 - binary_accuracy: 0.7184 - val_loss: 0.5549 - val_binary_accuracy: 0.7137\n",
      "Epoch 10/50\n",
      "80/80 [==============================] - 3s 40ms/step - loss: 0.5361 - binary_accuracy: 0.7385 - val_loss: 0.5444 - val_binary_accuracy: 0.7220\n",
      "Epoch 11/50\n",
      "80/80 [==============================] - 3s 40ms/step - loss: 0.5025 - binary_accuracy: 0.7624 - val_loss: 0.5088 - val_binary_accuracy: 0.7626\n",
      "Epoch 12/50\n",
      "80/80 [==============================] - 3s 40ms/step - loss: 0.4723 - binary_accuracy: 0.7884 - val_loss: 0.4910 - val_binary_accuracy: 0.7699\n",
      "Epoch 13/50\n",
      "80/80 [==============================] - 3s 40ms/step - loss: 0.4392 - binary_accuracy: 0.8030 - val_loss: 0.4754 - val_binary_accuracy: 0.7834\n",
      "Epoch 14/50\n",
      "80/80 [==============================] - 3s 40ms/step - loss: 0.4061 - binary_accuracy: 0.8249 - val_loss: 0.4739 - val_binary_accuracy: 0.7852\n",
      "Epoch 15/50\n",
      "80/80 [==============================] - 3s 40ms/step - loss: 0.3804 - binary_accuracy: 0.8329 - val_loss: 0.4499 - val_binary_accuracy: 0.7979\n",
      "Epoch 16/50\n",
      "80/80 [==============================] - 3s 40ms/step - loss: 0.3380 - binary_accuracy: 0.8550 - val_loss: 0.4375 - val_binary_accuracy: 0.8058\n",
      "Epoch 17/50\n",
      "80/80 [==============================] - 3s 40ms/step - loss: 0.3202 - binary_accuracy: 0.8652 - val_loss: 0.4666 - val_binary_accuracy: 0.8036\n",
      "Epoch 18/50\n",
      "80/80 [==============================] - 3s 40ms/step - loss: 0.2987 - binary_accuracy: 0.8775 - val_loss: 0.4737 - val_binary_accuracy: 0.8044\n",
      "Epoch 19/50\n",
      "80/80 [==============================] - 3s 40ms/step - loss: 0.2732 - binary_accuracy: 0.8919 - val_loss: 0.4295 - val_binary_accuracy: 0.8204\n",
      "Epoch 20/50\n",
      "80/80 [==============================] - 3s 40ms/step - loss: 0.2704 - binary_accuracy: 0.8851 - val_loss: 0.5331 - val_binary_accuracy: 0.7349\n",
      "Epoch 21/50\n",
      "80/80 [==============================] - 3s 40ms/step - loss: 0.2926 - binary_accuracy: 0.8675 - val_loss: 0.4631 - val_binary_accuracy: 0.7911\n",
      "Epoch 22/50\n",
      "80/80 [==============================] - 3s 40ms/step - loss: 0.2305 - binary_accuracy: 0.9037 - val_loss: 0.4501 - val_binary_accuracy: 0.8129\n",
      "Epoch 23/50\n",
      "80/80 [==============================] - 3s 40ms/step - loss: 0.2005 - binary_accuracy: 0.9183 - val_loss: 0.5118 - val_binary_accuracy: 0.8093\n",
      "Epoch 24/50\n",
      "80/80 [==============================] - 3s 40ms/step - loss: 0.1761 - binary_accuracy: 0.9328 - val_loss: 0.5012 - val_binary_accuracy: 0.7860\n",
      "Epoch 25/50\n",
      "80/80 [==============================] - 3s 40ms/step - loss: 0.1767 - binary_accuracy: 0.9295 - val_loss: 0.4973 - val_binary_accuracy: 0.7860\n",
      "Epoch 26/50\n",
      "80/80 [==============================] - 3s 40ms/step - loss: 0.1771 - binary_accuracy: 0.9281 - val_loss: 0.4821 - val_binary_accuracy: 0.8289\n",
      "Epoch 27/50\n",
      "80/80 [==============================] - 3s 40ms/step - loss: 0.1855 - binary_accuracy: 0.9281 - val_loss: 0.5841 - val_binary_accuracy: 0.8181\n",
      "Epoch 28/50\n",
      "80/80 [==============================] - 3s 40ms/step - loss: 0.1334 - binary_accuracy: 0.9480 - val_loss: 0.8034 - val_binary_accuracy: 0.8000\n",
      "Epoch 29/50\n",
      "80/80 [==============================] - 3s 40ms/step - loss: 0.1165 - binary_accuracy: 0.9551 - val_loss: 0.7178 - val_binary_accuracy: 0.8212\n",
      "Epoch 30/50\n",
      "80/80 [==============================] - 3s 40ms/step - loss: 0.1080 - binary_accuracy: 0.9584 - val_loss: 0.7397 - val_binary_accuracy: 0.8188\n",
      "Epoch 31/50\n",
      "80/80 [==============================] - 3s 40ms/step - loss: 0.0938 - binary_accuracy: 0.9679 - val_loss: 0.5795 - val_binary_accuracy: 0.8262\n",
      "Epoch 32/50\n",
      "80/80 [==============================] - 3s 40ms/step - loss: 0.0856 - binary_accuracy: 0.9715 - val_loss: 0.6369 - val_binary_accuracy: 0.8418\n",
      "Epoch 33/50\n",
      "80/80 [==============================] - 3s 40ms/step - loss: 0.1005 - binary_accuracy: 0.9615 - val_loss: 0.5547 - val_binary_accuracy: 0.8412\n",
      "Epoch 34/50\n",
      "80/80 [==============================] - 3s 40ms/step - loss: 0.0944 - binary_accuracy: 0.9648 - val_loss: 0.6850 - val_binary_accuracy: 0.8361\n",
      "Epoch 35/50\n",
      "80/80 [==============================] - 3s 40ms/step - loss: 0.0792 - binary_accuracy: 0.9711 - val_loss: 0.6103 - val_binary_accuracy: 0.8331\n",
      "Epoch 36/50\n",
      "80/80 [==============================] - 3s 40ms/step - loss: 0.1041 - binary_accuracy: 0.9640 - val_loss: 0.5618 - val_binary_accuracy: 0.8398\n",
      "Epoch 37/50\n",
      "80/80 [==============================] - 3s 40ms/step - loss: 0.0950 - binary_accuracy: 0.9654 - val_loss: 0.5166 - val_binary_accuracy: 0.8216\n",
      "Epoch 38/50\n",
      "80/80 [==============================] - 3s 40ms/step - loss: 0.0777 - binary_accuracy: 0.9707 - val_loss: 0.6334 - val_binary_accuracy: 0.7985\n",
      "Epoch 39/50\n",
      "80/80 [==============================] - 3s 40ms/step - loss: 0.0732 - binary_accuracy: 0.9748 - val_loss: 0.6455 - val_binary_accuracy: 0.8454\n",
      "Epoch 40/50\n",
      "80/80 [==============================] - 3s 40ms/step - loss: 0.0533 - binary_accuracy: 0.9814 - val_loss: 0.6268 - val_binary_accuracy: 0.8517\n",
      "Epoch 41/50\n",
      "80/80 [==============================] - 3s 40ms/step - loss: 0.0490 - binary_accuracy: 0.9834 - val_loss: 0.6585 - val_binary_accuracy: 0.8444\n",
      "Epoch 42/50\n",
      "80/80 [==============================] - 3s 40ms/step - loss: 0.0397 - binary_accuracy: 0.9867 - val_loss: 0.7577 - val_binary_accuracy: 0.8450\n",
      "Epoch 43/50\n",
      "80/80 [==============================] - 3s 40ms/step - loss: 0.0323 - binary_accuracy: 0.9881 - val_loss: 0.8140 - val_binary_accuracy: 0.8442\n",
      "Epoch 44/50\n",
      "80/80 [==============================] - 3s 41ms/step - loss: 0.0280 - binary_accuracy: 0.9920 - val_loss: 1.0325 - val_binary_accuracy: 0.8390\n",
      "Epoch 45/50\n",
      "80/80 [==============================] - 3s 40ms/step - loss: 0.0278 - binary_accuracy: 0.9900 - val_loss: 0.8417 - val_binary_accuracy: 0.8452\n",
      "Epoch 46/50\n",
      "80/80 [==============================] - 3s 40ms/step - loss: 0.0264 - binary_accuracy: 0.9926 - val_loss: 1.1008 - val_binary_accuracy: 0.8373\n",
      "Epoch 47/50\n",
      "80/80 [==============================] - 3s 40ms/step - loss: 0.0220 - binary_accuracy: 0.9939 - val_loss: 0.9233 - val_binary_accuracy: 0.8470\n",
      "Epoch 48/50\n",
      "80/80 [==============================] - 3s 40ms/step - loss: 0.0233 - binary_accuracy: 0.9932 - val_loss: 1.0042 - val_binary_accuracy: 0.8402\n",
      "Epoch 49/50\n",
      "80/80 [==============================] - 3s 40ms/step - loss: 0.0222 - binary_accuracy: 0.9951 - val_loss: 1.1533 - val_binary_accuracy: 0.8416\n",
      "Epoch 50/50\n",
      "80/80 [==============================] - 3s 40ms/step - loss: 0.0227 - binary_accuracy: 0.9932 - val_loss: 0.9615 - val_binary_accuracy: 0.8398\n"
     ]
    }
   ],
   "source": [
    "history = model.fit(\n",
    "    ds_train,\n",
    "    validation_data=ds_valid,\n",
    "    epochs=50,\n",
    ")"
   ]
  },
  {
   "cell_type": "markdown",
   "id": "d183c9c4",
   "metadata": {
    "papermill": {
     "duration": 0.177066,
     "end_time": "2024-08-19T05:30:29.950050",
     "exception": false,
     "start_time": "2024-08-19T05:30:29.772984",
     "status": "completed"
    },
    "tags": []
   },
   "source": [
    "And now run the cell below to plot the loss and metric curves for this training run."
   ]
  },
  {
   "cell_type": "code",
   "execution_count": 8,
   "id": "3291789b",
   "metadata": {
    "execution": {
     "iopub.execute_input": "2024-08-19T05:30:30.300315Z",
     "iopub.status.busy": "2024-08-19T05:30:30.299939Z",
     "iopub.status.idle": "2024-08-19T05:30:30.944698Z",
     "shell.execute_reply": "2024-08-19T05:30:30.943761Z"
    },
    "papermill": {
     "duration": 0.822025,
     "end_time": "2024-08-19T05:30:30.946643",
     "exception": false,
     "start_time": "2024-08-19T05:30:30.124618",
     "status": "completed"
    },
    "tags": []
   },
   "outputs": [
    {
     "data": {
      "image/png": "[encoded data removed]",
      "text/plain": [
       "<Figure size 640x480 with 1 Axes>"
      ]
     },
     "metadata": {},
     "output_type": "display_data"
    },
    {
     "data": {
      "image/png": "[encoded data removed]",
      "text/plain": [
       "<Figure size 640x480 with 1 Axes>"
      ]
     },
     "metadata": {},
     "output_type": "display_data"
    }
   ],
   "source": [
    "import pandas as pd\n",
    "history_frame = pd.DataFrame(history.history)\n",
    "history_frame.loc[:, ['loss', 'val_loss']].plot()\n",
    "history_frame.loc[:, ['binary_accuracy', 'val_binary_accuracy']].plot();"
   ]
  },
  {
   "cell_type": "markdown",
   "id": "a771bb41",
   "metadata": {
    "papermill": {
     "duration": 0.177046,
     "end_time": "2024-08-19T05:30:31.300249",
     "exception": false,
     "start_time": "2024-08-19T05:30:31.123203",
     "status": "completed"
    },
    "tags": []
   },
   "source": [
    "# 3) Train the Model #\n",
    "\n",
    "How would you interpret these training curves? Did this model improve upon the model from the tutorial?"
   ]
  },
  {
   "cell_type": "code",
   "execution_count": 9,
   "id": "72302985",
   "metadata": {
    "execution": {
     "iopub.execute_input": "2024-08-19T05:30:31.656831Z",
     "iopub.status.busy": "2024-08-19T05:30:31.656452Z",
     "iopub.status.idle": "2024-08-19T05:30:31.664064Z",
     "shell.execute_reply": "2024-08-19T05:30:31.663161Z"
    },
    "lines_to_next_cell": 0,
    "papermill": {
     "duration": 0.188154,
     "end_time": "2024-08-19T05:30:31.666038",
     "exception": false,
     "start_time": "2024-08-19T05:30:31.477884",
     "status": "completed"
    },
    "tags": []
   },
   "outputs": [
    {
     "data": {
      "application/javascript": [
       "parent.postMessage({\"jupyterEvent\": \"custom.exercise_interaction\", \"data\": {\"outcomeType\": 1, \"valueTowardsCompletion\": 0.3333333333333333, \"interactionType\": 1, \"questionType\": 4, \"questionId\": \"3_Q3\", \"learnToolsVersion\": \"0.3.4\", \"failureMessage\": \"\", \"exceptionClass\": \"\", \"trace\": \"\"}}, \"*\")"
      ],
      "text/plain": [
       "<IPython.core.display.Javascript object>"
      ]
     },
     "metadata": {},
     "output_type": "display_data"
    },
    {
     "data": {
      "text/markdown": [
       "<span style=\"color:#33cc33\">Correct:</span> \n",
       "\n",
       "\n",
       "The learning curves for the model from the tutorial diverged fairly rapidly. This would indicate that it was prone to overfitting and in need of some regularization. The additional layer in our new model would make it even more prone to overfitting. However, adding some regularization with the `Dropout` layer helped prevent this. These changes improved the validation accuracy of the model by several points.\n"
      ],
      "text/plain": [
       "Correct: \n",
       "\n",
       "\n",
       "The learning curves for the model from the tutorial diverged fairly rapidly. This would indicate that it was prone to overfitting and in need of some regularization. The additional layer in our new model would make it even more prone to overfitting. However, adding some regularization with the `Dropout` layer helped prevent this. These changes improved the validation accuracy of the model by several points."
      ]
     },
     "metadata": {},
     "output_type": "display_data"
    }
   ],
   "source": [
    "# View the solution (Run this code cell to receive credit!)\n",
    "q_3.check()"
   ]
  },
  {
   "cell_type": "markdown",
   "id": "5f42a187",
   "metadata": {
    "papermill": {
     "duration": 0.176273,
     "end_time": "2024-08-19T05:30:32.018460",
     "exception": false,
     "start_time": "2024-08-19T05:30:31.842187",
     "status": "completed"
    },
    "tags": []
   },
   "source": [
    "# Conclusion #\n",
    "\n",
    "These exercises showed you how to design a custom convolutional network to solve a specific classification problem. Though most models these days will be built on top of a pretrained base, it certain circumstances a smaller custom convnet might still be preferable -- such as with a smaller or unusual dataset or when computing resources are very limited. As you saw here, for certain problems they can perform just as well as a pretrained model.\n",
    "\n",
    "# Keep Going #\n",
    "\n",
    "Continue on to [**Lesson 6**](https://www.kaggle.com/ryanholbrook/data-augmentation), where you'll learn a widely-used technique that can give a boost to your training data: **data augmentation**."
   ]
  },
  {
   "cell_type": "markdown",
   "id": "8fe07861",
   "metadata": {
    "papermill": {
     "duration": 0.175447,
     "end_time": "2024-08-19T05:30:32.370074",
     "exception": false,
     "start_time": "2024-08-19T05:30:32.194627",
     "status": "completed"
    },
    "tags": []
   },
   "source": [
    "---\n",
    "\n",
    "\n",
    "\n",
    "\n",
    "*Have questions or comments? Visit the [course discussion forum](https://www.kaggle.com/learn/computer-vision/discussion) to chat with other learners.*"
   ]
  }
 ],
 "metadata": {
  "jupytext": {
   "formats": "md,ipynb"
  },
  "kaggle": {
   "accelerator": "gpu",
   "dataSources": [
    {
     "datasetId": 708136,
     "sourceId": 1338830,
     "sourceType": "datasetVersion"
    },
    {
     "datasetId": 701538,
     "sourceId": 1363948,
     "sourceType": "datasetVersion"
    },
    {
     "datasetId": 878523,
     "sourceId": 1495782,
     "sourceType": "datasetVersion"
    }
   ],
   "dockerImageVersionId": 30648,
   "isGpuEnabled": true,
   "isInternetEnabled": false,
   "language": "python",
   "sourceType": "notebook"
  },
  "kernelspec": {
   "display_name": "Python 3",
   "language": "python",
   "name": "python3"
  },
  "language_info": {
   "codemirror_mode": {
    "name": "ipython",
    "version": 3
   },
   "file_extension": ".py",
   "mimetype": "text/x-python",
   "name": "python",
   "nbconvert_exporter": "python",
   "pygments_lexer": "ipython3",
   "version": "3.10.13"
  },
  "papermill": {
   "default_parameters": {},
   "duration": 206.278894,
   "end_time": "2024-08-19T05:30:35.539016",
   "environment_variables": {},
   "exception": null,
   "input_path": "__notebook__.ipynb",
   "output_path": "__notebook__.ipynb",
   "parameters": {},
   "start_time": "2024-08-19T05:27:09.260122",
   "version": "2.5.0"
  }
 },
 "nbformat": 4,
 "nbformat_minor": 5
}
